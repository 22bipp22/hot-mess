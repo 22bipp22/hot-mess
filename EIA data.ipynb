{
 "cells": [
  {
   "cell_type": "code",
   "execution_count": 1,
   "metadata": {},
   "outputs": [],
   "source": [
    "#import dependencies\n",
    "\n",
    "import json\n",
    "import requests\n",
    "import pandas as pd\n",
    "import numpy as np\n",
    "\n",
    "from gina_config import api_key"
   ]
  },
  {
   "cell_type": "code",
   "execution_count": 2,
   "metadata": {},
   "outputs": [
    {
     "name": "stdout",
     "output_type": "stream",
     "text": [
      "<Response [200]>\n"
     ]
    }
   ],
   "source": [
    "url = \"http://api.eia.gov/category/?\"\n",
    "url = (f'{url}&api_key={api_key}&category_id=40382')\n",
    "\n",
    "print (requests.get(url))"
   ]
  },
  {
   "cell_type": "code",
   "execution_count": 3,
   "metadata": {
    "scrolled": true
   },
   "outputs": [],
   "source": [
    "response = requests.get(url).json()\n",
    "#print(json.dumps(response, indent=1, sort_keys=True))"
   ]
  },
  {
   "cell_type": "code",
   "execution_count": 4,
   "metadata": {},
   "outputs": [],
   "source": [
    "eia_data = response[\"category\"][\"childseries\"]\n",
    "#eia_data"
   ]
  },
  {
   "cell_type": "code",
   "execution_count": 6,
   "metadata": {
    "scrolled": true
   },
   "outputs": [
    {
     "name": "stdout",
     "output_type": "stream",
     "text": [
      "SEDS.SOTCB.AK.A\n",
      "SEDS.SOTCB.AL.A\n",
      "SEDS.SOTCB.AR.A\n",
      "SEDS.SOTCB.AZ.A\n",
      "SEDS.SOTCB.CA.A\n",
      "SEDS.SOTCB.CO.A\n",
      "SEDS.SOTCB.CT.A\n",
      "SEDS.SOTCB.DC.A\n",
      "SEDS.SOTCB.DE.A\n",
      "SEDS.SOTCB.FL.A\n",
      "SEDS.SOTCB.GA.A\n",
      "SEDS.SOTCB.HI.A\n",
      "SEDS.SOTCB.IA.A\n",
      "SEDS.SOTCB.ID.A\n",
      "SEDS.SOTCB.IL.A\n",
      "SEDS.SOTCB.IN.A\n",
      "SEDS.SOTCB.KS.A\n",
      "SEDS.SOTCB.KY.A\n",
      "SEDS.SOTCB.LA.A\n",
      "SEDS.SOTCB.MA.A\n",
      "SEDS.SOTCB.MD.A\n",
      "SEDS.SOTCB.ME.A\n",
      "SEDS.SOTCB.MI.A\n",
      "SEDS.SOTCB.MN.A\n",
      "SEDS.SOTCB.MO.A\n",
      "SEDS.SOTCB.MS.A\n",
      "SEDS.SOTCB.MT.A\n",
      "SEDS.SOTCB.NC.A\n",
      "SEDS.SOTCB.ND.A\n",
      "SEDS.SOTCB.NE.A\n",
      "SEDS.SOTCB.NH.A\n",
      "SEDS.SOTCB.NJ.A\n",
      "SEDS.SOTCB.NM.A\n",
      "SEDS.SOTCB.NV.A\n",
      "SEDS.SOTCB.NY.A\n",
      "SEDS.SOTCB.OH.A\n",
      "SEDS.SOTCB.OK.A\n",
      "SEDS.SOTCB.OR.A\n",
      "SEDS.SOTCB.PA.A\n",
      "SEDS.SOTCB.RI.A\n",
      "SEDS.SOTCB.SC.A\n",
      "SEDS.SOTCB.SD.A\n",
      "SEDS.SOTCB.TN.A\n",
      "SEDS.SOTCB.TX.A\n",
      "SEDS.SOTCB.US.A\n",
      "SEDS.SOTCB.UT.A\n",
      "SEDS.SOTCB.VA.A\n",
      "SEDS.SOTCB.VT.A\n",
      "SEDS.SOTCB.WA.A\n",
      "SEDS.SOTCB.WI.A\n",
      "SEDS.SOTCB.WV.A\n",
      "SEDS.SOTCB.WY.A\n"
     ]
    }
   ],
   "source": [
    "base_state_url = \"http://api.eia.gov/series/?\"\n",
    "\n",
    "index = range(0,52)\n",
    "\n",
    "state_series = []\n",
    "\n",
    "for index in index:\n",
    "    state_series_id = eia_data[index][\"series_id\"]\n",
    "    state_url = (f'{base_state_url}&api_key={api_key}&series_id={state_series_id}')\n",
    "    response = requests.get(state_url).json()\n",
    "    print(state_series_id)    \n"
   ]
  },
  {
   "cell_type": "code",
   "execution_count": 7,
   "metadata": {},
   "outputs": [
    {
     "name": "stdout",
     "output_type": "stream",
     "text": [
      "{'Name': 'Solar energy total consumption, Alaska', 'Series ID': 'SEDS.SOTCB.AK.A', 'State': 'USA-AK', '2008': 2, '2009': 3, '2010': 3, '2011': 3, '2012': 3, '2013': 3, '2014': 3, '2015': 3, '2016': 14, '2017': 20, '2018': 28}\n",
      "{'Name': 'Solar energy total consumption, Alabama', 'Series ID': 'SEDS.SOTCB.AL.A', 'State': 'USA-AL', '2008': 64, '2009': 62, '2010': 68, '2011': 71, '2012': 78, '2013': 97, '2014': 100, '2015': 101, '2016': 431, '2017': 1812, '2018': 3425}\n",
      "{'Name': 'Solar energy total consumption, Arkansas', 'Series ID': 'SEDS.SOTCB.AR.A', 'State': 'USA-AR', '2008': 53, '2009': 59, '2010': 80, '2011': 85, '2012': 100, '2013': 108, '2014': 111, '2015': 124, '2016': 372, '2017': 442, '2018': 2118}\n",
      "{'Name': 'Solar energy total consumption, Arizona', 'Series ID': 'SEDS.SOTCB.AZ.A', 'State': 'USA-AZ', '2008': 3112, '2009': 3445, '2010': 4518, '2011': 7604, '2012': 18096, '2013': 31405, '2014': 43572, '2015': 48236, '2016': 52862, '2017': 66326, '2018': 70800}\n",
      "{'Name': 'Solar energy total consumption, California', 'Series ID': 'SEDS.SOTCB.CA.A', 'State': 'USA-CA', '2008': 29985, '2009': 31297, '2010': 36006, '2011': 41816, '2012': 53911, '2013': 84832, '2014': 156494, '2015': 211876, '2016': 267580, '2017': 340408, '2018': 381733}\n",
      "{'Name': 'Solar energy total consumption, Colorado', 'Series ID': 'SEDS.SOTCB.CO.A', 'State': 'USA-CO', '2008': 819, '2009': 1148, '2010': 1808, '2011': 2865, '2012': 3886, '2013': 5186, '2014': 6046, '2015': 6271, '2016': 9509, '2017': 13974, '2018': 15338}\n",
      "{'Name': 'Solar energy total consumption, Connecticut', 'Series ID': 'SEDS.SOTCB.CT.A', 'State': 'USA-CT', '2008': 929, '2009': 1062, '2010': 1137, '2011': 1189, '2012': 1295, '2013': 1601, '2014': 2241, '2015': 2954, '2016': 4130, '2017': 5089, '2018': 6486}\n",
      "{'Name': 'Solar energy total consumption, District of Columbia', 'Series ID': 'SEDS.SOTCB.DC.A', 'State': 'USA-DC', '2008': 20, '2009': 22, '2010': 80, '2011': 203, '2012': 240, '2013': 253, '2014': 292, '2015': 304, '2016': 295, '2017': 481, '2018': 651}\n",
      "{'Name': 'Solar energy total consumption, Delaware', 'Series ID': 'SEDS.SOTCB.DE.A', 'State': 'USA-DE', '2008': 50, '2009': 85, '2010': 125, '2011': 383, '2012': 607, '2013': 1001, '2014': 1189, '2015': 1230, '2016': 1133, '2017': 1354, '2018': 1492}\n",
      "{'Name': 'Solar energy total consumption, Florida', 'Series ID': 'SEDS.SOTCB.FL.A', 'State': 'USA-FL', '2008': 23615, '2009': 23273, '2010': 24638, '2011': 25868, '2012': 27441, '2013': 28428, '2014': 29805, '2015': 30189, '2016': 30909, '2017': 38265, '2018': 53528}\n",
      "{'Name': 'Solar energy total consumption, Georgia', 'Series ID': 'SEDS.SOTCB.GA.A', 'State': 'USA-GA', '2008': 264, '2009': 293, '2010': 388, '2011': 536, '2012': 750, '2013': 1312, '2014': 2396, '2015': 2461, '2016': 10257, '2017': 20717, '2018': 20960}\n",
      "{'Name': 'Solar energy total consumption, Hawaii', 'Series ID': 'SEDS.SOTCB.HI.A', 'State': 'USA-HI', '2008': 1799, '2009': 2033, '2010': 2311, '2011': 2870, '2012': 4333, '2013': 6056, '2014': 7557, '2015': 8364, '2016': 9818, '2017': 12584, '2018': 13083}\n",
      "{'Name': 'Solar energy total consumption, Iowa', 'Series ID': 'SEDS.SOTCB.IA.A', 'State': 'USA-IA', '2008': 19, '2009': 32, '2010': 33, '2011': 34, '2012': 48, '2013': 87, '2014': 268, '2015': 419, '2016': 587, '2017': 906, '2018': 1291}\n",
      "{'Name': 'Solar energy total consumption, Idaho', 'Series ID': 'SEDS.SOTCB.ID.A', 'State': 'USA-ID', '2008': 20, '2009': 23, '2010': 29, '2011': 29, '2012': 47, '2013': 62, '2014': 64, '2015': 81, '2016': 390, '2017': 4405, '2018': 5388}\n",
      "{'Name': 'Solar energy total consumption, Illinois', 'Series ID': 'SEDS.SOTCB.IL.A', 'State': 'USA-IL', '2008': 1054, '2009': 1105, '2010': 1286, '2011': 1322, '2012': 1565, '2013': 1797, '2014': 1894, '2015': 1940, '2016': 2036, '2017': 2288, '2018': 2747}\n",
      "{'Name': 'Solar energy total consumption, Indiana', 'Series ID': 'SEDS.SOTCB.IN.A', 'State': 'USA-IN', '2008': 102, '2009': 128, '2010': 134, '2011': 168, '2012': 185, '2013': 488, '2014': 1205, '2015': 1714, '2016': 2391, '2017': 3032, '2018': 3694}\n",
      "{'Name': 'Solar energy total consumption, Kansas', 'Series ID': 'SEDS.SOTCB.KS.A', 'State': 'USA-KS', '2008': 23, '2009': 24, '2010': 28, '2011': 29, '2012': 39, '2013': 54, '2014': 56, '2015': 87, '2016': 125, '2017': 231, '2018': 345}\n",
      "{'Name': 'Solar energy total consumption, Kentucky', 'Series ID': 'SEDS.SOTCB.KY.A', 'State': 'USA-KY', '2008': 48, '2009': 60, '2010': 67, '2011': 86, '2012': 93, '2013': 184, '2014': 188, '2015': 198, '2016': 366, '2017': 481, '2018': 719}\n",
      "{'Name': 'Solar energy total consumption, Louisiana', 'Series ID': 'SEDS.SOTCB.LA.A', 'State': 'USA-LA', '2008': 79, '2009': 83, '2010': 113, '2011': 165, '2012': 319, '2013': 669, '2014': 1075, '2015': 1521, '2016': 1852, '2017': 1958, '2018': 2190}\n",
      "{'Name': 'Solar energy total consumption, Massachusetts', 'Series ID': 'SEDS.SOTCB.MA.A', 'State': 'USA-MA', '2008': 337, '2009': 446, '2010': 683, '2011': 1063, '2012': 2526, '2013': 4694, '2014': 9150, '2015': 12536, '2016': 17495, '2017': 21533, '2018': 28179}\n",
      "{'Name': 'Solar energy total consumption, Maryland', 'Series ID': 'SEDS.SOTCB.MD.A', 'State': 'USA-MD', '2008': 103, '2009': 136, '2010': 214, '2011': 556, '2012': 1432, '2013': 2224, '2014': 3449, '2015': 4376, '2016': 6834, '2017': 9348, '2018': 11457}\n",
      "{'Name': 'Solar energy total consumption, Maine', 'Series ID': 'SEDS.SOTCB.ME.A', 'State': 'USA-ME', '2008': 127, '2009': 127, '2010': 139, '2011': 141, '2012': 194, '2013': 265, '2014': 271, '2015': 323, '2016': 419, '2017': 578, '2018': 766}\n",
      "{'Name': 'Solar energy total consumption, Michigan', 'Series ID': 'SEDS.SOTCB.MI.A', 'State': 'USA-MI', '2008': 408, '2009': 432, '2010': 466, '2011': 568, '2012': 752, '2013': 765, '2014': 817, '2015': 854, '2016': 1090, '2017': 1693, '2018': 2307}\n",
      "{'Name': 'Solar energy total consumption, Minnesota', 'Series ID': 'SEDS.SOTCB.MN.A', 'State': 'USA-MN', '2008': 189, '2009': 203, '2010': 229, '2011': 243, '2012': 299, '2013': 343, '2014': 411, '2015': 473, '2016': 645, '2017': 6248, '2018': 10438}\n",
      "{'Name': 'Solar energy total consumption, Missouri', 'Series ID': 'SEDS.SOTCB.MO.A', 'State': 'USA-MO', '2008': 35, '2009': 29, '2010': 35, '2011': 49, '2012': 227, '2013': 518, '2014': 1189, '2015': 1542, '2016': 1876, '2017': 2433, '2018': 2980}\n",
      "{'Name': 'Solar energy total consumption, Mississippi', 'Series ID': 'SEDS.SOTCB.MS.A', 'State': 'USA-MS', '2008': 12, '2009': 12, '2010': 13, '2011': 17, '2012': 18, '2013': 34, '2014': 35, '2015': 29, '2016': 73, '2017': 903, '2018': 3080}\n",
      "{'Name': 'Solar energy total consumption, Montana', 'Series ID': 'SEDS.SOTCB.MT.A', 'State': 'USA-MT', '2008': 33, '2009': 31, '2010': 33, '2011': 32, '2012': 86, '2013': 115, '2014': 117, '2015': 85, '2016': 110, '2017': 275, '2018': 497}\n",
      "{'Name': 'Solar energy total consumption, North Carolina', 'Series ID': 'SEDS.SOTCB.NC.A', 'State': 'USA-NC', '2008': 269, '2009': 343, '2010': 429, '2011': 582, '2012': 1974, '2013': 4155, '2014': 7898, '2015': 13871, '2016': 33398, '2017': 49099, '2018': 57835}\n",
      "{'Name': 'Solar energy total consumption, North Dakota', 'Series ID': 'SEDS.SOTCB.ND.A', 'State': 'USA-ND', '2008': 3, '2009': 4, '2010': 4, '2011': 4, '2012': 6, '2013': 7, '2014': 7, '2015': 7, '2016': 7, '2017': 7, '2018': 8}\n",
      "{'Name': 'Solar energy total consumption, Nebraska', 'Series ID': 'SEDS.SOTCB.NE.A', 'State': 'USA-NE', '2008': 25, '2009': 25, '2010': 28, '2011': 31, '2012': 33, '2013': 37, '2014': 38, '2015': 41, '2016': 90, '2017': 220, '2018': 373}\n",
      "{'Name': 'Solar energy total consumption, New Hampshire', 'Series ID': 'SEDS.SOTCB.NH.A', 'State': 'USA-NH', '2008': 60, '2009': 68, '2010': 83, '2011': 96, '2012': 126, '2013': 169, '2014': 206, '2015': 292, '2016': 547, '2017': 876, '2018': 1057}\n",
      "{'Name': 'Solar energy total consumption, New Jersey', 'Series ID': 'SEDS.SOTCB.NJ.A', 'State': 'USA-NJ', '2008': 2631, '2009': 3350, '2010': 4910, '2011': 7854, '2012': 14103, '2013': 16749, '2014': 19683, '2015': 20969, '2016': 22265, '2017': 25634, '2018': 28242}\n",
      "{'Name': 'Solar energy total consumption, New Mexico', 'Series ID': 'SEDS.SOTCB.NM.A', 'State': 'USA-NM', '2008': 185, '2009': 208, '2010': 383, '2011': 1712, '2012': 3869, '2013': 4715, '2014': 6235, '2015': 7258, '2016': 8591, '2017': 13077, '2018': 14765}\n"
     ]
    },
    {
     "name": "stdout",
     "output_type": "stream",
     "text": [
      "{'Name': 'Solar energy total consumption, Nevada', 'Series ID': 'SEDS.SOTCB.NV.A', 'State': 'USA-NV', '2008': 2649, '2009': 2837, '2010': 3376, '2011': 4257, '2012': 6079, '2013': 8780, '2014': 11652, '2015': 18219, '2016': 33327, '2017': 43062, '2018': 48554}\n",
      "{'Name': 'Solar energy total consumption, New York', 'Series ID': 'SEDS.SOTCB.NY.A', 'State': 'USA-NY', '2008': 1348, '2009': 1475, '2010': 1735, '2011': 2134, '2012': 3231, '2013': 3860, '2014': 5298, '2015': 7731, '2016': 10677, '2017': 13922, '2018': 17694}\n",
      "{'Name': 'Solar energy total consumption, Ohio', 'Series ID': 'SEDS.SOTCB.OH.A', 'State': 'USA-OH', '2008': 202, '2009': 249, '2010': 438, '2011': 564, '2012': 1176, '2013': 1345, '2014': 1567, '2015': 1679, '2016': 1875, '2017': 2436, '2018': 2757}\n",
      "{'Name': 'Solar energy total consumption, Oklahoma', 'Series ID': 'SEDS.SOTCB.OK.A', 'State': 'USA-OK', '2008': 24, '2009': 25, '2010': 26, '2011': 31, '2012': 36, '2013': 48, '2014': 49, '2015': 71, '2016': 115, '2017': 382, '2018': 691}\n",
      "{'Name': 'Solar energy total consumption, Oregon', 'Series ID': 'SEDS.SOTCB.OR.A', 'State': 'USA-OR', '2008': 1250, '2009': 1392, '2010': 1569, '2011': 1692, '2012': 1938, '2013': 2139, '2014': 2326, '2015': 2433, '2016': 3143, '2017': 4831, '2018': 8472}\n",
      "{'Name': 'Solar energy total consumption, Pennsylvania', 'Series ID': 'SEDS.SOTCB.PA.A', 'State': 'USA-PA', '2008': 605, '2009': 738, '2010': 1435, '2011': 2552, '2012': 3122, '2013': 3511, '2014': 3708, '2015': 3759, '2016': 4072, '2017': 4686, '2018': 5116}\n",
      "{'Name': 'Solar energy total consumption, Rhode Island', 'Series ID': 'SEDS.SOTCB.RI.A', 'State': 'USA-RI', '2008': 65, '2009': 64, '2010': 64, '2011': 105, '2012': 154, '2013': 163, '2014': 240, '2015': 298, '2016': 450, '2017': 679, '2018': 1173}\n",
      "{'Name': 'Solar energy total consumption, South Carolina', 'Series ID': 'SEDS.SOTCB.SC.A', 'State': 'USA-SC', '2008': 31, '2009': 35, '2010': 38, '2011': 47, '2012': 53, '2013': 58, '2014': 117, '2015': 140, '2016': 412, '2017': 2037, '2018': 6949}\n",
      "{'Name': 'Solar energy total consumption, South Dakota', 'Series ID': 'SEDS.SOTCB.SD.A', 'State': 'USA-SD', '2008': 4, '2009': 5, '2010': 5, '2011': 5, '2012': 6, '2013': 6, '2014': 9, '2015': 10, '2016': 15, '2017': 32, '2018': 29}\n",
      "{'Name': 'Solar energy total consumption, Tennessee', 'Series ID': 'SEDS.SOTCB.TN.A', 'State': 'USA-TN', '2008': 37, '2009': 34, '2010': 50, '2011': 55, '2012': 173, '2013': 713, '2014': 856, '2015': 1294, '2016': 1546, '2017': 1679, '2018': 2378}\n",
      "{'Name': 'Solar energy total consumption, Texas', 'Series ID': 'SEDS.SOTCB.TX.A', 'State': 'USA-TX', '2008': 550, '2009': 622, '2010': 854, '2011': 1280, '2012': 2419, '2013': 3222, '2014': 4817, '2015': 6398, '2016': 10948, '2017': 25156, '2018': 36303}\n",
      "{'Name': 'Solar energy total consumption, United States', 'Series ID': 'SEDS.SOTCB.US.A', 'State': 'USA', '2008': 74207, '2009': 78178, '2010': 91282, '2011': 112429, '2012': 158961, '2013': 224524, '2014': 337543, '2015': 426867, '2016': 570368, '2017': 777084, '2018': 915513}\n",
      "{'Name': 'Solar energy total consumption, Utah', 'Series ID': 'SEDS.SOTCB.UT.A', 'State': 'USA-UT', '2008': 45, '2009': 58, '2010': 81, '2011': 113, '2012': 204, '2013': 282, '2014': 434, '2015': 980, '2016': 11167, '2017': 23097, '2018': 23896}\n",
      "{'Name': 'Solar energy total consumption, Virginia', 'Series ID': 'SEDS.SOTCB.VA.A', 'State': 'USA-VA', '2008': 454, '2009': 467, '2010': 507, '2011': 545, '2012': 627, '2013': 656, '2014': 730, '2015': 804, '2016': 1106, '2017': 4035, '2018': 8244}\n",
      "{'Name': 'Solar energy total consumption, Vermont', 'Series ID': 'SEDS.SOTCB.VT.A', 'State': 'USA-VT', '2008': 84, '2009': 97, '2010': 107, '2011': 173, '2012': 280, '2013': 461, '2014': 627, '2015': 1044, '2016': 1335, '2017': 2029, '2018': 2253}\n",
      "{'Name': 'Solar energy total consumption, Washington', 'Series ID': 'SEDS.SOTCB.WA.A', 'State': 'USA-WA', '2008': 108, '2009': 123, '2010': 155, '2011': 201, '2012': 270, '2013': 337, '2014': 471, '2015': 649, '2016': 958, '2017': 1201, '2018': 1507}\n",
      "{'Name': 'Solar energy total consumption, Wisconsin', 'Series ID': 'SEDS.SOTCB.WI.A', 'State': 'USA-WI', '2008': 227, '2009': 260, '2010': 294, '2011': 334, '2012': 421, '2013': 423, '2014': 468, '2015': 505, '2016': 584, '2017': 953, '2018': 1288}\n",
      "{'Name': 'Solar energy total consumption, West Virginia', 'Series ID': 'SEDS.SOTCB.WV.A', 'State': 'USA-WV', '2008': 46, '2009': 44, '2010': 46, '2011': 57, '2012': 76, '2013': 83, '2014': 85, '2015': 93, '2016': 104, '2017': 126, '2018': 140}\n",
      "{'Name': 'Solar energy total consumption, Wyoming', 'Series ID': 'SEDS.SOTCB.WY.A', 'State': 'USA-WY', '2008': 5, '2009': 4, '2010': 6, '2011': 6, '2012': 15, '2013': 24, '2014': 24, '2015': 27, '2016': 33, '2017': 45, '2018': 67}\n"
     ]
    }
   ],
   "source": [
    "base_state_url = \"http://api.eia.gov/series/?\"\n",
    "\n",
    "index = range(0,52)\n",
    "\n",
    "for index in index:\n",
    "    \n",
    "    state_series_id = eia_data[index][\"series_id\"]\n",
    "    state_url = (f'{base_state_url}&api_key={api_key}&series_id={state_series_id}')\n",
    "    response = requests.get(state_url).json()\n",
    "\n",
    "    layer1 = response[\"series\"]\n",
    "    layer2 = layer1[0]\n",
    "    \n",
    "    Name = layer2 [\"name\"]\n",
    "    ID = layer2 [\"series_id\"]\n",
    "    Location = layer2 [\"geography\"]\n",
    "\n",
    "    DataLayer = layer2 [\"data\"]\n",
    "\n",
    "#     for i in range (0,2):\n",
    "#         year = DataLayer[i][0]\n",
    "#         print(year)\n",
    "\n",
    "\n",
    "#     for i in range (0,2):\n",
    "#         year_value = DataLayer[i][1]\n",
    "#         print(year_value)\n",
    "\n",
    "    BTU08 = DataLayer[10][1]\n",
    "    BTU09 = DataLayer[9][1]\n",
    "    BTU10 = DataLayer[8][1]\n",
    "    BTU11 = DataLayer[7][1]\n",
    "    BTU12 = DataLayer[6][1]\n",
    "    BTU13 = DataLayer[5][1]\n",
    "    BTU14 = DataLayer[4][1]\n",
    "    BTU15 = DataLayer[3][1]\n",
    "    BTU16 = DataLayer[2][1]\n",
    "    BTU17 = DataLayer[1][1]\n",
    "    BTU18 = DataLayer[0][1]\n",
    "\n",
    "\n",
    "    data = {\n",
    "        \"Name\": Name,\n",
    "        \"Series ID\": ID,\n",
    "        \"State\": Location,\n",
    "        \"2008\": BTU08,\n",
    "        \"2009\": BTU09,\n",
    "        \"2010\": BTU10,\n",
    "        \"2011\": BTU11,\n",
    "        \"2012\": BTU12,\n",
    "        \"2013\": BTU13,\n",
    "        \"2014\": BTU14,\n",
    "        \"2015\": BTU15,\n",
    "        \"2016\": BTU16,\n",
    "        \"2017\": BTU17,\n",
    "        \"2018\": BTU18}\n",
    "    \n",
    "    print(data)"
   ]
  },
  {
   "cell_type": "code",
   "execution_count": 10,
   "metadata": {},
   "outputs": [
    {
     "data": {
      "text/html": [
       "<div>\n",
       "<style scoped>\n",
       "    .dataframe tbody tr th:only-of-type {\n",
       "        vertical-align: middle;\n",
       "    }\n",
       "\n",
       "    .dataframe tbody tr th {\n",
       "        vertical-align: top;\n",
       "    }\n",
       "\n",
       "    .dataframe thead th {\n",
       "        text-align: right;\n",
       "    }\n",
       "</style>\n",
       "<table border=\"1\" class=\"dataframe\">\n",
       "  <thead>\n",
       "    <tr style=\"text-align: right;\">\n",
       "      <th></th>\n",
       "      <th>Name</th>\n",
       "      <th>Series ID</th>\n",
       "      <th>State</th>\n",
       "      <th>2008</th>\n",
       "      <th>2009</th>\n",
       "      <th>2010</th>\n",
       "      <th>2011</th>\n",
       "      <th>2012</th>\n",
       "      <th>2013</th>\n",
       "      <th>2014</th>\n",
       "      <th>2015</th>\n",
       "      <th>2016</th>\n",
       "      <th>2017</th>\n",
       "      <th>2018</th>\n",
       "    </tr>\n",
       "  </thead>\n",
       "  <tbody>\n",
       "    <tr>\n",
       "      <th>0</th>\n",
       "      <td>Solar energy total consumption, Wyoming</td>\n",
       "      <td>SEDS.SOTCB.WY.A</td>\n",
       "      <td>USA-WY</td>\n",
       "      <td>5</td>\n",
       "      <td>4</td>\n",
       "      <td>6</td>\n",
       "      <td>6</td>\n",
       "      <td>15</td>\n",
       "      <td>24</td>\n",
       "      <td>24</td>\n",
       "      <td>27</td>\n",
       "      <td>33</td>\n",
       "      <td>45</td>\n",
       "      <td>67</td>\n",
       "    </tr>\n",
       "  </tbody>\n",
       "</table>\n",
       "</div>"
      ],
      "text/plain": [
       "                                      Name        Series ID   State  2008  \\\n",
       "0  Solar energy total consumption, Wyoming  SEDS.SOTCB.WY.A  USA-WY     5   \n",
       "\n",
       "   2009  2010  2011  2012  2013  2014  2015  2016  2017  2018  \n",
       "0     4     6     6    15    24    24    27    33    45    67  "
      ]
     },
     "execution_count": 10,
     "metadata": {},
     "output_type": "execute_result"
    }
   ],
   "source": [
    "production_df = pd.DataFrame(data, index = [0])\n",
    "production_df"
   ]
  },
  {
   "cell_type": "code",
   "execution_count": null,
   "metadata": {},
   "outputs": [],
   "source": []
  }
 ],
 "metadata": {
  "kernelspec": {
   "display_name": "Python [conda env:PythonData]",
   "language": "python",
   "name": "conda-env-PythonData-py"
  },
  "language_info": {
   "codemirror_mode": {
    "name": "ipython",
    "version": 3
   },
   "file_extension": ".py",
   "mimetype": "text/x-python",
   "name": "python",
   "nbconvert_exporter": "python",
   "pygments_lexer": "ipython3",
   "version": "3.8.5"
  }
 },
 "nbformat": 4,
 "nbformat_minor": 4
}
