{
 "cells": [
  {
   "cell_type": "code",
   "execution_count": 1,
   "metadata": {},
   "outputs": [],
   "source": [
    "import warnings\n",
    "warnings.filterwarnings('ignore')"
   ]
  },
  {
   "cell_type": "code",
   "execution_count": 2,
   "metadata": {},
   "outputs": [],
   "source": [
    "##Import dependencies\n",
    "%matplotlib inline\n",
    "import pandas as pd\n",
    "import scipy.stats as stats\n",
<<<<<<< HEAD
    "from matplotlib import pyplot as plt"
=======
    "from matplotlib import pyplot as plt\n",
    "from scipy.stats import linregress"
>>>>>>> e1fb8e11d20cc43a4afe87dc5e0db18febd8f353
   ]
  },
  {
   "cell_type": "code",
   "execution_count": 3,
   "metadata": {},
   "outputs": [],
   "source": [
    "##Bring in csv file for consumption data\n",
    "consumption = pd.read_csv(\"../input_data/consumption.csv\")\n",
    "\n",
    "#Bring in csv file for emissions data\n",
    "emissions = pd.read_csv(\"../input_data/emissions.csv\")\n"
   ]
  },
  {
   "cell_type": "markdown",
   "metadata": {},
   "source": [
    "# View and Prepare the Data"
   ]
  },
  {
   "cell_type": "code",
   "execution_count": 4,
   "metadata": {},
   "outputs": [
    {
     "data": {
      "text/html": [
       "<div>\n",
       "<style scoped>\n",
       "    .dataframe tbody tr th:only-of-type {\n",
       "        vertical-align: middle;\n",
       "    }\n",
       "\n",
       "    .dataframe tbody tr th {\n",
       "        vertical-align: top;\n",
       "    }\n",
       "\n",
       "    .dataframe thead th {\n",
       "        text-align: right;\n",
       "    }\n",
       "</style>\n",
       "<table border=\"1\" class=\"dataframe\">\n",
       "  <thead>\n",
       "    <tr style=\"text-align: right;\">\n",
       "      <th></th>\n",
       "      <th>Unnamed: 0</th>\n",
       "      <th>2008</th>\n",
       "      <th>2009</th>\n",
       "      <th>2010</th>\n",
       "      <th>2011</th>\n",
       "      <th>2012</th>\n",
       "      <th>2013</th>\n",
       "      <th>2014</th>\n",
       "      <th>2015</th>\n",
       "      <th>2016</th>\n",
       "      <th>2017</th>\n",
       "      <th>2018</th>\n",
       "    </tr>\n",
       "  </thead>\n",
       "  <tbody>\n",
       "    <tr>\n",
       "      <th>0</th>\n",
       "      <td>AL</td>\n",
       "      <td>64</td>\n",
       "      <td>62</td>\n",
       "      <td>68</td>\n",
       "      <td>71</td>\n",
       "      <td>78</td>\n",
       "      <td>97</td>\n",
       "      <td>100</td>\n",
       "      <td>101</td>\n",
       "      <td>431</td>\n",
       "      <td>1812</td>\n",
       "      <td>3425</td>\n",
       "    </tr>\n",
       "    <tr>\n",
       "      <th>1</th>\n",
       "      <td>AK</td>\n",
       "      <td>2</td>\n",
       "      <td>3</td>\n",
       "      <td>3</td>\n",
       "      <td>3</td>\n",
       "      <td>3</td>\n",
       "      <td>3</td>\n",
       "      <td>3</td>\n",
       "      <td>3</td>\n",
       "      <td>14</td>\n",
       "      <td>20</td>\n",
       "      <td>28</td>\n",
       "    </tr>\n",
       "    <tr>\n",
       "      <th>2</th>\n",
       "      <td>AZ</td>\n",
       "      <td>3112</td>\n",
       "      <td>3445</td>\n",
       "      <td>4518</td>\n",
       "      <td>7604</td>\n",
       "      <td>18096</td>\n",
       "      <td>31405</td>\n",
       "      <td>43572</td>\n",
       "      <td>48236</td>\n",
       "      <td>52862</td>\n",
       "      <td>66326</td>\n",
       "      <td>70800</td>\n",
       "    </tr>\n",
       "    <tr>\n",
       "      <th>3</th>\n",
       "      <td>AR</td>\n",
       "      <td>53</td>\n",
       "      <td>59</td>\n",
       "      <td>80</td>\n",
       "      <td>85</td>\n",
       "      <td>100</td>\n",
       "      <td>108</td>\n",
       "      <td>111</td>\n",
       "      <td>124</td>\n",
       "      <td>372</td>\n",
       "      <td>442</td>\n",
       "      <td>2118</td>\n",
       "    </tr>\n",
       "    <tr>\n",
       "      <th>4</th>\n",
       "      <td>CA</td>\n",
       "      <td>29985</td>\n",
       "      <td>31297</td>\n",
       "      <td>36006</td>\n",
       "      <td>41816</td>\n",
       "      <td>53911</td>\n",
       "      <td>84832</td>\n",
       "      <td>156494</td>\n",
       "      <td>211876</td>\n",
       "      <td>267580</td>\n",
       "      <td>340408</td>\n",
       "      <td>381733</td>\n",
       "    </tr>\n",
       "  </tbody>\n",
       "</table>\n",
       "</div>"
      ],
      "text/plain": [
       "  Unnamed: 0   2008   2009   2010   2011   2012   2013    2014    2015  \\\n",
       "0         AL     64     62     68     71     78     97     100     101   \n",
       "1         AK      2      3      3      3      3      3       3       3   \n",
       "2         AZ   3112   3445   4518   7604  18096  31405   43572   48236   \n",
       "3         AR     53     59     80     85    100    108     111     124   \n",
       "4         CA  29985  31297  36006  41816  53911  84832  156494  211876   \n",
       "\n",
       "     2016    2017    2018  \n",
       "0     431    1812    3425  \n",
       "1      14      20      28  \n",
       "2   52862   66326   70800  \n",
       "3     372     442    2118  \n",
       "4  267580  340408  381733  "
      ]
     },
     "execution_count": 4,
     "metadata": {},
     "output_type": "execute_result"
    }
   ],
   "source": [
    "##View the first 5 rows of consumption data\n",
    "consumption.head()"
   ]
  },
  {
   "cell_type": "code",
   "execution_count": 5,
   "metadata": {},
   "outputs": [
    {
     "data": {
      "text/html": [
       "<div>\n",
       "<style scoped>\n",
       "    .dataframe tbody tr th:only-of-type {\n",
       "        vertical-align: middle;\n",
       "    }\n",
       "\n",
       "    .dataframe tbody tr th {\n",
       "        vertical-align: top;\n",
       "    }\n",
       "\n",
       "    .dataframe thead th {\n",
       "        text-align: right;\n",
       "    }\n",
       "</style>\n",
       "<table border=\"1\" class=\"dataframe\">\n",
       "  <thead>\n",
       "    <tr style=\"text-align: right;\">\n",
       "      <th></th>\n",
       "      <th>State</th>\n",
       "      <th>2008</th>\n",
       "      <th>2009</th>\n",
       "      <th>2010</th>\n",
       "      <th>2011</th>\n",
       "      <th>2012</th>\n",
       "      <th>2013</th>\n",
       "      <th>2014</th>\n",
       "      <th>2015</th>\n",
       "      <th>2016</th>\n",
       "      <th>2017</th>\n",
       "    </tr>\n",
       "  </thead>\n",
       "  <tbody>\n",
       "    <tr>\n",
       "      <th>0</th>\n",
       "      <td>AL</td>\n",
       "      <td>139.666603</td>\n",
       "      <td>120.020443</td>\n",
       "      <td>132.722932</td>\n",
       "      <td>129.812612</td>\n",
       "      <td>123.039324</td>\n",
       "      <td>120.732885</td>\n",
       "      <td>123.080771</td>\n",
       "      <td>120.012608</td>\n",
       "      <td>114.872696</td>\n",
       "      <td>109.018634</td>\n",
       "    </tr>\n",
       "    <tr>\n",
       "      <th>1</th>\n",
       "      <td>AK</td>\n",
       "      <td>39.435905</td>\n",
       "      <td>37.788246</td>\n",
       "      <td>38.729384</td>\n",
       "      <td>38.585774</td>\n",
       "      <td>38.039447</td>\n",
       "      <td>35.975289</td>\n",
       "      <td>35.171091</td>\n",
       "      <td>36.067852</td>\n",
       "      <td>34.739390</td>\n",
       "      <td>34.295441</td>\n",
       "    </tr>\n",
       "    <tr>\n",
       "      <th>2</th>\n",
       "      <td>AZ</td>\n",
       "      <td>102.125070</td>\n",
       "      <td>93.252826</td>\n",
       "      <td>95.204594</td>\n",
       "      <td>93.282044</td>\n",
       "      <td>91.256850</td>\n",
       "      <td>95.060822</td>\n",
       "      <td>93.120620</td>\n",
       "      <td>90.856296</td>\n",
       "      <td>86.971877</td>\n",
       "      <td>86.137839</td>\n",
       "    </tr>\n",
       "    <tr>\n",
       "      <th>3</th>\n",
       "      <td>AR</td>\n",
       "      <td>64.059757</td>\n",
       "      <td>61.367031</td>\n",
       "      <td>65.723403</td>\n",
       "      <td>67.168798</td>\n",
       "      <td>65.940126</td>\n",
       "      <td>68.354108</td>\n",
       "      <td>68.985869</td>\n",
       "      <td>59.176044</td>\n",
       "      <td>62.319791</td>\n",
       "      <td>64.277677</td>\n",
       "    </tr>\n",
       "    <tr>\n",
       "      <th>4</th>\n",
       "      <td>CA</td>\n",
       "      <td>379.480916</td>\n",
       "      <td>366.184902</td>\n",
       "      <td>360.953079</td>\n",
       "      <td>346.864178</td>\n",
       "      <td>351.496006</td>\n",
       "      <td>354.219000</td>\n",
       "      <td>351.477053</td>\n",
       "      <td>359.290429</td>\n",
       "      <td>359.261859</td>\n",
       "      <td>360.913489</td>\n",
       "    </tr>\n",
       "  </tbody>\n",
       "</table>\n",
       "</div>"
      ],
      "text/plain": [
       "  State        2008        2009        2010        2011        2012  \\\n",
       "0    AL  139.666603  120.020443  132.722932  129.812612  123.039324   \n",
       "1    AK   39.435905   37.788246   38.729384   38.585774   38.039447   \n",
       "2    AZ  102.125070   93.252826   95.204594   93.282044   91.256850   \n",
       "3    AR   64.059757   61.367031   65.723403   67.168798   65.940126   \n",
       "4    CA  379.480916  366.184902  360.953079  346.864178  351.496006   \n",
       "\n",
       "         2013        2014        2015        2016        2017  \n",
       "0  120.732885  123.080771  120.012608  114.872696  109.018634  \n",
       "1   35.975289   35.171091   36.067852   34.739390   34.295441  \n",
       "2   95.060822   93.120620   90.856296   86.971877   86.137839  \n",
       "3   68.354108   68.985869   59.176044   62.319791   64.277677  \n",
       "4  354.219000  351.477053  359.290429  359.261859  360.913489  "
      ]
     },
     "execution_count": 5,
     "metadata": {},
     "output_type": "execute_result"
    }
   ],
   "source": [
    "##View the first 5 rows of emissions data\n",
    "emissions.head()"
   ]
  },
  {
   "cell_type": "code",
   "execution_count": 6,
   "metadata": {},
   "outputs": [
    {
     "data": {
      "text/html": [
       "<div>\n",
       "<style scoped>\n",
       "    .dataframe tbody tr th:only-of-type {\n",
       "        vertical-align: middle;\n",
       "    }\n",
       "\n",
       "    .dataframe tbody tr th {\n",
       "        vertical-align: top;\n",
       "    }\n",
       "\n",
       "    .dataframe thead th {\n",
       "        text-align: right;\n",
       "    }\n",
       "</style>\n",
       "<table border=\"1\" class=\"dataframe\">\n",
       "  <thead>\n",
       "    <tr style=\"text-align: right;\">\n",
       "      <th></th>\n",
       "      <th>State</th>\n",
       "      <th>2008</th>\n",
       "      <th>2009</th>\n",
       "      <th>2010</th>\n",
       "      <th>2011</th>\n",
       "      <th>2012</th>\n",
       "      <th>2013</th>\n",
       "      <th>2014</th>\n",
       "      <th>2015</th>\n",
       "      <th>2016</th>\n",
       "      <th>2017</th>\n",
       "    </tr>\n",
       "  </thead>\n",
       "  <tbody>\n",
       "    <tr>\n",
       "      <th>0</th>\n",
       "      <td>AL</td>\n",
       "      <td>64</td>\n",
       "      <td>62</td>\n",
       "      <td>68</td>\n",
       "      <td>71</td>\n",
       "      <td>78</td>\n",
       "      <td>97</td>\n",
       "      <td>100</td>\n",
       "      <td>101</td>\n",
       "      <td>431</td>\n",
       "      <td>1812</td>\n",
       "    </tr>\n",
       "    <tr>\n",
       "      <th>1</th>\n",
       "      <td>AK</td>\n",
       "      <td>2</td>\n",
       "      <td>3</td>\n",
       "      <td>3</td>\n",
       "      <td>3</td>\n",
       "      <td>3</td>\n",
       "      <td>3</td>\n",
       "      <td>3</td>\n",
       "      <td>3</td>\n",
       "      <td>14</td>\n",
       "      <td>20</td>\n",
       "    </tr>\n",
       "    <tr>\n",
       "      <th>2</th>\n",
       "      <td>AZ</td>\n",
       "      <td>3112</td>\n",
       "      <td>3445</td>\n",
       "      <td>4518</td>\n",
       "      <td>7604</td>\n",
       "      <td>18096</td>\n",
       "      <td>31405</td>\n",
       "      <td>43572</td>\n",
       "      <td>48236</td>\n",
       "      <td>52862</td>\n",
       "      <td>66326</td>\n",
       "    </tr>\n",
       "    <tr>\n",
       "      <th>3</th>\n",
       "      <td>AR</td>\n",
       "      <td>53</td>\n",
       "      <td>59</td>\n",
       "      <td>80</td>\n",
       "      <td>85</td>\n",
       "      <td>100</td>\n",
       "      <td>108</td>\n",
       "      <td>111</td>\n",
       "      <td>124</td>\n",
       "      <td>372</td>\n",
       "      <td>442</td>\n",
       "    </tr>\n",
       "    <tr>\n",
       "      <th>4</th>\n",
       "      <td>CA</td>\n",
       "      <td>29985</td>\n",
       "      <td>31297</td>\n",
       "      <td>36006</td>\n",
       "      <td>41816</td>\n",
       "      <td>53911</td>\n",
       "      <td>84832</td>\n",
       "      <td>156494</td>\n",
       "      <td>211876</td>\n",
       "      <td>267580</td>\n",
       "      <td>340408</td>\n",
       "    </tr>\n",
       "  </tbody>\n",
       "</table>\n",
       "</div>"
      ],
      "text/plain": [
       "  State   2008   2009   2010   2011   2012   2013    2014    2015    2016  \\\n",
       "0    AL     64     62     68     71     78     97     100     101     431   \n",
       "1    AK      2      3      3      3      3      3       3       3      14   \n",
       "2    AZ   3112   3445   4518   7604  18096  31405   43572   48236   52862   \n",
       "3    AR     53     59     80     85    100    108     111     124     372   \n",
       "4    CA  29985  31297  36006  41816  53911  84832  156494  211876  267580   \n",
       "\n",
       "     2017  \n",
       "0    1812  \n",
       "1      20  \n",
       "2   66326  \n",
       "3     442  \n",
       "4  340408  "
      ]
     },
     "execution_count": 6,
     "metadata": {},
     "output_type": "execute_result"
    }
   ],
   "source": [
    "##Clean up consumption data to match fields in emissions data(rename column 1 to State, delete 2018 column)\n",
    "consumption= consumption.rename(columns={\"Unnamed: 0\": \"State\"})\n",
    "\n",
    "consumption.drop('2018', axis=1, inplace=True)\n",
    "consumption.head()\n",
    "\n"
   ]
  },
  {
   "cell_type": "code",
<<<<<<< HEAD
   "execution_count": 7,
   "metadata": {},
   "outputs": [],
   "source": [
    "##Set state as the index in both dataframes\n",
    "emissions.set_index(\"State\", inplace=True)\n",
    "consumption.set_index(\"State\", inplace=True)"
   ]
  },
  {
   "cell_type": "code",
   "execution_count": 10,
   "metadata": {},
   "outputs": [
    {
     "name": "stdout",
     "output_type": "stream",
     "text": [
      "Number of emissions rows: 51\n",
      "Number of consumption rows: 51\n"
     ]
    }
   ],
   "source": [
    "print(f\"Number of emissions rows: {len(emissions)}\")\n",
=======
   "execution_count": 16,
   "metadata": {},
   "outputs": [
    {
     "data": {
      "text/plain": [
       "['AL',\n",
       " 'AK',\n",
       " 'AZ',\n",
       " 'AR',\n",
       " 'CA',\n",
       " 'CO',\n",
       " 'CT',\n",
       " 'DC',\n",
       " 'DE',\n",
       " 'FL',\n",
       " 'GA',\n",
       " 'HI',\n",
       " 'ID',\n",
       " 'IL',\n",
       " 'IN',\n",
       " 'IA',\n",
       " 'KS',\n",
       " 'KY',\n",
       " 'LA',\n",
       " 'ME',\n",
       " 'MD',\n",
       " 'MA',\n",
       " 'MI',\n",
       " 'MN',\n",
       " 'MS',\n",
       " 'MO',\n",
       " 'MT',\n",
       " 'NE',\n",
       " 'NV',\n",
       " 'NH',\n",
       " 'NJ',\n",
       " 'NM',\n",
       " 'NY',\n",
       " 'NC',\n",
       " 'ND',\n",
       " 'OH',\n",
       " 'OK',\n",
       " 'OR',\n",
       " 'PA',\n",
       " 'RI',\n",
       " 'SC',\n",
       " 'SD',\n",
       " 'TN',\n",
       " 'TX',\n",
       " 'UT',\n",
       " 'VT',\n",
       " 'VA',\n",
       " 'WA',\n",
       " 'WV',\n",
       " 'WI',\n",
       " 'WY']"
      ]
     },
     "execution_count": 16,
     "metadata": {},
     "output_type": "execute_result"
    }
   ],
   "source": [
    "##Set state as the index in both dataframes\n",
    "# emissions.set_index(\"State\", inplace=True)\n",
    "# consumption.set_index(\"State\", inplace=True)\n",
    "\n",
    "state_list = list(emissions.index)\n",
    "state_list"
   ]
  },
  {
   "cell_type": "markdown",
   "metadata": {},
   "source": [
    "## print(f\"Number of emissions rows: {len(emissions)}\")\n",
>>>>>>> e1fb8e11d20cc43a4afe87dc5e0db18febd8f353
    "print(f\"Number of consumption rows: {len(consumption)}\")"
   ]
  },
  {
   "cell_type": "markdown",
   "metadata": {},
   "source": [
    "# Look for correlations"
   ]
  },
  {
   "cell_type": "code",
<<<<<<< HEAD
   "execution_count": 41,
   "metadata": {},
   "outputs": [],
   "source": [
    "##Create a function to make scatterplots for each year\n",
    "def scatterplots():\n",
=======
   "execution_count": 17,
   "metadata": {},
   "outputs": [],
   "source": [
    "##Create a function to calculate regression information and create the scatterplot\n",
    "def scatterplots():\n",
    "    \n",
    "    (slope, intercept, rvalue, pvalue, stderr) = linregress(consump, emiss)\n",
    "    \n",
    "    regress_values = consump * slope + intercept\n",
    "    \n",
    "    line_eq = f\"y = {round(slope,3)}x + {round(intercept,2)}\" \n",
    "    \n",
>>>>>>> e1fb8e11d20cc43a4afe87dc5e0db18febd8f353
    "    plt.scatter(consump, emiss)\n",
    "    plt.xlabel(\"Solar Consumption\")\n",
    "    plt.ylabel(\"Emissions\")\n",
    "    plt.title(f\"Emissions vs. Solar Consumption for {year}\")\n",
<<<<<<< HEAD
    "    plt.show()\n"
=======
    "    plt.plot(consump, regress_values, \"r-\")\n",
    "    plt.annotate(line_eq, (x_coord,y_coord),color = 'hotpink', fontsize=18)\n",
    " \n",
    "    for i, name in enumerate(state_list):\n",
    "        plt.annotate(name, (consump[i],emiss[i]))\n",
    "        \n",
    "    print(f\"The r-squared is: {rvalue**2}\")\n",
    "    plt.savefig(f\"../output/consumption{year}.png\")\n",
    "    plt.show()\n",
    "    "
>>>>>>> e1fb8e11d20cc43a4afe87dc5e0db18febd8f353
   ]
  },
  {
   "cell_type": "code",
<<<<<<< HEAD
   "execution_count": 43,
   "metadata": {},
   "outputs": [
    {
     "data": {
      "image/png": "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\n",
=======
   "execution_count": 18,
   "metadata": {},
   "outputs": [],
   "source": [
    "##Create a function to make scatterplots for each year\n",
    "# def scatterplots():\n",
    "#     plt.scatter(consump, emiss)\n",
    "#     plt.xlabel(\"Solar Consumption\")\n",
    "#     plt.ylabel(\"Emissions\")\n",
    "#     plt.title(f\"Emissions vs. Solar Consumption for {year}\")\n",
    "#     plt.annotate(annotation, (x_coord,y_coord))\n",
    "#     plt.show()\n"
   ]
  },
  {
   "cell_type": "code",
   "execution_count": 19,
   "metadata": {},
   "outputs": [
    {
     "name": "stdout",
     "output_type": "stream",
     "text": [
      "The r-squared is: 0.14062053708909236\n"
     ]
    },
    {
     "data": {
      "image/png": "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\n",
>>>>>>> e1fb8e11d20cc43a4afe87dc5e0db18febd8f353
      "text/plain": [
       "<Figure size 432x288 with 1 Axes>"
      ]
     },
     "metadata": {
      "needs_background": "light"
     },
     "output_type": "display_data"
    }
   ],
   "source": [
    "##2008 -- First year\n",
<<<<<<< HEAD
    "emiss = emissions[\"2008\"]\n",
    "consump = consumption[\"2008\"]\n",
    "year = \"2008\"\n",
    "scatterplots()\n"
=======
    "emiss = emissions[\"2008\"] \n",
    "consump = consumption[\"2008\"]\n",
    "year = \"2008\"\n",
    "x_coord = 10000\n",
    "y_coord = 500\n",
    "scatterplots()\n",
    "\n"
>>>>>>> e1fb8e11d20cc43a4afe87dc5e0db18febd8f353
   ]
  },
  {
   "cell_type": "markdown",
   "metadata": {},
   "source": [
    "No observable correlation between Solar Consumption and Emissions in 2008"
   ]
  },
  {
   "cell_type": "code",
<<<<<<< HEAD
   "execution_count": 44,
   "metadata": {},
   "outputs": [
    {
     "data": {
      "image/png": "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\n",
=======
   "execution_count": 20,
   "metadata": {},
   "outputs": [
    {
     "name": "stdout",
     "output_type": "stream",
     "text": [
      "The r-squared is: 0.13383141607939555\n"
     ]
    },
    {
     "data": {
      "image/png": "iVBORw0KGgoAAAANSUhEUgAAAYUAAAEWCAYAAACJ0YulAAAAOXRFWHRTb2Z0d2FyZQBNYXRwbG90bGliIHZlcnNpb24zLjMuMCwgaHR0cHM6Ly9tYXRwbG90bGliLm9yZy86wFpkAAAACXBIWXMAAAsTAAALEwEAmpwYAABLY0lEQVR4nO3deXhU1fnA8e+blbCGXQiriuwCkrqhLeKGuABFKdS6K7WVuoKCttW2WvAHLbhbd2gVXIq4i1oBAQUFibKJsgRI2JcAIXvy/v44dyYzyYRMIHvez/PMMzPn3rn33Mnkvvcs9xxRVYwxxhiAiKrOgDHGmOrDgoIxxhg/CwrGGGP8LCgYY4zxs6BgjDHGz4KCMcYYPwsKNYyIPCsifzqOz98vIi+UZ55qEhHpJCIqIlFVnZeaTETSReTECthuVxFJEpHDInJ7eW/flM6CQiUQkWQRyfT+kXyPJ49lW6p6q6r+7Vjzoqp/V9Wbj/Xz1YWInCMiX4rIQRHZLyJLRORnVZSXNiLyoojs8E5mP4jIX0SkQVXkp7yJyAIRCfrNqGpDVd1UAbu7F5ivqo1U9fHj3ZiIXCciK0TkkIikiMj/BV4QiEgzEXlbRI6IyBYR+XXAsjYi8q6IbPcuJDoV2fZUEfkp4G9+7fHmtzqwoFB5Lvf+kXyPsVWdoZpKRBoD7wNPAM2ABOAvQHYF77dY6UJEmgFfAXHAWaraCLgQiAdOqsj81FIdgTXH8sESSn/1gTuBFsAZwPnAuIDlTwE5QGvgauAZEenpLSsAPgZGlLDLI8DlQBPgOuAxETn7WPJeraiqPSr4ASQDF5Sw7HpgCTANSAM2AWd76duA3cB1Aeu/AjzsvW6BOzmmAfuBRUCEt+w+IBU4DKwHzvfSHwL+E7C9K3D/hGnAAqB7kXyPA74HDgKvA/VK23eR43sGmFok7R3g7qPls5TvMxFIO8ryCOCPwBbv+5sJNPGWdQIUiPLe3wCs8/a/CfhtwHYGAileHncC/w6xr4eBVaGOPWCds4FvvO/wG+DsgGULgL95v4HDwCdAC29ZPeA/wD7ve/4GaB3qNxX4dw04xhu839AB4FbgZ97fMg14MsRv8Ekvjz8E/F4eAfKBLCDd9zlv+yd7r5t43/Ee7zv/I4W/w+uBxcBULx+bgUtK+J4+L7KvU8LYtu9/Zx/e/0Upv527gfe81w1wAeGUgOX/BiYX+UyUd7ydStn2u8A9VX2+Od5HlWegLjyK/gMXWXY9kOf9A0d6J5mtuCuYWOAi72TR0Fv/FQqDwiTgWSDae5wLCNDVOxm09dbrBJzkvQ48eZyCu9q50Pv8vcAGICYg318DbXFX5OuAW4+27xDH93MvL+K9bwpketssMZ+lfJ+NvZPADOASoGmR5Td6x3Ei0BCYg3dCp3hQuBR3RS/AL4AM4DRv2UDvb/Oo97eIC5GXpcBfjpLXZriT4TXeyWW09765t3wBsNH7W8R57yd7y34LvIe72o0E+gONQ/2mCB0UnsUFlotwJ9q5QCtcyWo38Isiv8G7vL/lr3DBoVlAHm8uclyBQWEmLtA38vb9I3BTwLZzgVu8Y/gdsJ0Qv5VQ+wpj23nAH7zvttjfJ8T25wZ8v/2AjCLLx+EFjYC0UoOC97fbAQyu6vPN8T6s+qjyzBWRtIDHLQHLNqvqy6qaj7sabw/8VVWzVfUT3NXMySG2mQu0ATqqaq6qLlL3C83HncR6iEi0qiar6sYQn/8V8IGqfqqqubiruTjcla3P46q6XVX3405QfUvZd1GLcP9Q53rvrwS+UtXtZchnEFU9BJzjbfd5YI9X99vaW+Vq4J+quklV04GJwKhQ1Quq+oGqblRnIe5K/dyAVQqAB72/RWaI7DTHnQxKcinwk6r+W1XzVHUW7kr88oB1XlbVH73tv0Hwd9wcd/LNV9UV3rGH62+qmuX9ho4As1R1t6qm4v4u/QLW3Q1M9/6Wr+NKbZeWtgMRiQRGARNV9bCqJgP/wAVBny2q+rz3+56B+920LraxY9v2dlV9wvtuQ/19Ard3I66UOdVLaggU/T4P4gJQWT0LfAfMO4bPVisWFCrPMFWND3g8H7BsV8DrTABVLZrWMMQ2p+CuiD8RkU0iMsH77AZcPepDwG4RmS0ibUN8vi2uSI73uQLclXtCwDo7A15nBOQj5L6L8gLFbNwVMsCvgVfLmM9Q212nqterajugl3cs00Mdl/c6ihAnIhG5RESWeo3VacAQXNWYzx5VzTpKVvbhTnIlKZoXX37C+Y7/jTvJzPYaO/9PRKKPsq+iiv6GjvabSi0S1Ld4eS9NC1zpouj3HfL4VDXDexnq93ws294WxnYQkWG40u0lqrrXS07HlToDNcaVzMMmIlNwv8GRJVwY1SgWFGow7+rpHlU9Edc2cLeInO8te01Vz8E13CmuCqSo7d5yAEREcKWU1OPZdwizgCtFpCOuse+/AdsJJ5+l5eUHXLVar1DHBXTAVTMEnhQRkVgvL1NxdfXxwIe4qiT/5kvZ/WfAcBEp6X+paF58+QnnO85V1b+oag9c6e0ywNfD5QiuWsnnhNK2V4oE7+8fmMftvqwc5XN7cSWaot93qccXhnC2XepJWEQG40qUl6vqqoBFPwJRItIlIK0PZWjoFpG/4KowLypjKa7asqBQg4nIZSJysvfPfBBXHVPg9fUe5J30snBXhQUhNvEGcKmInO9dgd6D68Hz5bHuO9S6qroS9w/+AjBPVdO8bYSbz6L77iYi94hIO+99e1xJZKm3yizgLhHpLCINgb8Dr6tqXpFNxeCqr/YAeSJyCa7+vSz+ibu6nOEFPUQkQUT+KSKn4oLMKSLyaxGJEpFfAT1wjfSlHed5ItLbq0Y5hDtB+r6fJFyVWLSIJOKq5Y5HK+B2b3tXAd29vIMLpiHvSfCqhN4AHhGRRt53cDeugfy4lMe2RWQQrmQ6QlW/LrL9I7j2pr+KSAMRGQAMxZXQfJ+vh/uNAMR6733LJuJKvheo6r5jOcbqyIJC5XlPgu9TeLscttkFd6WajusW+bSqzsf9iCfjTsQ7cf/wE4t+WFXXA7/Bde3ci6vnvlxVc45j3yV5DbjAe/YpMZ8icrWIlHTFdhhX4lgmIkdwwWA1LqgBvIT7x/4C19slC9cYGURVDwO34048B3D/4O8e7aBDbGM/7io+18vPYeB/uEC5wTtZXOblbR+uMf+ygCqMozkBeAsXENYBCyk8Yf0J10B+ANcd97VQGyiDZbi/6V5cj6MrA050j+FKegdEJNS9A3/AlVw24XoavYb7G5SH4932n3A9mD4M+N/7KGD573HtaLtxFxO/U9XA310m7jcOri0osN3i77iSy4aAbd9fhrxVS74eIcaYOkpErsf1+DmnqvNiqp6VFIwxxvhZUDDGGONn1UfGGGP8rKRgjDHGr0YPH9yiRQvt1KlTVWfDGGNqlBUrVuxV1ZahltXooNCpUyeWL19e1dkwxpgaRUSK3mXvZ9VHxhhj/CwolNG+ffvo27cvffv25YQTTiAhIYG+ffty0kkn0blzZ/bv3w/AgQMH6Ny5M8nJyVWbYWOMKQMLCmXUvHlzkpKSSEpK4tZbb+Wuu+4iKSmJjRs38rvf/Y4JE9y4cBMmTGDMmDFYm4cxpiap0W0K1c1dd91F//79mT59OosXL+bJJ49pxk1jjKkyFhTKUXR0NFOmTGHw4MF88sknREeXZZRjY4ypehYUwjR3ZSpT5q1ne1ombePjGH9x15DrffTRR7Rp04bVq1dz4YUXVnIujTHm+FibQhjmrkxl4pxVpKZlokBqWiYT56zihx3Bw6cnJSXx6aefsnTpUqZNm8aOHUebkMsYY6ofCwphmDJvPZm5+UFpmbn5LNlYOIS6qvK73/2O6dOn06FDB8aPH8+4ceMqO6vGGHNcLCiEYXta6KlfD2fl+l8///zzdOjQwV9l9Pvf/55169axcOHCSsmjMcaUhxo9IF5iYqJWxh3NAyZ/TmqIwJAQH8eSCYMqfP/GGFOeRGSFqiaGWmYlhTCMv7grcdGRQWlx0ZElNjYbY0xNZb2PwjCsXwJAsd5HvnRjjKktLCiEaVi/BAsCxphaz6qPjDHG+FlQMMYY42dBwRhjjJ8FBWOMMX4WFIwxxvhZUDDGGONnQcEYY4yfBQVjjDF+FhSMMcb4WVAwxhjjZ0HBGGOMX4UGBRGJF5G3ROQHEVknImeJSDMR+VREfvKem3rriog8LiIbROR7ETmtIvNmjDGmuIouKTwGfKyq3YA+wDpgAvA/Ve0C/M97D3AJ0MV7jAGeqeC8GWOMKaLCgoKINAF+DrwIoKo5qpoGDAVmeKvNAIZ5r4cCM9VZCsSLSJuKyp8xxpjiKrKk0BnYA7wsIitF5AURaQC0VlXfjPY7gdbe6wRgW8DnU7y0ICIyRkSWi8jyPXv2VGD2jTGm7qnIoBAFnAY8o6r9gCMUVhUBoG4u0DLNB6qqz6lqoqomtmzZstwya4wxpmKDQgqQoqrLvPdv4YLELl+1kPe821ueCrQP+Hw7L80YY0wlqbCgoKo7gW0i4pvI+HxgLfAucJ2Xdh3wjvf6XeBarxfSmcDBgGomY4wxlaCip+P8A/CqiMQAm4AbcIHoDRG5CdgCjPTW/RAYAmwAMrx1jTHGVKIKDQqqmgQkhlh0foh1FbitIvNjjDHm6OyOZmOMMX4WFIwxxvhZUDDGGONnQcEYY4yfBQVjjDF+FhSMMcb4WVAwxhjjZ0HBGGOMnwUFY4wxfhYUjDHG+FlQMMYY42dBwRhjjF9Fj5JqTMmWpsDnm2FXOtSLgt6tYWhXaBRbMdvYfADeXQ/JaSACJzZ167ZvErzeV9vg39+H3t8vOsKveoWfv6qiCsu3w4Jk2H0E8gqgWRz0bwvndYK46OD1tx+GjzfApgNwKBsax7rv56KToF3j0vc37Sv4aX/Jy7u1gNvPCE7LL4Avtri/4a4jECHQsj6c0wHO7VjWIzblxIKCqRr/2wT/XQddmsFVPeFApju5bz4A9w6A2DB+mmXZxuYDMG0pxNeDy05xaQu3wD+/gnFnQ0KIE9/FJ8EJDYPTWjcsvl519O56mLcRujaHIV0gMgJ+2gfv/wird8P4s11gBEg5BFOWQP1od0KOrwd7M2DxVkja6dYtGjiLGnwynJ1dPH3FDre/3q2C0/MK4Nnl8OM++FlbFwTyC2BPBuzPLJ/vwBwTCwqm8qXnwHs/QscmcMeZ7goRoGO8O1HMT3YnmfLcxhtrICoC7j7LnfTAXTX/daELLEWvYgG6t4RTmh/fsR6raV+557vOKvtn8wvc8bdvDH84o/C7+XlHiFgJ32x3gcB3ov9iC+QWwG2nB5cKuraAx5e5K/nSgkL3EqbG/XiD+95PLzLd+kc/wQ974Q+nu/2YasPaFGqzpJ3w+w/cFV8of1sID853VQ2V6budkJMPAzsVnrAATm0NLerD12HMwlqWbew+AlsOQr8TCgMCuNf9ToD1e+FgVuj9ZOW5q9qSvPAt3PaBu+INtHaPS38lqfRjKW/5Crn5rgoo8LsBaOIdf2ApKivPW1akys33Piby2PKxYb+rFup7AjSIKUzPznNB69TWLiCoFubBVDkrKdRmvVu5E8NX21y1QKDNB2BHOlzRtbAaoSSZue5EE46YyNJPIlsOuufOTYsv6xzv6sKz8lwbQXlsY0uaSz8x1LpN4asU2HoQetcLXvbscrcNAdo2ggtOhDPaBa9zdW+3/VeS4P5zoWGMCzAzkqBlAxhVBe0PMZFwcjMXmD7Z6E7KkeIC16It7qq9VYPC9bu3cN/XjO/g0i7QNM5VH729zgWGY63f/3Kbez67fXD6hv3ue+3QxJXgvtoG2fnuuxvQ3lXvRdr1alWxoFCbRUbAWe1c3fKOw9CmUeGyL7e5q8gz25X8eZ9nlx+9ETHQkC6FdfYlSfOuyuPrFV/WpB4o7sRa7yj192XZxsHsktf1pR0MqA+PiXT13Kc0dw3W+zJc+8OM79zJ8tKA44uLhhv7ubaJmd/BrYluvcw8Vx1ztMBWkW7o5/Iz9wf3ABfcBp9c/O9zZjvYl+naaKZ8WZjeKR7uOyf091aazFz4dgc0j3PtGoF2HXHPn292VUvDu0ODaFetNW+j+9te17fs+zTlwoJCbTegg7ta/HIbjOjh0rLzXANgj5bh/cOP6AEZueHtr0X90tfJzXfPUSGuBqO9tJz88ttGThn317+tewQ6pwM8ugQ+2uBOos0DjrNzU7i8qzv5TvsKNh6AEd3dlXA4QlVR+Upm6TnB6VER4QWaqAh3Qj4jAXp6jbwrd7j8R0XAJV0K1xVxJcqTmrnSZXw91+bwv83uguCOM4r3VirN8u3uOz27ffGSaLZXVZSRC3/6eWHjff+27vtblup6PQVexJhKY0GhtmtR39XbLkuFYd1c6eHbHe5ENKB96Z+H8E9u4Yr2qpfyCopXNeV6J8fSqqDKso2YgHWLKsv+LjjRXX2v21u8Ou7CE10vmw37XXXMoM5H316gN9a4xtxQ7v00+P2Z7eDaPkffXk4+TP3SNTTfdFphemJbePFb1wPptDaFJ+N318PCZPjzLwrbHPqc4EoKT30Dn25y1Yxl4SuJnhXiN+b723WOL96b68x2rlT6034LClXEgkJdcE4H1yD6/S7o18b9wzaOhV6tSv8swJGcoze2BoqNKv1K1lc6ScsKrtsGV+UjFJ6cymMbvgZTX5VTIF9a0UbWUJrFueeiV+/gql9SD7nXezJcHXm4VUcXnli8d85/17pnX+nOJ5x8frvDNa4PDXEiP62NKyVu2O9OyPkF8Nkmdx9B0e+8Zyt3DD/tK76do0k95Np8erU6epVd4xDH4ksLt2Rqyl2FBgURSQYOA/lAnqomikgz4HWgE5AMjFTVAyIiwGPAECADuF5Vv63I/NUZfVpDoxgXDNo2ctUbF50UfmPecyvKt02hYxNYjGvsLnpC35zm0ko7oZZlGx3j3fOmA646LWjdAy6AhFMa2uPVhTeKCU7PL4CXVkKBwlU94K21MGuVq9cPR5tGxa+K63vVNd2OobumL9AVhOgc4KuWKgionsorCN0DTdWtF2o7R7OkhAZmn07x7vnAUYJ00e/YVJrKKCmcp6p7A95PAP6nqpNFZIL3/j7gEqCL9zgDeMZ7NscrMsIVyz/bBB/85NJK+ocNpbzbFE5t7apMFm6BnyUUdpv8fpdryL28SFDZn+mqRFrWLwxkZdlGqwbupL9yp6v7DyxlrNzpGpQDr5LTc1xPmECZua5tJirCtcUEeu9Hd5f0Nae66pIDWe677t4yvIb88tbGq5JZmlK8bWSZV03lC5SNYl0j74b97nsL/Put2OG+d9+6UHiDWUxkYckpUG4+fJPqrviL3rDm06I+nNTUBemtBwsDcoG6gBIhJd/3YCpcVVQfDQUGeq9nAAtwQWEoMFNVFVgqIvEi0kZVd1RBHmufAR3ciWr5dncHcNGr66Mp7zaFRrHu5DxnHTy21J3U07Jc75fWDeC8IvXxM5JcSeVv5xU28JZ1G1f1gMeWuV5CAzu5tAXJ7mq4aBXNI19Al+auVNUoxlUNfbXN9VAa0d112fRZtwc+3eh6K/nqz4d2dVUur6923WDL8l2Xh96t3dX4mj3uePue4NKTdrqT/2ltCv+mEeJ6U72xBv5vCZzbwR3ftoOuZNkwxrWl+KRluRv+ujQLfWPdd7vgSK6rEjtaSXRkT5e3x5e5v0eDaFftlZzmSpuhAo6pFBUdFBT4REQU+JeqPge0DjjR7wRae68TgG0Bn03x0oKCgoiMAcYAdOhQpCrAlKxVA3dFvH5f2UoJFeWCE92J4PPN7oRUL8qdrIZ1C78uvizbOKkZ3HkmvLfePcCdsG8+rfjYPoltXZ/+dXtc19K4KHeSvaZzcCnhcLbrftqiPozuXZgeGeG6qU5a7KqVxp0duudTRYkQd4f2vA0uEPi6pLZq4L6b84sEzIGdXFvFgmR3U1lOvguG/du6qsCynKBLujehqPZN4J6z3d9i/mbX4H9Cw8LSlqkyohV4N6uIJKhqqoi0Aj4F/gC8q6rxAescUNWmIvI+MFlVF3vp/wPuU9XlJW0/MTFRly8vcbEp6qmvXZF90gXHfpeqMabGE5EVqpoYalmFXr6oaqr3vBt4Gzgd2CUibbyMtQF2e6unAoGXCO28NFMedh9xd7ienmABwRhTogoLCiLSQEQa+V4DFwGrgXeB67zVrgPe8V6/C1wrzpnAQWtPKAebD7j68Be/dVUYgfXDxhhTREW2KbQG3nY9TYkCXlPVj0XkG+ANEbkJ2AKM9Nb/ENcddQOuS+oNFZi3umPRVtfjpEV9uL5v8J24xhhTRIW2KVQ0a1Mwxpiyq7I2BWOMMTWLBQVjjDF+FhSMMcb4WVAwxhjjZ0HBGGOMnwUFY4wxfhYUjDHG+FlQMMYY42dBwRhjjJ8FBWOMMX4WFIwxxvhZUDDGGONnQcEYY4yfBQVjjDF+FhSMMcb4WVAwxhjjZ0HBGGOMnwUFY4wxfhYUjDHG+FlQMMYY42dBwRhjjF+FBwURiRSRlSLyvve+s4gsE5ENIvK6iMR46bHe+w3e8k4VnTdjjDHByhwURKSpiJxaho/cAawLeP8oME1VTwYOADd56TcBB7z0ad56xhhjKlFYQUFEFohIYxFpBnwLPC8i/wzjc+2AS4EXvPcCDALe8laZAQzzXg/13uMtP99b3xhjTCUJt6TQRFUPAb8EZqrqGcAFYXxuOnAvUOC9bw6kqWqe9z4FSPBeJwDbALzlB731g4jIGBFZLiLL9+zZE2b2jTHGhCPcoBAlIm2AkcD74XxARC4DdqvqimPNXCiq+pyqJqpqYsuWLctz08YYU+dFhbneX4F5wGJV/UZETgR+KuUzA4ArRGQIUA9oDDwGxItIlFcaaAekeuunAu2BFBGJApoA+8p0NMYYY45LWCUFVX1TVU9V1d977zep6ohSPjNRVdupaidgFPC5ql4NzAeu9Fa7DnjHe/2u9x5v+eeqqmU6GmOMMcclrJKCiLQEbgE6BX5GVW88hn3eB8wWkYeBlcCLXvqLwL9FZAOwHxdIjDHGVKJwq4/eARYBnwH5Zd2Jqi4AFnivNwGnh1gnC7iqrNs2xhhTfsINCvVV9b4KzYkxxpgqF27vo/e9BmNjjDHVxM6dOxk1ahQnnXQS/fv3Z8iQIfz4448ATJ8+nXr16nHw4MEybTPcoHAHLjBkichh73GobNk3xhhTXlSV4cOHM3DgQDZu3MiKFSuYNGkSu3btAmDWrFn87Gc/Y86cOWXabri9jxqpaoSq1vNeN1LVxmU/DGOMMeVh/vz5REdHc+utt/rT+vTpw7nnnsvGjRtJT0/n4YcfZtasWWXabrhtCojIFcDPvbcLVDWsm9iMMcaUv9WrV9O/f/+Qy2bPns2oUaM499xzWb9+Pbt27aJ169ZhbTfcsY8m46qQ1nqPO0RkUnhZN8YYU17mrkxlwOTP+cu7a3j9m23MXZlabJ1Zs2YxatQoIiIiGDFiBG+++WbY2w+3pDAE6KuqBQAiMgN3j8HEsPdkjDHmuMxdmcrEOavIzM0nqkUH9i9ZwsQ5qwAY1s8NI7dq1Sp++uknLrzwQgBycnLo3LkzY8eODWsfZRk6Oz7gdZMyfM4YY0w5mDJvPZm57laxeh37oPm57P7mA6bMWw/A999/z+23385DDz1EcnIyycnJbN++ne3bt7Nly5aw9hFuUJgErBSRV7xSwgrgkTIfkTHGmGO2PS3T/1pEaDn8AbKSk/j60avp2bMnEydOZMGCBQwfPjzoc8OHD2f27Nlh7UPCHV7IGyX1Z97br1V1Z1gfrECJiYm6fPnyqs6GMcZUigGTPyc1IDD4JMTHsWTCoLC3IyIrVDUx1LKjlhREpJv3fBrQBjf/QQrQ1kszxhhTScZf3JW46MigtLjoSMZf3LXc9lFaQ/PdwBjgHyGWKW4WNWOMMZXA15g8Zd56tqdl0jY+jvEXd/Wnl4ewq4+qI6s+MsaYsjvm6qOADVwlIo28138UkTki0q88M2mMMeYocnLghRegc2do1AiSkytkN+H2PvqTqh4WkXNwczO/CDxbITkyxhgDBw/CpEkuAIhAbCzccosLBunpkFm8wbk8hBsUfHMoXAo8p6ofADEVkiNjjKmLtm+He+5xAUAE4uPh/vtdAPC54gr46itQhe7dKyQb4d7RnCoi/wIuBB4VkVjKduObMcaYQOvWuZLAv/9d8jo33gj33QennFJp2Qo3KIwEBgNTVTXNu2dhfMVlyxhjapklS+CRR+Cjj0pe57774K67IMzB6ypCuEGhDfCBqmaLyEDgVGBmRWXKGGNqtIICePddFwRK6iEZHw8PPAC//a1rN6gmwq0C+i+QLyInA88B7YHXKixXxhhTkwT2DBKByEgYPjw4IHTpAq+84tZVhQMHYNy4ahUQIPySQoGq5onIL4EnVPUJEVlZkRkzxphq6+BBePppVxI4ciT0Omef7UoCl1ziAkUNEW5JIVdERgPXAr7JdaKP9gERqSciX4vIdyKyRkT+4qV3FpFlIrJBRF4XkRgvPdZ7v8Fb3ukYj8kYY8rX9u1w993FewYFBoTAnkGqrg1hyJAaFRAg/KBwA3AW8IiqbhaRzsBRmswByAYGqWofoC8wWETOBB4FpqnqycAB4CZv/ZuAA176NG89Y4ypfOvWwbXXFgaBhASYNi14nZtugh9/LAwC77wDZ55ZNfktR+HO0bxWVW9X1Vne+82qetSTtjq+DrbR3sM3XtJbXvoMYJj3eqj3Hm/5+SI1LMQaY2qmxYsLq3lEoEeP4l1F77sPdu4sDAIvvODaCWqZo7YpiMgbqjpSRFbhTuj+Rbjz/qmlfD4SN/fCycBTwEYgTVXzvFVSAN9ITgnANtyG80TkINAc2Ftkm2Nwg/TRoUOHUg/QGGOCFBS4q/q//73knkFNm7r2gDFjql1DcEUrraH5Du/5smPZuKrmA31FJB54G+h2LNspss3ncD2gSExMrLmj+RljKkd2Nsyc6RqFS5p9rEsXFwR+/WuIPmpzaa131KCgqju85y0AItK4tM+UsJ00EZmPa5eIF5Eor7TQDvDNOp2K6+qaIiJRuCk/95V1X8aYOu7gQXjqKRcEMjJCr1NDewZVhnBHSf2tiOwEvsdVB60AjjpmtYi09EoIiEgcboiMdcB84EpvteuAd7zX73rv8ZZ/rjV5XG9jTOUI1TPogQeCA8IVV8DSpTW+Z1BlCPeqfxzQS1X3lrpmoTbADK9dIQJ4Q1XfF5G1wGwReRhYiRtxFe/53yKyAdgPjCrDvowxdcXatW7MoP/8p+R1brrJNQzXwobgihZuUNgIlFAOC01VvweKzbmgqpuA00OkZwFXlWUfxpg6YNEi1yj88cclrzNhAtx5Z5WOGVRbhBsUJgJfisgy3P0HAKjq7RWSK2NM3eTrGfTII7BiReh1fD2DfvtbaNiwcvNXB4QbFP4FfA6sAgoqLjvGmDolOxtmzHBBYOvW0Ouccoq7e9h6BlWKcINCtKreXaE5McbUftYzqNoLNyh85N009h7B1Uf7KyRXxpjaITUVpk6F6dNLXmfoUFcSOL1YU6OpAuEGhdHe88SANAVOLN/sGGNqtHB6Bt18M9x7r/UMqqbCCgqq2rmiM2KMqYEWLXJVQfPmlbyO9QyqUY5685qI3Bvw+qoiy/5eUZmqaSIjI+nbty+9evXiqquuIsOrK83Ly6Nly5ZMmDChinNoTDkoKIA5c6B//8IbxX7+8+CA0KyZqy46fLjwRrFJkywg1CCl3dEceAPZxCLLBpdzXmqsuLg4kpKSWL16NTExMTz77LMAfPrpp5xyyim8+eab2M3ZpsbJzobnnoOOHQtnExsxAr79tnCdU05xvYd8s4nt2wf33GNdRWuw0oKClPA61HsDnHvuuWzYsAGAWbNmcccdd9ChQwe++uqrKs6ZMaU4eNBVBdWv74JAvXruXoDArqIDBsCHH7pSgyqsX+/mHbCuorVGaUFBS3gd6n2N1fAoVzV33nknCQkJFBSUfntGXl4eH330Eb179yYrK4vPPvuMyy+/nNGjRzNr1qzyzLIxxy81Fe66K3jMoD/+ETIzC9cZOhSWLSusCgqcd8DUSqUFhT4ickhEDgOneq9973tXQv6qVEFBAW+//Tbt27dn4cKFQcvmrkxlwOTP6TzhA45kZNK5a08SExPp0KEDN910E++//z7nnXcecXFxjBgxgrlz55Kfn19FR2Kqmq/dyfdITk5mwYIFXHbZMY1Kf2zWrIHf/KYwCLRrV7yr6M03B88mNneudRWtY0obOjuysjJSHS1YsICePXvyq1/9ilmzZnHeeecBLiBMnLOKzFx3kpeoGOqN/AcP/bI3w/q5OYNmzZrF4sWL6dSpEwD79u3j888/58ILL6ySYzFVy9fuFCg5Oblid2o9g8wxKPPcCHVFSkoKN9xwA1u3bmXdunXs2rWLxYsX8/TTT3PjrRNoPOxP/nU1P5e9qxYypUEMw/olcOjQIRYtWsS2bduIjY0F4OWXX2bWrFkWFEzFKChwV/WPPBLcEByoWbPC2cSsIdiUIKz5FGqjwOqfzNx85q5M9S9TVYYPH86hQ4eoX78+GzZsoFmzZqSkpACQlRe6fWF7mquLffvttxk0aJA/IAAMHTqU9957j+zs7JCfNbVbZmamv+po+PDhx7/B7Gz417+O3jOoa1c341hgz6C777aAYI6qTpYUilb/qMLEOasAGNYvgc8//5yMjAxycnLIzMzkpJNOIiMjg/T0dDIyMqgXFRxLG/QYCEDb+DgArrvuOq677rqgdZo1a8aePXsq+MhMdTJ3ZSpT5q13FwtRMTz08gf+6sUyS0srHDMosCE40IABriQweLA1BJtjVieDwpR56/0BwSczN58p89YzrF8Ca9asIT8/nxdeeIFbbrmF5ORk1q5dS8+ePVm7di3ZqWvZ+crtFHj3HuQf2kOTrmcw/uKuVXE4phoq7cKjVCkp7iawxx4reZ1hw2DiRGsINuWqTgYFXzWPj+Zmk/LUdaQAsZOEyJadyUzexH1fR/mrlvo2rU9ERASrV6/mvF/8nJv/9i//VeCRTx/n6jM6HPtVoKl1SrvwKGbNGjeRzGuvlbxRGzPIVII6GRTaxseRGhAYOt73HuDuxlMgMzmJguwMImLr+6/wbj01GhFh5MiRPP300wzrl+D/575+55uc3rl5FRyJqa6KXngUS//iCxg/nv8tX067gKqeN4GzfG8mTnQ9g1q1qsisGhOkTjY0j7+4K3HRrrft1n9eCUDewV0kP3oZh1a8R72OfdC8bHbNfgAtyCMjO4e/Pfww8fHx1K9fvyqzbmoIX/sSgGgBYy69i/dfuYPNj17m6vt/8QsGLl9OJpACpDRrRso//sFZgWMG/f3vFhBMpauTJQXfFf6UeevZCiTEx7HlIETUj+fw8ndp1HcwLYc/wM5X74P8PLY//1ti2/UgKy2Nq666isOHD9OuXTumTZvGVVfZtNKmiEOH+GDGncT/sKrkdbp2dY3Co0bZEBGmWpGaPFBbYmKiLl++/Li20bBhQ9LT0+l/32usemkisQk9iDnhZBr1Hcz+T58h5oQuNOx9AQnxcSyZMKiccm5qlS1boFs3yMoqcZXvOvXiyD33cvZtv7GeQabKicgKVU0MtazCqo9EpL2IzBeRtSKyRkTu8NKbicinIvKT99zUSxcReVxENojI9yJyWkXlLZTf/vxERITGZ17JoW/eRgsKGwnjoiOtZ5EptGxZ4VARItCpU+iA8OST/qqgPptXcfbYaywgmGqvIquP8oB7VPVbEWkErBCRT4Hrgf+p6mQRmQBMAO4DLgG6eI8zgGe853IX2H/c17voop4n0LpxPdp36szBNqeQue4LAJrWj2ZSwPAVpg564w341a9KX++jj9w9AsbUYBVWUlDVHar6rff6MLAOSACGAjO81WYAw7zXQ4GZ6iwF4kWkTXnny9d/PDUtE6Ww//gna3bSuF4USyYMYvlbT9Nq88dcc2ZHHri0hwWEukQVHn44uCRQUkBYtaqwUVjVAoKpFSql95GIdAL6AcuA1qq6w1u0E/CNxJUAbAv4WIqXVnRbY0RkuYgsP5Y7hEvqP/6vLzb533fr1o0ePXrw3nvvlXn7pobJy4Nf/7owAEREwJ/+VHy99u1h587gINCrV+Xn15gKVuFBQUQaAv8F7lTVQ4HL1LVyl6mlW1WfU9VEVU1s2bJlmfNTUv/xXYeC64QfeOAB/1hHphY5dAj69SsMAtHREGquiwsvhIyMwgCwdauNJGrqhArtkioi0biA8KqqzvGSd4lIG1Xd4VUP7fbSU4H2AR9v56WVq6I3rnW4+y0AOnbsxJJnVvvT+/TpE9bEOqaaS052PYNKG4jwjjtg2jRrCDZ1XkX2PhLgRWCdqv4zYNG7gG+0uOuAdwLSr/V6IZ0JHAyoZio3gTeu+Vjvolpk6dLg9oDOnUMHhKeeCq4Kmj7dAoIxVGxJYQBwDbBKRJK8tPuBycAbInITsAUY6S37EBgCbAAygBsqIlOBN65tT8ukbXwc4y/uao3JNdXrr7sbwErz8cdw8cUVnx9jarg6f/NaeRER7r77bv7xj38AMHXqVNLT0xkwYAB//vOf+fLLLxER8vPzSUxM5KmnnuLss8+u4lzXML6eQX/+c+nrrl4NPXtWfJ6MqYGq5Oa1uiY2NpY5c+awd+/eoPQLL7yQjh078uKLLwLwxBNPkJiYaAEhHHl5MHp0cM+gUAEhVM8gCwjGHBMLCkWICL/5zW/87/Py8mjZsqV/gvVXXnmFsWPHFvtcVFQUY8aMYdq0acWWTZs2jUmTJrFmzRqefPJJHn300Yo7gJps925o3Di4Z9Ds2cXXu+giN9GM9QwyptxZUCiiQYMGrF69mkxvdqtPP/2UhITw2htuu+02Xn31VQ4ePBiU3qZNG+68807OOuss/vjHP9KsWbNyz3eNlJQU3CjcujUcPlx8vTvucHMQ+4LAvHlQr16lZ9eYusCCQghDhgzhgw8+AGDWrFmMHj065HpF53n+fONhrr32Wh5//PFi6952223k5+dz/fXXV2TWq7c33wwOAv36hV7vmWesZ5AxVcSCQgijRo1i9uzZZGVl8f3333PGGcWHYCppuIwug0by4osvcuTIkaD1IyIikLp2YvvTn4KDwMiRodd7+ungIHDrrZWbT2OMX52cTyFQw4YN+c+i9UyZt54NK77gyJEMrr7pVg7tTmXWrFkMGTKEtWvX8sUXX5Cbm+v/XEnDZTy7dDcjR7rAcOONN1b24VQdVTj/fJg/v/R158+HgQMrPEvGmLKr80Ehv0CZOGcV+39awf7PnkOiokk+LBzZto1bbrmFHj16sG/fPnr16kV0dDSvvfYaS5YsoeXYi0GKF7S2p2Vyzz338OSTT1bB0VSinBxo0MD1ECrN5s1ueGljTLVX54NCTn4BBzZ9x/6Pn6DllQ+y46XbiOnYl6YdutLm4Bouv/xyXnvtNZo1a0ZBQQErVqygUaNGNNz/I+nNu/m34xsuo218HK1btyYjI6PYvtLT0yvtuMrd1q3QsWN46x4+DA0bVmx+jDEVos63KRTk5bJnzsO0/OUfyU/fDwiN+g0hot9wAF588UUmTZoEwIIFC0hISKBXr1603fdt7R4uY/784PaAkgJCjx6Qnx/cJmABwZgaq84HhYjIKAqy0tnzzmRy926lUf/L0YJ8Up+6hqysLC655BKGDh3KzTffzJVXXsnevXvZsWMHyxd8xN8u70ZCfByCm+e5Rk/G889/BgeBQSVMPdq3b3AAWLPG3VRmjKkV6mT1UeDMayBIZDR5+1M58sNiYtt0IWvtfCQ3i9TUVN544w0WLlzI2rVriYuLY8uWLezdu5du3brx4oO/Y8lHHwEwc+ZM/njN7fxJhKioKK6++mrGjRtXtQd6NEOHwrvvlr7euHEwZUrF58cYUy3UuaDg60rq6zmkgBbkE9GwGTm7NlCQkUbBod3Ub9iIdu0S6N+/P6+//jqRkZFkZWXRo0cPIiNdtdFXX30FwEcffcT06dP55JNPaNu2LdnZ2cycObOqDrE4VYiMdM+leestGDGi4vNkjKmW6ly5v3hXUgUtoPlFtwFC3sFdZGz5nkx1J/68vDx/V9SRI0dy7bXXkpyczJgxYzh06BAZGRlMmjSJqVOn0rZtW8CNg3TLLbdU8pEFyMwMrgqKiCg5IKxZE1wdZAHBmDqtzgWFojOvNbt4LEREUr/LGYgIjU67nMi4xuSk7SE5OZmtW7fSpk0b8vPzmTp1qn8Yi+joaGJiYnjvvfdYvXo1/fv3r6IjArZsCQ4C9euXvO6BA8FBoEePysunMabaq3NBoW18XND7jHVfIBGuVBDbrifpKz+g2YW3EhPfkpN7J5Jz8Z/Y26AzEhnN8j3iH8YiJSWFU045hV+VNKl7Rfr88+AgcLR7AIr2DIqPr6xcGmNqoDoXFM7rVjivc37mYTKTv0PzctgyZShZyStRlAbN2xJdkEfSt8tJTcuk8em/RPNz+fWwwXQ6Zxj/+te/+Oyzz/zDX/fs2ZMVK1ZUXKanTg0OAuefH3q9004LDgCq1jPIGFMmde6MMf+HPf7XR35YTERMHERG0XH8O3QY9zbRcY1I2PQe2fkF+GrhMzZ+DQi5Rw4y9jfDyM7OJjIykhNOOAGAiRMnMn78eHbu3AlATk4OL7zwwrFn8rLLgoPA+PGh17v33uAAUJGBKQQR4Z577vG/nzp1Kg899BAADz30EFOnTq3U/Bhjjl+d630U2KZw+Nv3KMjJILp5e7ZMGUZUvThaNmnI4k98XTWFLVOGeY20SlST1rS+6iGW3pVI586d/dsZMmQIu3bt4oILLkBVEZHwxz0qy9X8f/8Lv/xleOtWAt/EQhMnTqRFixZVnR1jTDmoc0GhbXwcqV5gaNRnMHkHd9Hs/FvY/dZfaBubzYY139GvXz+++36V66oa14gmp4/g0Lfvkbt3S4nDWNxwww3ccEMY00qnp0OjRuFlds2aat0QHDix0COPPFLV2THGlIM6V310XreW+AawzvjxS3J2bUSAPr17krx+jf8KP8K7ei84coBDK98n7qTT0ZxMbujbiDvvvLPU2dN27tzJqFGjOKlDB/qLMESEH0VY06gRg4CuQBfgb+CvpiItrcb1DCppYqHyMHfuXESEH374AYCnnnqKvn37+h+9evVCRFi3bl2579uYuqpOBYW5K1P574pU/0k4tn0vcvdupdXa2TTO2E50dDSLFi1i9erVFOTnERUdg0RGkZ+2E/ZsJJp8DqxawFtvvcWoUaNC7+T551ERhrdpw8DXX2fjtm2sACYBu4ArgAnAeuC7w4f5cvBgnn7ySRcEmjSp+C/hOJVlYqHjNWvWLM455xxmzZoFuACUlJTkf1xxxRVcffXVdO/evdz3bUxdVWFBQUReEpHdIrI6IK2ZiHwqIj95z029dBGRx0Vkg4h8LyKnVUSeit641rDPYAqyM/j6vf/w5ZdfcsIJJ5CSkkJ8fDyqSn5eLqcnuvsP0retJSoyghdeeIGOHTty6aWXkpyc7IaLCGwUHjOG+UA0EDhVTB8RfnzhBQZccw0XeSWB+g0b8uSTTzJ58uSKONxyV9aJhY5Heno6ixcv5sUXX2R2iHmav/jiC9544w2efvrpctunMaZiSwqvAIOLpE0A/qeqXYD/ee8BLsHVpnQBxgDPVESGit64Ft24BRS4+QDS09PZkrKDrKws9u7dC0BkZGRQ28GRI0fY8OOPnP/ll66+v3PnkOMHrQb6t2oVXBVUUMCaNWuK3eR20kknkZ6ezqFDh8r5aMtfOBMLlZd33nmHwYMHc8opp9C8efOgLr9paWlcf/31zJgxg8aNG5fbPo0xFRgUVPULYH+R5KHADO/1DGBYQPpMdZYC8SLSprzzVPTGNcBNlBMZDSLEtO0KEdH+RfHx8aStWkU9XIt8JBALZIXa+COPFAaAxx6DX/+6vLNf5YoG1cD0e+65xx9MwQ0PEhsbG/a2A6ulBkz+nGnPvuyvohs1apS/Cgng1ltv5ZprrmHAgAHHeCTGmJJUdu+j1qq6w3u9E2jtvU4AtgWsl+Kl7aAIERmDK03QoUOHMu18/MVdufP1pCIbjAAtgIhI8vZsIa4gF9+pL2vvXnoB7YEvgTigAfAeENmxIyxY4L+beO7KVKZM/pztaZnU35sD335VbP89evTgiy++CErbtGkTDRs2rBFXvIE9t+DoEwutWbPGf3NfaYoOUrh1x25Sly7m6mt/oH5sFPn5+YgIU6ZMYebMmWzZsoX//Oc/5XhkxhifKmtoVvU6/5f9c8+paqKqJrZs2bL0DwQY1i+BCCl8PyrpY6IK8qAgn5j8PAoyDxIJtPKWZwArgU1Ao4YNKYiNJbJ1az7ctCloIpmide3pzbuxaVcav/9jYQ+l77//nq5du7J48WI+++wzADIzM7n99tu59957y/o1VInxF3cNa2Kh3r17ExERwUUXXRTWdotWS2WsX0KDnufR5Y6ZJCcns23bNjp37syiRYu4//77efXVV4mKqnO9qY2pFJX9n7VLRNqo6g6vemi3l56KuyD3aeellbsCheRHLwPgK8B32r4GeBlIx0XKqKgooqKiyI2I4Kyf/5z169ezefNmevbsWaw7atGTmojQfNj9vPHuS8yb9Rz16tWjU6dOTJ8+nXfeeYc//OEP3HbbbeTn53PNNdcwduzYijjUcuebQMg3F0Xb+DjGX9y12MRCq1atKtN2i1ZLHVm3kCZnXBmUPmLECF5++WUyMjL4ZZEb+J544gnOPffcMu3TGBOaaDhj7B/rxkU6Ae+rai/v/RRgn6pOFpEJQDNVvVdELgXGAkOAM4DHVfX00rafmJioy5cvL1Oe+v31E1Y+eDHgImIBIN5zSRo3bsxpp53GsmXLqFevHnl5ecTFxbFs2TI6depE5wkfhCzyCLB58qVlyl9dNGDy50HVUj4J8XEsmVDCDHDGmGMmIitUNTHUsgorKYjILGAg0EJEUoAHgcnAGyJyE7AFGOmt/iEuIGzA1dqEcWvwsVGFTve9D0C+V2Lwn9Ajovy9kQIdOnSIBQsWEBsby4EDB2jfvj3btm1j+PDhpKSkkBkdT1ZmOvmH9hJzQhfaXONmKmsbH8ewYcPYuXMnS5curahDqvHGX9w1qE0Batl818bUIBXZ+2i0qrZR1WhVbaeqL6rqPlU9X1W7qOoFqrrfW1dV9TZVPUlVe6tq2S7/y+BgZm7oBV5AiPBmVWvQoAHgqoJiYmKoV68e3bp1o2nTpkRERNCgQQP27dvHiBEj+M8HC2gz+PdENW5Jzq6fyN27jbjoSH5/9gmsWLGCgwcPsmnTpoo6pBpvWL8EJv2yd+2Z79qYGqxO3dEM0CQuOkSq0KDneYAQ6Q1v4bsRS0TIyckhJyeHlJQUxo4dy65du1BVTj31VJKTkxnWL4GTD39H2zMvJapxK/SHz5j0y95kb1jK5ZdfzqhRo0LegGUKDeuXwJIJg9g8+VKWTBhkAcGYKlLngkJGTvHqIVCyU9cCiqoSExPjX1JQUOB/3rdvH88++yw5OTkUFBRwxhlnsGHDBrKysjiQsoEZ911NnxPbsGPJf1n0n38ya9YsRo8eTUZGBtOnTwfckNIiwoYNG/z7mD59OiJCWdtHjDGmvNWpoPDHuavIyQ/dsJ6333V2Kigo8A+GB9CuXTvADRMtEoF07E9k8w5k5eSyp6Ahhw4dYtasWQwZMsT/mYiICN58801++OEHzjnnHFq2bElkZCSrV7sRP3r37h1UcnjzzTfp2bNnuR+vMcaUVZ0KCq8u21osLTK+8MZpqdeQ6JhYsrJz/GlnX3IVANnZOUTENSYtZQORDZpCQT5vfJ1Mk1YJjBs3jtGjRwOuUToyMpI+ffqwe/duOnfuzCOPPEJaWpr/rtxhw4bxzjvvALBx40aaNGli8xEYY6qFOhUUQvW+jf/FtQBExDWGvBxy1LvD2fPGi08QGRkFAvk5mUhULBIZhUTXI48IDsa04sEHH6R3794kJSWxZcsWoqKi2LVrF82aNeO7777jgQceYMyYMf7SQePGjWnfvj2rV69m9uzZVTPPszHGhFCngkIoERGuV25BVjoSEYnm5UBkNLHtewGCxNYnPz+fqGYJxDRvR0yrzkGf3/fDUl566SXadjyRP059BmlxItl5BWxM3srNN9/sH1K6adOmNGnShJSUFAB/4/PcuXMZPnx4pR6zMcaUpM4HhSPrvvAGwotEEWJadSa6qatSimreHgryiGzcksiCPHJ2J3P42w/ITF6J5mWz/7N/EdukBYez89m1axc5ubnkZ6VTkJ9Hq9++winn/ypoSOlvv/3W30Zx2WWX8e9//5sOHTrQuHFjFi5cyLRp0/z58s13vHDhQs4666ygPOfl5dG6dWu2b99eSd+SMaauqPNBITtlDS0uvZv6cfXQnMIB3fKPpJG3bysSFUt0dDR9+pxKdHxrGp8xgo7j5lK/x3nEtT2Fiy68kLhzbyC2XU/a3vAEba5/DAoKOLB51VGHlK5fvz6PPvooDzzwAOC6vs6fPz9opFGAc889l5SUFLZs2eJP++yzz+jZsydt27atoG/FGFNX1amgEClSJCGa/PT9HFwyi+5dTyE6Jpb6Cd3I3bvV9UaSCDT7CPnpe/l6wSdIxn7ytq7kwIJXaBAbxc03Xs+iD95kz4HCuRAiomNBhPzD+0IOKR1o1KhRnHaam09IRBg+fHhQaQFcT6aRI0cG9VaaPXu2v2HbGGPKU50KCvlFWprjOvVFomLI2buFUaNGcfsfxnLNZQORyCiIjKJxp17M+XoTOVlZNG3alBuuv44j2zdwcOmbDOndhnO7t6NDhw40yCo86ednpRPTqjP12vcKGlL6oYceAtx9CuPGjSuWt7i4OCZNmhRyvuPRo0f7g0J2djYffvghI0aMKOdvxxhjKn+U1CrVtH40BzLcMBf5mYfJ2vI9mpdD/sFdTJo0iQYNGpCYmEjL5s1o2rQpKduTuXfyU9zVeQCHsvLYvDf0dJODurfi5U/XsP2lseQd2EGjxCto2LRFqWP3zF2Z6h9xtOh8x3FxhRMCJSYmkp6ezvr161m3bh1nnHEGzZo1K78vxhhjPHWqpBBYUPCN2S/R9Tj5hn9w3nnn0bFjR776ZiVpucLmQ5DboDWbPn6BjE0rUInki6XLmbuycETvjIwMtm7dyi8HJtLvZ2fxs7tfpO1NT5G5+lPG9IxgWL8EGgbMuwDwyiuvMHbsWOauTOXmO+5j7bxXw5rv2FdasKojY0xFqlMlhcDB8Hxj9qd/9zE/Pv8HtkZHkZUVONHmLhABiWT3mw8CQlZ2OsP7t2fxokUUFBQwc+ZMrr/+eurXr88JTerxvjfM87Suh/j6nZdhVMmTzEyZt568ggIkYM6aovMd33jjjf5lo0eP5oorruDgwYPlOheyMcYEqlMlhcA5mk8YPYmI2PruTX4ekdHefMJRAfMKq/c+Isq9yc8HVQYNGsSrr77KoUOH+Pvf/15sP7feeitffPEFycnJJealLPMdA3Tv3p0GDRowaNAg/wiuxhhT3upUSWH8xV256/Uk//wJ+ekHAIht34uIqAg4/D2RsQ0oEEERyMuG/Gwa9rmI9KSPiWnTBclII+Wn1UHDUgwcOJCBAwf638fFxZGa6qqZMjMz6du3r3/Z/v37ueKKK2gbH8eBgLwdbb5jn6SkpPL4GowxpkR1qqQwrF9C0Axp9Tr3AyB371YOJ7vB6vKzj6AFBZDrVSXl55G+8kPQAnK2ryc7bReZmaGv8n3mrkxlwOTP6TzhA4iK4aGXPyApKYmkpCT++te/Ai5ARUUEf/02sYwxpqrVqaAAEB8wn0JEjKtOKsg8VDjeUX4eFOQS2bQNEfVcI3F065OI9FU1AaeeeiqnnnoqGzduLLb9uStTmThnFalpmUENyIEN1OAC1AXdW9EkLtomljHGVBt1qvpo7srUUmdea9CkKUfS9lKQnUGEuukh5cA24hs1osfp/dm6dSt//vOfufTSS2ndunWxzUyZtz5oWklwDchT5q0vdsLv1qYxiV3aMm6czeNsjKke6lRJYcq89UHVR7n73OB0SARNznYjlR45uJ/o2HpI1iF/FVJcXBwJCQk0btwYgCuuuCJkQICjNyAbY0x1JxpqPOkaIjExUcsyW1nnCR8EBYXsnRvYOeNOACQmDs3xnbgFAtaMjIykffv27N+/n8zMTObOnRs0qU6gAZM/JzVEAEiIj2OJ12XVGGOqkoisUNXEUMvqVEkhsEsqQOwJJyPR9SAqFomKwQUDIbJhM0SEli1b0r59e+655x5efvllAHr06MH9999P3759eeutt4rtY/zFXYmLjgxKswZkY0xNUa3aFERkMPAYEAm8oKqTy3P74y/uyp2vJwWldbj7Lbb+80rqdTiV3P0p1D/5TE4aMITkF+9g165d9O3bl40bNzJw4MBiYxKF4ms38A1f0TY+jvEXd7UGZGNMjVBtSgoiEgk8BVwC9ABGi0iP8tzHsH4JQb2PAjXo/nNyd2+mSZf+5C96nrFjxyIidOvWjYULF7Js2TL/unPmzGHXrl1H3c+SCYPYPPlSlkwYZAHBGFNjVJugAJwObFDVTaqaA8wGhpb3Th66omexNM3LIW3Ja0Q370DEly/ymxGX8+CDDwLw+uuv8+677zJu3Di6du1K9+7dmTdvHo0aNSrvrBljTJWrNg3NInIlMFhVb/beXwOcoapji6w3BhgD0KFDh/6Bk8+Eq/ufPiIzt6BYenxcNEkPljxekTHG1Aa1qqFZVZ9T1URVTWzZsuUxbWPSL08lOiJ4wp3oCAlZijDGmLqkOjU0pwLtA96389LKnTUGG2NMaNUpKHwDdBGRzrhgMAr4dUXtbFi/BAsCxhhTRLUJCqqaJyJjgXm4LqkvqeqaKs6WMcbUKdUmKACo6ofAh1WdD2OMqatqXEOzMcaYimNBwRhjjJ8FBWOMMX7V5ua1YyEie4Cy373mtAD2lrpWzVbbj7G2Hx/U/mOs7ccH1fMYO6pqyBu9anRQOB4isrykO/pqi9p+jLX9+KD2H2NtPz6oecdo1UfGGGP8LCgYY4zxq8tB4bmqzkAlqO3HWNuPD2r/Mdb244Madox1tk3BGGNMcXW5pGCMMaYICwrGGGP86mRQEJHBIrJeRDaIyISqzs/RiMhLIrJbRFYHpDUTkU9F5CfvuamXLiLyuHdc34vIaQGfuc5b/ycRuS4gvb+IrPI+87iIBE80UfHH115E5ovIWhFZIyJ31MJjrCciX4vId94x/sVL7ywiy7x8vS4iMV56rPd+g7e8U8C2Jnrp60Xk4oD0Kv9Ni0ikiKwUkfe997Xt+JK931GSiCz30mrN79RPVevUAzcC60bgRCAG+A7oUdX5Okp+fw6cBqwOSPs/YIL3egLwqPd6CPARIMCZwDIvvRmwyXtu6r1u6i372ltXvM9eUsnH1wY4zXvdCPgRN0d3bTpGARp6r6OBZV5+3gBGeenPAr/zXv8eeNZ7PQp43Xvdw/u9xgKdvd9xZHX5TQN3A68B73vva9vxJQMtiqTVmt+p71EXSwqVMhd0eVHVL4D9RZKHAjO81zOAYQHpM9VZCsSLSBvgYuBTVd2vqgeAT4HB3rLGqrpU3a9yZsC2KoWq7lDVb73Xh4F1QAK16xhVVdO9t9HeQ4FBwFteetFj9B37W8D53lXjUGC2qmar6mZgA+73XOW/aRFpB1wKvOC9F2rR8R1Frfmd+tTFoJAAbAt4n+Kl1SStVXWH93on0Np7XdKxHS09JUR6lfCqEfrhrqRr1TF6VStJwG7ciWAjkKaqeSHy5T8Wb/lBoDllP/bKNB24F/BNft6c2nV84AL5JyKyQtxc8VDLfqdQzeZTMGWnqioiNb5fsYg0BP4L3KmqhwKrU2vDMapqPtBXROKBt4FuVZuj8iMilwG7VXWFiAys4uxUpHNUNVVEWgGfisgPgQtrw+8U6mZJodLmgq5Au7ziJt7zbi+9pGM7Wnq7EOmVSkSicQHhVVWd4yXXqmP0UdU0YD5wFq5KwXdhFpgv/7F4y5sA+yj7sVeWAcAVIpKMq9oZBDxG7Tk+AFQ11XvejQvsp1Mbf6dV0ZBRlQ9c6WgTriHL12jVs6rzVUqeOxHc0DyF4Mat//NeX0pw49bXXnozYDOuYaup97qZt6xo49aQSj42wdWfTi+SXpuOsSUQ772OAxYBlwFvEtwQ+3vv9W0EN8S+4b3uSXBD7CZcI2y1+U0DAylsaK41xwc0ABoFvP4SGFybfqf+Y62KnVb1A9cz4Edcve4DVZ2fUvI6C9gB5OLqGW/C1b/+D/gJ+CzgRyXAU95xrQISA7ZzI67hbgNwQ0B6IrDa+8yTeHe5V+LxnYOrq/0eSPIeQ2rZMZ4KrPSOcTXwZy/9RO9EsAF3Ao310ut57zd4y08M2NYD3nGsJ6B3SnX5TRMcFGrN8XnH8p33WOPLQ236nfoeNsyFMcYYv7rYpmCMMaYEFhSMMcb4WVAwxhjjZ0HBGGOMnwUFY4wxfhYUTLUmIg94I4t+741OeUYp6y8QkeOaJF1ErhWR1d6IlStFZNzxbK+yiMidIlI/4P2H3h3UxoTNhrkw1ZaInIW7yes0Vc0WkRa4m5fKcx+R6oag8L2/BLgTuEhVt4tILHBtee6zAt0J/AfIAFDVIVWaG1MjWUnBVGdtgL2qmg2gqntVdTuAiJzvXcWvEjfnRGzRD4vIMyKyXALmMPDSk0XkURH5FriqyMcmAuN8+1E3Yufz3uf6ishSr9TydsDY+Qu87X0tIj+KyLleek8vLcn7TBcR6STBc2OME5GHArYzzcvzOhH5mYjM8cbdf9hbp5OI/CAir3rrvCUi9UXkdqAtMF9E5gccZwvv9d1e6We1iNwZsK11IvK89x19IiJxx/cnMzWdBQVTnX0CtPdOtE+LyC/ATVoDvAL8SlV740q8vwvx+QdUNRF3R/EvROTUgGX7VPU0VZ1d5DO9gBUl5GcmcJ+qnoq7S/XBgGVRqno67mrdl34r8Jiq9sXdrRo4CmZJcrw8Pwu8gxsSohdwvYg099bpCjytqt2BQ7jhIx4HtgPnqep5gRsUkf7ADcAZuGEUbhGRft7iLsBTqtoTSANGhJFHU4tZUDDVlro5CPoDY4A9wOsicj3upLhZVX/0Vp2Bm4yoqJFeaWAlblydHgHLXi9LXkSkCW78ooUl7NM3kN8K3FhVAF8B94vIfUBHVc0MY1fves+rgDXq5pvIxo394xtIbZuqLvFe/wc3VMjRnAO8rapHvO90DnCut2yzqiaFyLupoywomGpNVfNVdYGqPgiMJcwrWRHpDIwDzveu7D/Ajbnjc6SEj67BBaKyyvae8/Ha6lT1NeAKIBP4UEQGAXkE/98F5ilwOwUBr33vfW2ARcemOZ6xagL34c+7qbssKJhqS0S6ikiXgKS+wBbcYGmdRORkL/0aYGGRjzfGnfgPikhr4JIwdzsJmCIiJ3h5iBGRm1X1IHDA115Qwj6L5v9EYJNXtfMOrhprF9BKRJp77SCXhZmvQB28RniAXwOLvdeHcVOaFrUIGOa1PTQAhntpxhRjVwWmOmsIPOF1q8zDjSo5RlWzROQG4E1vPP5vcHXwfqr6nYisBH7AzXS1hDCo6odeEPlMRAR3Ff6St/g64Fmv2+cmXD390YwErhGRXNysXH9X1VwR+StudNBUL39ltR64TUReAtYCz3jpzwEfi8j2wHYFVf1WRF7x9gnwgqquFDfTnTFBbJRUY2oQ70T+vqr2quq8mNrJqo+MMcb4WUnBGGOMn5UUjDHG+FlQMMYY42dBwRhjjJ8FBWOMMX4WFIwxxvj9P2Kik4iMbG68AAAAAElFTkSuQmCC\n",
>>>>>>> e1fb8e11d20cc43a4afe87dc5e0db18febd8f353
      "text/plain": [
       "<Figure size 432x288 with 1 Axes>"
      ]
     },
     "metadata": {
      "needs_background": "light"
     },
     "output_type": "display_data"
    }
   ],
   "source": [
    "##2012 - A year in the middle\n",
    "emiss = emissions[\"2012\"]\n",
    "consump = consumption[\"2012\"]\n",
    "year = \"2012\"\n",
<<<<<<< HEAD
=======
    "x_coord = 10000\n",
    "y_coord = 500\n",
>>>>>>> e1fb8e11d20cc43a4afe87dc5e0db18febd8f353
    "scatterplots()"
   ]
  },
  {
   "cell_type": "markdown",
   "metadata": {},
   "source": [
    "No observable correlation between Solar Consumption and Emissions in 2012"
   ]
  },
  {
   "cell_type": "code",
<<<<<<< HEAD
   "execution_count": 45,
   "metadata": {},
   "outputs": [
    {
     "data": {
      "image/png": "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\n",
=======
   "execution_count": 21,
   "metadata": {},
   "outputs": [
    {
     "name": "stdout",
     "output_type": "stream",
     "text": [
      "The r-squared is: 0.1404103573668808\n"
     ]
    },
    {
     "data": {
      "image/png": "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\n",
>>>>>>> e1fb8e11d20cc43a4afe87dc5e0db18febd8f353
      "text/plain": [
       "<Figure size 432x288 with 1 Axes>"
      ]
     },
     "metadata": {
      "needs_background": "light"
     },
     "output_type": "display_data"
    }
   ],
   "source": [
    "##2017 -- The last year we have data for\n",
    "emiss = emissions[\"2017\"]\n",
    "consump = consumption[\"2017\"]\n",
    "year = \"2017\"\n",
<<<<<<< HEAD
=======
    "x_coord = 50000\n",
    "y_coord = 500\n",
>>>>>>> e1fb8e11d20cc43a4afe87dc5e0db18febd8f353
    "scatterplots()"
   ]
  },
  {
   "cell_type": "markdown",
   "metadata": {},
   "source": [
    "No observable correlation between Solar Consumption and Emissions in 2017"
   ]
  },
  {
   "cell_type": "code",
<<<<<<< HEAD
   "execution_count": 46,
   "metadata": {},
   "outputs": [
    {
     "data": {
      "image/png": "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\n",
=======
   "execution_count": 22,
   "metadata": {},
   "outputs": [
    {
     "name": "stdout",
     "output_type": "stream",
     "text": [
      "The r-squared is: 0.13590769852157916\n"
     ]
    },
    {
     "data": {
      "image/png": "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\n",
>>>>>>> e1fb8e11d20cc43a4afe87dc5e0db18febd8f353
      "text/plain": [
       "<Figure size 432x288 with 1 Axes>"
      ]
     },
     "metadata": {
      "needs_background": "light"
     },
     "output_type": "display_data"
    }
   ],
   "source": [
    "##Compare the average emissions to the average consumption over the 10 years\n",
    "emiss = emissions.mean(axis=1)\n",
    "consump = consumption.mean(axis=1)\n",
<<<<<<< HEAD
    "year = \"All Years\"\n",
=======
    "year = \"Average Emissions over 10 Years\"\n",
    "x_coord = 20000\n",
    "y_coord = 500\n",
>>>>>>> e1fb8e11d20cc43a4afe87dc5e0db18febd8f353
    "scatterplots()"
   ]
  },
  {
   "cell_type": "markdown",
   "metadata": {},
   "source": [
    "No observable correlation between the average Solar Consumption and the average Emissions "
   ]
  },
  {
   "cell_type": "code",
<<<<<<< HEAD
   "execution_count": 47,
   "metadata": {},
   "outputs": [
    {
     "data": {
      "image/png": "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\n",
=======
   "execution_count": 23,
   "metadata": {},
   "outputs": [
    {
     "name": "stdout",
     "output_type": "stream",
     "text": [
      "The r-squared is: 0.13590769852157938\n"
     ]
    },
    {
     "data": {
      "image/png": "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\n",
>>>>>>> e1fb8e11d20cc43a4afe87dc5e0db18febd8f353
      "text/plain": [
       "<Figure size 432x288 with 1 Axes>"
      ]
     },
     "metadata": {
      "needs_background": "light"
     },
     "output_type": "display_data"
    }
   ],
   "source": [
    "##Compare the total emissions to the total consumption over the 10 years\n",
    "emiss = emissions.sum(axis=1)\n",
    "consump = consumption.sum(axis=1)\n",
<<<<<<< HEAD
    "year = \"All Years\"\n",
    "scatterplots()"
=======
    "year = \"Total Emissions over 10 years\"\n",
    "x_coord = 50000\n",
    "y_coord = 5000\n",
    "scatterplots()\n"
>>>>>>> e1fb8e11d20cc43a4afe87dc5e0db18febd8f353
   ]
  },
  {
   "cell_type": "markdown",
   "metadata": {},
   "source": [
    "No observable correlation between the Total Solar Consumption and the Total Emissions "
   ]
  },
  {
   "cell_type": "code",
<<<<<<< HEAD
   "execution_count": null,
   "metadata": {},
   "outputs": [],
=======
   "execution_count": 67,
   "metadata": {},
   "outputs": [
    {
     "data": {
      "text/plain": [
       "State\n",
       "IL   -38.388519\n",
       "GA   -39.051897\n",
       "IN   -50.122083\n",
       "PA   -50.807020\n",
       "OH   -54.293206\n",
       "dtype: float64"
      ]
     },
     "execution_count": 67,
     "metadata": {},
     "output_type": "execute_result"
    }
   ],
>>>>>>> e1fb8e11d20cc43a4afe87dc5e0db18febd8f353
   "source": [
    "##Calculate change in emissions from 2008 to 2017 and capture the 5 states with largest changes and 5 smallest changes\n",
    "emis_change = emissions['2017']-emissions['2008']\n",
    "emis_change = emis_change.sort_values(0, ascending=False)\n",
    "top_five_emis = emis_change.head()\n",
    "bottom_five_emis = emis_change.tail()\n",
    "bottom_five_emis"
   ]
  },
  {
   "cell_type": "markdown",
   "metadata": {},
   "source": [
    "# Calculate emissions to consumption percentages and analyze the results"
   ]
  },
  {
   "cell_type": "code",
<<<<<<< HEAD
   "execution_count": 11,
=======
   "execution_count": 40,
>>>>>>> e1fb8e11d20cc43a4afe87dc5e0db18febd8f353
   "metadata": {},
   "outputs": [
    {
     "data": {
      "text/plain": [
       "2008_emis    float64\n",
       "2009_emis    float64\n",
       "2010_emis    float64\n",
       "2011_emis    float64\n",
       "2012_emis    float64\n",
       "2013_emis    float64\n",
       "2014_emis    float64\n",
       "2015_emis    float64\n",
       "2016_emis    float64\n",
       "2017_emis    float64\n",
       "2008_con       int64\n",
       "2009_con       int64\n",
       "2010_con       int64\n",
       "2011_con       int64\n",
       "2012_con       int64\n",
       "2013_con       int64\n",
       "2014_con       int64\n",
       "2015_con       int64\n",
       "2016_con       int64\n",
       "2017_con       int64\n",
       "dtype: object"
      ]
     },
<<<<<<< HEAD
     "execution_count": 11,
=======
     "execution_count": 40,
>>>>>>> e1fb8e11d20cc43a4afe87dc5e0db18febd8f353
     "metadata": {},
     "output_type": "execute_result"
    }
   ],
   "source": [
    "##Merge the 2 dataframes\n",
    "merged_df = pd.merge(emissions, consumption, how='inner', on='State', suffixes=('_emis', '_con'))\n",
    "\n",
    "merged_df.head()\n",
    "merged_df.dtypes"
   ]
  },
  {
   "cell_type": "code",
<<<<<<< HEAD
   "execution_count": 14,
=======
   "execution_count": 41,
>>>>>>> e1fb8e11d20cc43a4afe87dc5e0db18febd8f353
   "metadata": {},
   "outputs": [],
   "source": [
    "##Calculate the percentage of emissions to consumption\n",
    "emis_to_con_2008 = round((merged_df[\"2008_emis\"]/merged_df[\"2008_con\"])*100 ,2)\n",
    "emis_to_con_2009 = round((merged_df[\"2009_emis\"]/merged_df[\"2009_con\"])*100 ,2)\n",
    "emis_to_con_2010 = round((merged_df[\"2010_emis\"]/merged_df[\"2010_con\"])*100 ,2)\n",
    "emis_to_con_2011 = round((merged_df[\"2011_emis\"]/merged_df[\"2011_con\"])*100 ,2)\n",
    "emis_to_con_2012 = round((merged_df[\"2012_emis\"]/merged_df[\"2012_con\"])*100 ,2)\n",
    "emis_to_con_2013 = round((merged_df[\"2013_emis\"]/merged_df[\"2013_con\"])*100 ,2)\n",
    "emis_to_con_2014 = round((merged_df[\"2014_emis\"]/merged_df[\"2014_con\"])*100 ,2)\n",
    "emis_to_con_2015 = round((merged_df[\"2015_emis\"]/merged_df[\"2015_con\"])*100 ,2)\n",
    "emis_to_con_2016 = round((merged_df[\"2016_emis\"]/merged_df[\"2016_con\"])*100 ,2)\n",
    "emis_to_con_2017 = round((merged_df[\"2017_emis\"]/merged_df[\"2017_con\"])*100 ,2)\n"
   ]
  },
  {
   "cell_type": "code",
<<<<<<< HEAD
   "execution_count": 15,
=======
   "execution_count": 42,
>>>>>>> e1fb8e11d20cc43a4afe87dc5e0db18febd8f353
   "metadata": {},
   "outputs": [
    {
     "data": {
      "text/html": [
       "<div>\n",
       "<style scoped>\n",
       "    .dataframe tbody tr th:only-of-type {\n",
       "        vertical-align: middle;\n",
       "    }\n",
       "\n",
       "    .dataframe tbody tr th {\n",
       "        vertical-align: top;\n",
       "    }\n",
       "\n",
       "    .dataframe thead th {\n",
       "        text-align: right;\n",
       "    }\n",
       "</style>\n",
       "<table border=\"1\" class=\"dataframe\">\n",
       "  <thead>\n",
       "    <tr style=\"text-align: right;\">\n",
       "      <th></th>\n",
       "      <th>2008</th>\n",
       "      <th>2009</th>\n",
       "      <th>2010</th>\n",
       "      <th>2011</th>\n",
       "      <th>2012</th>\n",
       "      <th>2013</th>\n",
       "      <th>2014</th>\n",
       "      <th>2015</th>\n",
       "      <th>2016</th>\n",
       "      <th>2017</th>\n",
       "    </tr>\n",
       "    <tr>\n",
       "      <th>State</th>\n",
       "      <th></th>\n",
       "      <th></th>\n",
       "      <th></th>\n",
       "      <th></th>\n",
       "      <th></th>\n",
       "      <th></th>\n",
       "      <th></th>\n",
       "      <th></th>\n",
       "      <th></th>\n",
       "      <th></th>\n",
       "    </tr>\n",
       "  </thead>\n",
       "  <tbody>\n",
       "    <tr>\n",
       "      <th>AL</th>\n",
       "      <td>218.23</td>\n",
       "      <td>193.58</td>\n",
       "      <td>195.18</td>\n",
       "      <td>182.83</td>\n",
       "      <td>157.74</td>\n",
       "      <td>124.47</td>\n",
       "      <td>123.08</td>\n",
       "      <td>118.82</td>\n",
       "      <td>26.65</td>\n",
       "      <td>6.02</td>\n",
       "    </tr>\n",
       "    <tr>\n",
       "      <th>AK</th>\n",
       "      <td>1971.80</td>\n",
       "      <td>1259.61</td>\n",
       "      <td>1290.98</td>\n",
       "      <td>1286.19</td>\n",
       "      <td>1267.98</td>\n",
       "      <td>1199.18</td>\n",
       "      <td>1172.37</td>\n",
       "      <td>1202.26</td>\n",
       "      <td>248.14</td>\n",
       "      <td>171.48</td>\n",
       "    </tr>\n",
       "    <tr>\n",
       "      <th>AZ</th>\n",
       "      <td>3.28</td>\n",
       "      <td>2.71</td>\n",
       "      <td>2.11</td>\n",
       "      <td>1.23</td>\n",
       "      <td>0.50</td>\n",
       "      <td>0.30</td>\n",
       "      <td>0.21</td>\n",
       "      <td>0.19</td>\n",
       "      <td>0.16</td>\n",
       "      <td>0.13</td>\n",
       "    </tr>\n",
       "    <tr>\n",
       "      <th>AR</th>\n",
       "      <td>120.87</td>\n",
       "      <td>104.01</td>\n",
       "      <td>82.15</td>\n",
       "      <td>79.02</td>\n",
       "      <td>65.94</td>\n",
       "      <td>63.29</td>\n",
       "      <td>62.15</td>\n",
       "      <td>47.72</td>\n",
       "      <td>16.75</td>\n",
       "      <td>14.54</td>\n",
       "    </tr>\n",
       "    <tr>\n",
       "      <th>CA</th>\n",
       "      <td>1.27</td>\n",
       "      <td>1.17</td>\n",
       "      <td>1.00</td>\n",
       "      <td>0.83</td>\n",
       "      <td>0.65</td>\n",
       "      <td>0.42</td>\n",
       "      <td>0.22</td>\n",
       "      <td>0.17</td>\n",
       "      <td>0.13</td>\n",
       "      <td>0.11</td>\n",
       "    </tr>\n",
       "  </tbody>\n",
       "</table>\n",
       "</div>"
      ],
      "text/plain": [
       "          2008     2009     2010     2011     2012     2013     2014     2015  \\\n",
       "State                                                                           \n",
       "AL      218.23   193.58   195.18   182.83   157.74   124.47   123.08   118.82   \n",
       "AK     1971.80  1259.61  1290.98  1286.19  1267.98  1199.18  1172.37  1202.26   \n",
       "AZ        3.28     2.71     2.11     1.23     0.50     0.30     0.21     0.19   \n",
       "AR      120.87   104.01    82.15    79.02    65.94    63.29    62.15    47.72   \n",
       "CA        1.27     1.17     1.00     0.83     0.65     0.42     0.22     0.17   \n",
       "\n",
       "         2016    2017  \n",
       "State                  \n",
       "AL      26.65    6.02  \n",
       "AK     248.14  171.48  \n",
       "AZ       0.16    0.13  \n",
       "AR      16.75   14.54  \n",
       "CA       0.13    0.11  "
      ]
     },
<<<<<<< HEAD
     "execution_count": 15,
=======
     "execution_count": 42,
>>>>>>> e1fb8e11d20cc43a4afe87dc5e0db18febd8f353
     "metadata": {},
     "output_type": "execute_result"
    }
   ],
   "source": [
    "##Create a new dataframe with the percentage results\n",
    "percent_df = pd.DataFrame({\n",
    "    \"2008\": emis_to_con_2008,\n",
    "    \"2009\": emis_to_con_2009,\n",
    "    \"2010\": emis_to_con_2010,\n",
    "    \"2011\": emis_to_con_2011,\n",
    "    \"2012\": emis_to_con_2012,\n",
    "    \"2013\": emis_to_con_2013,\n",
    "    \"2014\": emis_to_con_2014,\n",
    "    \"2015\": emis_to_con_2015,\n",
    "    \"2016\": emis_to_con_2016,\n",
    "    \"2017\": emis_to_con_2017\n",
    "})\n",
    "percent_df.head()"
   ]
  },
  {
   "cell_type": "code",
<<<<<<< HEAD
   "execution_count": 18,
=======
   "execution_count": 43,
>>>>>>> e1fb8e11d20cc43a4afe87dc5e0db18febd8f353
   "metadata": {},
   "outputs": [
    {
     "data": {
      "text/html": [
       "<div>\n",
       "<style scoped>\n",
       "    .dataframe tbody tr th:only-of-type {\n",
       "        vertical-align: middle;\n",
       "    }\n",
       "\n",
       "    .dataframe tbody tr th {\n",
       "        vertical-align: top;\n",
       "    }\n",
       "\n",
       "    .dataframe thead th {\n",
       "        text-align: right;\n",
       "    }\n",
       "</style>\n",
       "<table border=\"1\" class=\"dataframe\">\n",
       "  <thead>\n",
       "    <tr style=\"text-align: right;\">\n",
       "      <th></th>\n",
       "      <th>2008</th>\n",
       "      <th>2009</th>\n",
       "      <th>2010</th>\n",
       "      <th>2011</th>\n",
       "      <th>2012</th>\n",
       "      <th>2013</th>\n",
       "      <th>2014</th>\n",
       "      <th>2015</th>\n",
       "      <th>2016</th>\n",
       "      <th>2017</th>\n",
       "      <th>Average</th>\n",
       "    </tr>\n",
       "    <tr>\n",
       "      <th>State</th>\n",
       "      <th></th>\n",
       "      <th></th>\n",
       "      <th></th>\n",
       "      <th></th>\n",
       "      <th></th>\n",
       "      <th></th>\n",
       "      <th></th>\n",
       "      <th></th>\n",
       "      <th></th>\n",
       "      <th></th>\n",
       "      <th></th>\n",
       "    </tr>\n",
       "  </thead>\n",
       "  <tbody>\n",
       "    <tr>\n",
       "      <th>AL</th>\n",
       "      <td>218.23</td>\n",
       "      <td>193.58</td>\n",
       "      <td>195.18</td>\n",
       "      <td>182.83</td>\n",
       "      <td>157.74</td>\n",
       "      <td>124.47</td>\n",
       "      <td>123.08</td>\n",
       "      <td>118.82</td>\n",
       "      <td>26.65</td>\n",
       "      <td>6.02</td>\n",
       "      <td>134.660</td>\n",
       "    </tr>\n",
       "    <tr>\n",
       "      <th>AK</th>\n",
       "      <td>1971.80</td>\n",
       "      <td>1259.61</td>\n",
       "      <td>1290.98</td>\n",
       "      <td>1286.19</td>\n",
       "      <td>1267.98</td>\n",
       "      <td>1199.18</td>\n",
       "      <td>1172.37</td>\n",
       "      <td>1202.26</td>\n",
       "      <td>248.14</td>\n",
       "      <td>171.48</td>\n",
       "      <td>1106.999</td>\n",
       "    </tr>\n",
       "    <tr>\n",
       "      <th>AZ</th>\n",
       "      <td>3.28</td>\n",
       "      <td>2.71</td>\n",
       "      <td>2.11</td>\n",
       "      <td>1.23</td>\n",
       "      <td>0.50</td>\n",
       "      <td>0.30</td>\n",
       "      <td>0.21</td>\n",
       "      <td>0.19</td>\n",
       "      <td>0.16</td>\n",
       "      <td>0.13</td>\n",
       "      <td>1.082</td>\n",
       "    </tr>\n",
       "    <tr>\n",
       "      <th>AR</th>\n",
       "      <td>120.87</td>\n",
       "      <td>104.01</td>\n",
       "      <td>82.15</td>\n",
       "      <td>79.02</td>\n",
       "      <td>65.94</td>\n",
       "      <td>63.29</td>\n",
       "      <td>62.15</td>\n",
       "      <td>47.72</td>\n",
       "      <td>16.75</td>\n",
       "      <td>14.54</td>\n",
       "      <td>65.644</td>\n",
       "    </tr>\n",
       "    <tr>\n",
       "      <th>CA</th>\n",
       "      <td>1.27</td>\n",
       "      <td>1.17</td>\n",
       "      <td>1.00</td>\n",
       "      <td>0.83</td>\n",
       "      <td>0.65</td>\n",
       "      <td>0.42</td>\n",
       "      <td>0.22</td>\n",
       "      <td>0.17</td>\n",
       "      <td>0.13</td>\n",
       "      <td>0.11</td>\n",
       "      <td>0.597</td>\n",
       "    </tr>\n",
       "  </tbody>\n",
       "</table>\n",
       "</div>"
      ],
      "text/plain": [
       "          2008     2009     2010     2011     2012     2013     2014     2015  \\\n",
       "State                                                                           \n",
       "AL      218.23   193.58   195.18   182.83   157.74   124.47   123.08   118.82   \n",
       "AK     1971.80  1259.61  1290.98  1286.19  1267.98  1199.18  1172.37  1202.26   \n",
       "AZ        3.28     2.71     2.11     1.23     0.50     0.30     0.21     0.19   \n",
       "AR      120.87   104.01    82.15    79.02    65.94    63.29    62.15    47.72   \n",
       "CA        1.27     1.17     1.00     0.83     0.65     0.42     0.22     0.17   \n",
       "\n",
       "         2016    2017   Average  \n",
       "State                            \n",
       "AL      26.65    6.02   134.660  \n",
       "AK     248.14  171.48  1106.999  \n",
       "AZ       0.16    0.13     1.082  \n",
       "AR      16.75   14.54    65.644  \n",
       "CA       0.13    0.11     0.597  "
      ]
     },
<<<<<<< HEAD
     "execution_count": 18,
=======
     "execution_count": 43,
>>>>>>> e1fb8e11d20cc43a4afe87dc5e0db18febd8f353
     "metadata": {},
     "output_type": "execute_result"
    }
   ],
   "source": [
    "##Calculate the average emission vs consumption across all of the years for each state\n",
    "percent_df[\"Average\"] = percent_df.mean(axis=1)\n",
    "percent_df.head()"
   ]
  },
  {
   "cell_type": "code",
<<<<<<< HEAD
   "execution_count": 20,
=======
   "execution_count": 44,
>>>>>>> e1fb8e11d20cc43a4afe87dc5e0db18febd8f353
   "metadata": {},
   "outputs": [],
   "source": [
    "##Sort by the average\n",
    "percent_df = percent_df.sort_values('Average')\n",
    "percent_df.head()\n",
    "lowest_emis_to_con = percent_df.head()\n",
    "highest_emis_to_con = percent_df.tail()"
   ]
  },
  {
   "cell_type": "code",
<<<<<<< HEAD
   "execution_count": 21,
=======
   "execution_count": 45,
>>>>>>> e1fb8e11d20cc43a4afe87dc5e0db18febd8f353
   "metadata": {},
   "outputs": [
    {
     "data": {
      "text/html": [
       "<div>\n",
       "<style scoped>\n",
       "    .dataframe tbody tr th:only-of-type {\n",
       "        vertical-align: middle;\n",
       "    }\n",
       "\n",
       "    .dataframe tbody tr th {\n",
       "        vertical-align: top;\n",
       "    }\n",
       "\n",
       "    .dataframe thead th {\n",
       "        text-align: right;\n",
       "    }\n",
       "</style>\n",
       "<table border=\"1\" class=\"dataframe\">\n",
       "  <thead>\n",
       "    <tr style=\"text-align: right;\">\n",
       "      <th></th>\n",
       "      <th>2008</th>\n",
       "      <th>2009</th>\n",
       "      <th>2010</th>\n",
       "      <th>2011</th>\n",
       "      <th>2012</th>\n",
       "      <th>2013</th>\n",
       "      <th>2014</th>\n",
       "      <th>2015</th>\n",
       "      <th>2016</th>\n",
       "      <th>2017</th>\n",
       "      <th>Average</th>\n",
       "    </tr>\n",
       "    <tr>\n",
       "      <th>State</th>\n",
       "      <th></th>\n",
       "      <th></th>\n",
       "      <th></th>\n",
       "      <th></th>\n",
       "      <th></th>\n",
       "      <th></th>\n",
       "      <th></th>\n",
       "      <th></th>\n",
       "      <th></th>\n",
       "      <th></th>\n",
       "      <th></th>\n",
       "    </tr>\n",
       "  </thead>\n",
       "  <tbody>\n",
       "    <tr>\n",
       "      <th>HI</th>\n",
       "      <td>1.07</td>\n",
       "      <td>0.93</td>\n",
       "      <td>0.82</td>\n",
       "      <td>0.68</td>\n",
       "      <td>0.44</td>\n",
       "      <td>0.30</td>\n",
       "      <td>0.24</td>\n",
       "      <td>0.22</td>\n",
       "      <td>0.19</td>\n",
       "      <td>0.14</td>\n",
       "      <td>0.503</td>\n",
       "    </tr>\n",
       "    <tr>\n",
       "      <th>CA</th>\n",
       "      <td>1.27</td>\n",
       "      <td>1.17</td>\n",
       "      <td>1.00</td>\n",
       "      <td>0.83</td>\n",
       "      <td>0.65</td>\n",
       "      <td>0.42</td>\n",
       "      <td>0.22</td>\n",
       "      <td>0.17</td>\n",
       "      <td>0.13</td>\n",
       "      <td>0.11</td>\n",
       "      <td>0.597</td>\n",
       "    </tr>\n",
       "    <tr>\n",
       "      <th>NV</th>\n",
       "      <td>1.54</td>\n",
       "      <td>1.38</td>\n",
       "      <td>1.11</td>\n",
       "      <td>0.79</td>\n",
       "      <td>0.57</td>\n",
       "      <td>0.41</td>\n",
       "      <td>0.32</td>\n",
       "      <td>0.19</td>\n",
       "      <td>0.11</td>\n",
       "      <td>0.08</td>\n",
       "      <td>0.650</td>\n",
       "    </tr>\n",
       "    <tr>\n",
       "      <th>FL</th>\n",
       "      <td>1.01</td>\n",
       "      <td>0.96</td>\n",
       "      <td>0.98</td>\n",
       "      <td>0.88</td>\n",
       "      <td>0.81</td>\n",
       "      <td>0.78</td>\n",
       "      <td>0.76</td>\n",
       "      <td>0.77</td>\n",
       "      <td>0.74</td>\n",
       "      <td>0.60</td>\n",
       "      <td>0.829</td>\n",
       "    </tr>\n",
       "    <tr>\n",
       "      <th>AZ</th>\n",
       "      <td>3.28</td>\n",
       "      <td>2.71</td>\n",
       "      <td>2.11</td>\n",
       "      <td>1.23</td>\n",
       "      <td>0.50</td>\n",
       "      <td>0.30</td>\n",
       "      <td>0.21</td>\n",
       "      <td>0.19</td>\n",
       "      <td>0.16</td>\n",
       "      <td>0.13</td>\n",
       "      <td>1.082</td>\n",
       "    </tr>\n",
       "  </tbody>\n",
       "</table>\n",
       "</div>"
      ],
      "text/plain": [
       "       2008  2009  2010  2011  2012  2013  2014  2015  2016  2017  Average\n",
       "State                                                                     \n",
       "HI     1.07  0.93  0.82  0.68  0.44  0.30  0.24  0.22  0.19  0.14    0.503\n",
       "CA     1.27  1.17  1.00  0.83  0.65  0.42  0.22  0.17  0.13  0.11    0.597\n",
       "NV     1.54  1.38  1.11  0.79  0.57  0.41  0.32  0.19  0.11  0.08    0.650\n",
       "FL     1.01  0.96  0.98  0.88  0.81  0.78  0.76  0.77  0.74  0.60    0.829\n",
       "AZ     3.28  2.71  2.11  1.23  0.50  0.30  0.21  0.19  0.16  0.13    1.082"
      ]
     },
<<<<<<< HEAD
     "execution_count": 21,
=======
     "execution_count": 45,
>>>>>>> e1fb8e11d20cc43a4afe87dc5e0db18febd8f353
     "metadata": {},
     "output_type": "execute_result"
    }
   ],
   "source": [
    "lowest_emis_to_con\n"
   ]
  },
  {
   "cell_type": "code",
<<<<<<< HEAD
   "execution_count": 22,
=======
   "execution_count": 46,
>>>>>>> e1fb8e11d20cc43a4afe87dc5e0db18febd8f353
   "metadata": {},
   "outputs": [
    {
     "data": {
      "text/html": [
       "<div>\n",
       "<style scoped>\n",
       "    .dataframe tbody tr th:only-of-type {\n",
       "        vertical-align: middle;\n",
       "    }\n",
       "\n",
       "    .dataframe tbody tr th {\n",
       "        vertical-align: top;\n",
       "    }\n",
       "\n",
       "    .dataframe thead th {\n",
       "        text-align: right;\n",
       "    }\n",
       "</style>\n",
       "<table border=\"1\" class=\"dataframe\">\n",
       "  <thead>\n",
       "    <tr style=\"text-align: right;\">\n",
       "      <th></th>\n",
       "      <th>2008</th>\n",
       "      <th>2009</th>\n",
       "      <th>2010</th>\n",
       "      <th>2011</th>\n",
       "      <th>2012</th>\n",
       "      <th>2013</th>\n",
       "      <th>2014</th>\n",
       "      <th>2015</th>\n",
       "      <th>2016</th>\n",
       "      <th>2017</th>\n",
       "      <th>Average</th>\n",
       "    </tr>\n",
       "    <tr>\n",
       "      <th>State</th>\n",
       "      <th></th>\n",
       "      <th></th>\n",
       "      <th></th>\n",
       "      <th></th>\n",
       "      <th></th>\n",
       "      <th></th>\n",
       "      <th></th>\n",
       "      <th></th>\n",
       "      <th></th>\n",
       "      <th></th>\n",
       "      <th></th>\n",
       "    </tr>\n",
       "  </thead>\n",
       "  <tbody>\n",
       "    <tr>\n",
       "      <th>OK</th>\n",
       "      <td>463.93</td>\n",
       "      <td>422.37</td>\n",
       "      <td>404.99</td>\n",
       "      <td>345.23</td>\n",
       "      <td>289.43</td>\n",
       "      <td>214.58</td>\n",
       "      <td>212.93</td>\n",
       "      <td>141.53</td>\n",
       "      <td>83.95</td>\n",
       "      <td>24.43</td>\n",
       "      <td>260.337</td>\n",
       "    </tr>\n",
       "    <tr>\n",
       "      <th>MS</th>\n",
       "      <td>536.30</td>\n",
       "      <td>502.13</td>\n",
       "      <td>500.62</td>\n",
       "      <td>354.27</td>\n",
       "      <td>344.72</td>\n",
       "      <td>177.44</td>\n",
       "      <td>181.89</td>\n",
       "      <td>223.79</td>\n",
       "      <td>93.81</td>\n",
       "      <td>7.51</td>\n",
       "      <td>292.248</td>\n",
       "    </tr>\n",
       "    <tr>\n",
       "      <th>WY</th>\n",
       "      <td>1336.30</td>\n",
       "      <td>1589.59</td>\n",
       "      <td>1085.81</td>\n",
       "      <td>1065.91</td>\n",
       "      <td>441.60</td>\n",
       "      <td>284.84</td>\n",
       "      <td>272.84</td>\n",
       "      <td>235.41</td>\n",
       "      <td>184.25</td>\n",
       "      <td>135.59</td>\n",
       "      <td>663.214</td>\n",
       "    </tr>\n",
       "    <tr>\n",
       "      <th>ND</th>\n",
       "      <td>1769.75</td>\n",
       "      <td>1290.76</td>\n",
       "      <td>1311.48</td>\n",
       "      <td>1348.01</td>\n",
       "      <td>938.47</td>\n",
       "      <td>813.41</td>\n",
       "      <td>842.27</td>\n",
       "      <td>823.01</td>\n",
       "      <td>780.49</td>\n",
       "      <td>807.53</td>\n",
       "      <td>1072.518</td>\n",
       "    </tr>\n",
       "    <tr>\n",
       "      <th>AK</th>\n",
       "      <td>1971.80</td>\n",
       "      <td>1259.61</td>\n",
       "      <td>1290.98</td>\n",
       "      <td>1286.19</td>\n",
       "      <td>1267.98</td>\n",
       "      <td>1199.18</td>\n",
       "      <td>1172.37</td>\n",
       "      <td>1202.26</td>\n",
       "      <td>248.14</td>\n",
       "      <td>171.48</td>\n",
       "      <td>1106.999</td>\n",
       "    </tr>\n",
       "  </tbody>\n",
       "</table>\n",
       "</div>"
      ],
      "text/plain": [
       "          2008     2009     2010     2011     2012     2013     2014     2015  \\\n",
       "State                                                                           \n",
       "OK      463.93   422.37   404.99   345.23   289.43   214.58   212.93   141.53   \n",
       "MS      536.30   502.13   500.62   354.27   344.72   177.44   181.89   223.79   \n",
       "WY     1336.30  1589.59  1085.81  1065.91   441.60   284.84   272.84   235.41   \n",
       "ND     1769.75  1290.76  1311.48  1348.01   938.47   813.41   842.27   823.01   \n",
       "AK     1971.80  1259.61  1290.98  1286.19  1267.98  1199.18  1172.37  1202.26   \n",
       "\n",
       "         2016    2017   Average  \n",
       "State                            \n",
       "OK      83.95   24.43   260.337  \n",
       "MS      93.81    7.51   292.248  \n",
       "WY     184.25  135.59   663.214  \n",
       "ND     780.49  807.53  1072.518  \n",
       "AK     248.14  171.48  1106.999  "
      ]
     },
<<<<<<< HEAD
     "execution_count": 22,
=======
     "execution_count": 46,
>>>>>>> e1fb8e11d20cc43a4afe87dc5e0db18febd8f353
     "metadata": {},
     "output_type": "execute_result"
    }
   ],
   "source": [
    "highest_emis_to_con"
   ]
  },
  {
   "cell_type": "code",
<<<<<<< HEAD
   "execution_count": 24,
=======
   "execution_count": 47,
>>>>>>> e1fb8e11d20cc43a4afe87dc5e0db18febd8f353
   "metadata": {},
   "outputs": [
    {
     "data": {
      "text/plain": [
       "State\n",
       "HI       0.503\n",
       "CA       0.597\n",
       "NV       0.650\n",
       "FL       0.829\n",
       "AZ       1.082\n",
       "NJ       1.516\n",
       "OR       1.999\n",
       "CT       2.254\n",
       "VT       2.760\n",
       "CO       3.703\n",
       "DC       4.106\n",
       "NY       6.018\n",
       "MA       6.085\n",
       "DE       6.508\n",
       "NM       7.995\n",
       "RI       8.599\n",
       "ME       8.686\n",
       "NH      12.919\n",
       "PA      14.173\n",
       "IL      14.757\n",
       "VA      15.804\n",
       "NC      16.175\n",
       "MD      18.014\n",
       "GA      23.523\n",
       "MI      24.698\n",
       "WI      25.850\n",
       "MN      28.720\n",
       "WA      29.781\n",
       "ID      36.567\n",
       "OH      40.349\n",
       "TX      42.676\n",
       "UT      47.604\n",
       "MT      58.092\n",
       "AR      65.644\n",
       "IN      85.596\n",
       "LA     108.561\n",
       "TN     113.949\n",
       "SC     128.007\n",
       "AL     134.660\n",
       "NE     135.602\n",
       "KY     135.978\n",
       "WV     145.144\n",
       "MO     160.026\n",
       "IA     161.583\n",
       "KS     169.592\n",
       "SD     222.446\n",
       "OK     260.337\n",
       "MS     292.248\n",
       "WY     663.214\n",
       "ND    1072.518\n",
       "AK    1106.999\n",
       "Name: Average, dtype: float64"
      ]
     },
<<<<<<< HEAD
     "execution_count": 24,
=======
     "execution_count": 47,
>>>>>>> e1fb8e11d20cc43a4afe87dc5e0db18febd8f353
     "metadata": {},
     "output_type": "execute_result"
    }
   ],
   "source": [
    "##Create Groups by emission to consumption percentages for comparision\n",
    "percent_df[\"Average\"]"
   ]
  },
  {
   "cell_type": "code",
<<<<<<< HEAD
   "execution_count": 25,
=======
   "execution_count": 48,
>>>>>>> e1fb8e11d20cc43a4afe87dc5e0db18febd8f353
   "metadata": {},
   "outputs": [
    {
     "data": {
      "text/html": [
       "<div>\n",
       "<style scoped>\n",
       "    .dataframe tbody tr th:only-of-type {\n",
       "        vertical-align: middle;\n",
       "    }\n",
       "\n",
       "    .dataframe tbody tr th {\n",
       "        vertical-align: top;\n",
       "    }\n",
       "\n",
       "    .dataframe thead th {\n",
       "        text-align: right;\n",
       "    }\n",
       "</style>\n",
       "<table border=\"1\" class=\"dataframe\">\n",
       "  <thead>\n",
       "    <tr style=\"text-align: right;\">\n",
       "      <th></th>\n",
       "      <th>2008</th>\n",
       "      <th>2009</th>\n",
       "      <th>2010</th>\n",
       "      <th>2011</th>\n",
       "      <th>2012</th>\n",
       "      <th>2013</th>\n",
       "      <th>2014</th>\n",
       "      <th>2015</th>\n",
       "      <th>2016</th>\n",
       "      <th>2017</th>\n",
       "      <th>Average</th>\n",
       "      <th>Category</th>\n",
       "    </tr>\n",
       "    <tr>\n",
       "      <th>State</th>\n",
       "      <th></th>\n",
       "      <th></th>\n",
       "      <th></th>\n",
       "      <th></th>\n",
       "      <th></th>\n",
       "      <th></th>\n",
       "      <th></th>\n",
       "      <th></th>\n",
       "      <th></th>\n",
       "      <th></th>\n",
       "      <th></th>\n",
       "      <th></th>\n",
       "    </tr>\n",
       "  </thead>\n",
       "  <tbody>\n",
       "    <tr>\n",
       "      <th>HI</th>\n",
       "      <td>1.07</td>\n",
       "      <td>0.93</td>\n",
       "      <td>0.82</td>\n",
       "      <td>0.68</td>\n",
       "      <td>0.44</td>\n",
       "      <td>0.30</td>\n",
       "      <td>0.24</td>\n",
       "      <td>0.22</td>\n",
       "      <td>0.19</td>\n",
       "      <td>0.14</td>\n",
       "      <td>0.503</td>\n",
       "      <td>Low Emis %</td>\n",
       "    </tr>\n",
       "    <tr>\n",
       "      <th>CA</th>\n",
       "      <td>1.27</td>\n",
       "      <td>1.17</td>\n",
       "      <td>1.00</td>\n",
       "      <td>0.83</td>\n",
       "      <td>0.65</td>\n",
       "      <td>0.42</td>\n",
       "      <td>0.22</td>\n",
       "      <td>0.17</td>\n",
       "      <td>0.13</td>\n",
       "      <td>0.11</td>\n",
       "      <td>0.597</td>\n",
       "      <td>Low Emis %</td>\n",
       "    </tr>\n",
       "    <tr>\n",
       "      <th>NV</th>\n",
       "      <td>1.54</td>\n",
       "      <td>1.38</td>\n",
       "      <td>1.11</td>\n",
       "      <td>0.79</td>\n",
       "      <td>0.57</td>\n",
       "      <td>0.41</td>\n",
       "      <td>0.32</td>\n",
       "      <td>0.19</td>\n",
       "      <td>0.11</td>\n",
       "      <td>0.08</td>\n",
       "      <td>0.650</td>\n",
       "      <td>Low Emis %</td>\n",
       "    </tr>\n",
       "    <tr>\n",
       "      <th>FL</th>\n",
       "      <td>1.01</td>\n",
       "      <td>0.96</td>\n",
       "      <td>0.98</td>\n",
       "      <td>0.88</td>\n",
       "      <td>0.81</td>\n",
       "      <td>0.78</td>\n",
       "      <td>0.76</td>\n",
       "      <td>0.77</td>\n",
       "      <td>0.74</td>\n",
       "      <td>0.60</td>\n",
       "      <td>0.829</td>\n",
       "      <td>Low Emis %</td>\n",
       "    </tr>\n",
       "    <tr>\n",
       "      <th>AZ</th>\n",
       "      <td>3.28</td>\n",
       "      <td>2.71</td>\n",
       "      <td>2.11</td>\n",
       "      <td>1.23</td>\n",
       "      <td>0.50</td>\n",
       "      <td>0.30</td>\n",
       "      <td>0.21</td>\n",
       "      <td>0.19</td>\n",
       "      <td>0.16</td>\n",
       "      <td>0.13</td>\n",
       "      <td>1.082</td>\n",
       "      <td>Low Emis %</td>\n",
       "    </tr>\n",
       "  </tbody>\n",
       "</table>\n",
       "</div>"
      ],
      "text/plain": [
       "       2008  2009  2010  2011  2012  2013  2014  2015  2016  2017  Average  \\\n",
       "State                                                                        \n",
       "HI     1.07  0.93  0.82  0.68  0.44  0.30  0.24  0.22  0.19  0.14    0.503   \n",
       "CA     1.27  1.17  1.00  0.83  0.65  0.42  0.22  0.17  0.13  0.11    0.597   \n",
       "NV     1.54  1.38  1.11  0.79  0.57  0.41  0.32  0.19  0.11  0.08    0.650   \n",
       "FL     1.01  0.96  0.98  0.88  0.81  0.78  0.76  0.77  0.74  0.60    0.829   \n",
       "AZ     3.28  2.71  2.11  1.23  0.50  0.30  0.21  0.19  0.16  0.13    1.082   \n",
       "\n",
       "         Category  \n",
       "State              \n",
       "HI     Low Emis %  \n",
       "CA     Low Emis %  \n",
       "NV     Low Emis %  \n",
       "FL     Low Emis %  \n",
       "AZ     Low Emis %  "
      ]
     },
<<<<<<< HEAD
     "execution_count": 25,
=======
     "execution_count": 48,
>>>>>>> e1fb8e11d20cc43a4afe87dc5e0db18febd8f353
     "metadata": {},
     "output_type": "execute_result"
    }
   ],
   "source": [
    "##Separate the states into groups by emission/consumption percentages and create a new column. \n",
    "bins = [0, 10, 50, 500, 1200]\n",
    "\n",
    "group_labels = [\"Low Emis %\", \"Medium Emis %\", \"High Emis %\", \"Very High %\"]\n",
    "\n",
    "percent_df[\"Category\"] = pd.cut(percent_df[\"Average\"], bins, labels=group_labels)\n",
    "percent_df.head()"
   ]
  },
  {
   "cell_type": "code",
<<<<<<< HEAD
   "execution_count": 30,
=======
   "execution_count": 49,
>>>>>>> e1fb8e11d20cc43a4afe87dc5e0db18febd8f353
   "metadata": {},
   "outputs": [
    {
     "name": "stdout",
     "output_type": "stream",
     "text": [
      "Category\n",
      "Low Emis %       17\n",
      "Medium Emis %    15\n",
      "High Emis %      16\n",
      "Very High %       3\n",
      "Name: Average, dtype: int64\n"
     ]
    }
   ],
   "source": [
    "##Group by the emissions to consumption percent categories\n",
    "emission_group = percent_df.groupby(\"Category\")\n",
    "\n",
    "##Find out how many in each group\n",
    "print(emission_group[\"Average\"].count())"
   ]
  },
  {
   "cell_type": "code",
<<<<<<< HEAD
   "execution_count": 32,
=======
   "execution_count": 50,
>>>>>>> e1fb8e11d20cc43a4afe87dc5e0db18febd8f353
   "metadata": {},
   "outputs": [
    {
     "data": {
      "text/plain": [
       "<AxesSubplot:title={'center':'Average'}, xlabel='Category'>"
      ]
     },
<<<<<<< HEAD
     "execution_count": 32,
=======
     "execution_count": 50,
>>>>>>> e1fb8e11d20cc43a4afe87dc5e0db18febd8f353
     "metadata": {},
     "output_type": "execute_result"
    },
    {
     "data": {
      "image/png": "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\n",
      "text/plain": [
       "<Figure size 1440x720 with 1 Axes>"
      ]
     },
     "metadata": {
      "needs_background": "light"
     },
     "output_type": "display_data"
    }
   ],
   "source": [
    "#Create a boxplot to compare means of Averages\n",
    "percent_df.boxplot(\"Average\", by=\"Category\", figsize=(20,10))"
   ]
  },
  {
   "cell_type": "code",
<<<<<<< HEAD
   "execution_count": 33,
=======
   "execution_count": 51,
>>>>>>> e1fb8e11d20cc43a4afe87dc5e0db18febd8f353
   "metadata": {},
   "outputs": [],
   "source": [
    "##Extract individual groups\n",
    "group1 = percent_df[percent_df[\"Category\"] == \"Low Emis %\"][\"Average\"]\n",
    "group2 = percent_df[percent_df[\"Category\"] == \"Medium Emis %\"][\"Average\"]\n",
    "group3 = percent_df[percent_df[\"Category\"] == \"High Emis %\"][\"Average\"]\n",
    "group4 = percent_df[percent_df[\"Category\"] == \"Very High %\"][\"Average\"]"
   ]
  },
  {
   "cell_type": "code",
<<<<<<< HEAD
   "execution_count": 34,
=======
   "execution_count": 52,
>>>>>>> e1fb8e11d20cc43a4afe87dc5e0db18febd8f353
   "metadata": {},
   "outputs": [
    {
     "data": {
      "text/plain": [
       "F_onewayResult(statistic=204.38901374513216, pvalue=5.77959268953557e-27)"
      ]
     },
<<<<<<< HEAD
     "execution_count": 34,
=======
     "execution_count": 52,
>>>>>>> e1fb8e11d20cc43a4afe87dc5e0db18febd8f353
     "metadata": {},
     "output_type": "execute_result"
    }
   ],
   "source": [
    "##Perform the ANOVA\n",
    "stats.f_oneway(group1, group2, group3, group4)"
   ]
  },
  {
   "cell_type": "code",
   "execution_count": null,
   "metadata": {},
   "outputs": [],
   "source": []
  }
 ],
 "metadata": {
  "kernelspec": {
   "display_name": "Python 3",
   "language": "python",
   "name": "python3"
  },
  "language_info": {
   "codemirror_mode": {
    "name": "ipython",
    "version": 3
   },
   "file_extension": ".py",
   "mimetype": "text/x-python",
   "name": "python",
   "nbconvert_exporter": "python",
   "pygments_lexer": "ipython3",
<<<<<<< HEAD
   "version": "3.7.6"
=======
   "version": "3.6.10"
>>>>>>> e1fb8e11d20cc43a4afe87dc5e0db18febd8f353
  }
 },
 "nbformat": 4,
 "nbformat_minor": 4
}
