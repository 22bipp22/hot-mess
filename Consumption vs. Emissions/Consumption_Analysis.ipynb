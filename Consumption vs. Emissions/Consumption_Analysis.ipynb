{
 "cells": [
  {
   "cell_type": "code",
   "execution_count": 1,
   "metadata": {},
   "outputs": [],
   "source": [
    "import warnings\n",
    "warnings.filterwarnings('ignore')"
   ]
  },
  {
   "cell_type": "code",
   "execution_count": 2,
   "metadata": {},
   "outputs": [],
   "source": [
    "##Import dependencies\n",
    "%matplotlib inline\n",
    "import pandas as pd\n",
    "import scipy.stats as stats\n",
    "from matplotlib import pyplot as plt\n",
    "from scipy.stats import linregress"
   ]
  },
  {
   "cell_type": "code",
   "execution_count": 3,
   "metadata": {},
   "outputs": [],
   "source": [
    "##Bring in csv file for consumption data\n",
    "consumption = pd.read_csv(\"../input_data/consumption.csv\")\n",
    "\n",
    "#Bring in csv file for emissions data\n",
    "emissions = pd.read_csv(\"../input_data/emissions.csv\")\n"
   ]
  },
  {
   "cell_type": "markdown",
   "metadata": {},
   "source": [
    "# View and Prepare the Data"
   ]
  },
  {
   "cell_type": "code",
   "execution_count": 4,
   "metadata": {},
   "outputs": [
    {
     "data": {
      "text/html": [
       "<div>\n",
       "<style scoped>\n",
       "    .dataframe tbody tr th:only-of-type {\n",
       "        vertical-align: middle;\n",
       "    }\n",
       "\n",
       "    .dataframe tbody tr th {\n",
       "        vertical-align: top;\n",
       "    }\n",
       "\n",
       "    .dataframe thead th {\n",
       "        text-align: right;\n",
       "    }\n",
       "</style>\n",
       "<table border=\"1\" class=\"dataframe\">\n",
       "  <thead>\n",
       "    <tr style=\"text-align: right;\">\n",
       "      <th></th>\n",
       "      <th>Unnamed: 0</th>\n",
       "      <th>2008</th>\n",
       "      <th>2009</th>\n",
       "      <th>2010</th>\n",
       "      <th>2011</th>\n",
       "      <th>2012</th>\n",
       "      <th>2013</th>\n",
       "      <th>2014</th>\n",
       "      <th>2015</th>\n",
       "      <th>2016</th>\n",
       "      <th>2017</th>\n",
       "      <th>2018</th>\n",
       "    </tr>\n",
       "  </thead>\n",
       "  <tbody>\n",
       "    <tr>\n",
       "      <th>0</th>\n",
       "      <td>AL</td>\n",
       "      <td>64</td>\n",
       "      <td>62</td>\n",
       "      <td>68</td>\n",
       "      <td>71</td>\n",
       "      <td>78</td>\n",
       "      <td>97</td>\n",
       "      <td>100</td>\n",
       "      <td>101</td>\n",
       "      <td>431</td>\n",
       "      <td>1812</td>\n",
       "      <td>3425</td>\n",
       "    </tr>\n",
       "    <tr>\n",
       "      <th>1</th>\n",
       "      <td>AK</td>\n",
       "      <td>2</td>\n",
       "      <td>3</td>\n",
       "      <td>3</td>\n",
       "      <td>3</td>\n",
       "      <td>3</td>\n",
       "      <td>3</td>\n",
       "      <td>3</td>\n",
       "      <td>3</td>\n",
       "      <td>14</td>\n",
       "      <td>20</td>\n",
       "      <td>28</td>\n",
       "    </tr>\n",
       "    <tr>\n",
       "      <th>2</th>\n",
       "      <td>AZ</td>\n",
       "      <td>3112</td>\n",
       "      <td>3445</td>\n",
       "      <td>4518</td>\n",
       "      <td>7604</td>\n",
       "      <td>18096</td>\n",
       "      <td>31405</td>\n",
       "      <td>43572</td>\n",
       "      <td>48236</td>\n",
       "      <td>52862</td>\n",
       "      <td>66326</td>\n",
       "      <td>70800</td>\n",
       "    </tr>\n",
       "    <tr>\n",
       "      <th>3</th>\n",
       "      <td>AR</td>\n",
       "      <td>53</td>\n",
       "      <td>59</td>\n",
       "      <td>80</td>\n",
       "      <td>85</td>\n",
       "      <td>100</td>\n",
       "      <td>108</td>\n",
       "      <td>111</td>\n",
       "      <td>124</td>\n",
       "      <td>372</td>\n",
       "      <td>442</td>\n",
       "      <td>2118</td>\n",
       "    </tr>\n",
       "    <tr>\n",
       "      <th>4</th>\n",
       "      <td>CA</td>\n",
       "      <td>29985</td>\n",
       "      <td>31297</td>\n",
       "      <td>36006</td>\n",
       "      <td>41816</td>\n",
       "      <td>53911</td>\n",
       "      <td>84832</td>\n",
       "      <td>156494</td>\n",
       "      <td>211876</td>\n",
       "      <td>267580</td>\n",
       "      <td>340408</td>\n",
       "      <td>381733</td>\n",
       "    </tr>\n",
       "  </tbody>\n",
       "</table>\n",
       "</div>"
      ],
      "text/plain": [
       "  Unnamed: 0   2008   2009   2010   2011   2012   2013    2014    2015  \\\n",
       "0         AL     64     62     68     71     78     97     100     101   \n",
       "1         AK      2      3      3      3      3      3       3       3   \n",
       "2         AZ   3112   3445   4518   7604  18096  31405   43572   48236   \n",
       "3         AR     53     59     80     85    100    108     111     124   \n",
       "4         CA  29985  31297  36006  41816  53911  84832  156494  211876   \n",
       "\n",
       "     2016    2017    2018  \n",
       "0     431    1812    3425  \n",
       "1      14      20      28  \n",
       "2   52862   66326   70800  \n",
       "3     372     442    2118  \n",
       "4  267580  340408  381733  "
      ]
     },
     "execution_count": 4,
     "metadata": {},
     "output_type": "execute_result"
    }
   ],
   "source": [
    "##View the first 5 rows of consumption data\n",
    "consumption.head()"
   ]
  },
  {
   "cell_type": "code",
   "execution_count": 5,
   "metadata": {},
   "outputs": [
    {
     "data": {
      "text/html": [
       "<div>\n",
       "<style scoped>\n",
       "    .dataframe tbody tr th:only-of-type {\n",
       "        vertical-align: middle;\n",
       "    }\n",
       "\n",
       "    .dataframe tbody tr th {\n",
       "        vertical-align: top;\n",
       "    }\n",
       "\n",
       "    .dataframe thead th {\n",
       "        text-align: right;\n",
       "    }\n",
       "</style>\n",
       "<table border=\"1\" class=\"dataframe\">\n",
       "  <thead>\n",
       "    <tr style=\"text-align: right;\">\n",
       "      <th></th>\n",
       "      <th>State</th>\n",
       "      <th>2008</th>\n",
       "      <th>2009</th>\n",
       "      <th>2010</th>\n",
       "      <th>2011</th>\n",
       "      <th>2012</th>\n",
       "      <th>2013</th>\n",
       "      <th>2014</th>\n",
       "      <th>2015</th>\n",
       "      <th>2016</th>\n",
       "      <th>2017</th>\n",
       "    </tr>\n",
       "  </thead>\n",
       "  <tbody>\n",
       "    <tr>\n",
       "      <th>0</th>\n",
       "      <td>AL</td>\n",
       "      <td>139.666603</td>\n",
       "      <td>120.020443</td>\n",
       "      <td>132.722932</td>\n",
       "      <td>129.812612</td>\n",
       "      <td>123.039324</td>\n",
       "      <td>120.732885</td>\n",
       "      <td>123.080771</td>\n",
       "      <td>120.012608</td>\n",
       "      <td>114.872696</td>\n",
       "      <td>109.018634</td>\n",
       "    </tr>\n",
       "    <tr>\n",
       "      <th>1</th>\n",
       "      <td>AK</td>\n",
       "      <td>39.435905</td>\n",
       "      <td>37.788246</td>\n",
       "      <td>38.729384</td>\n",
       "      <td>38.585774</td>\n",
       "      <td>38.039447</td>\n",
       "      <td>35.975289</td>\n",
       "      <td>35.171091</td>\n",
       "      <td>36.067852</td>\n",
       "      <td>34.739390</td>\n",
       "      <td>34.295441</td>\n",
       "    </tr>\n",
       "    <tr>\n",
       "      <th>2</th>\n",
       "      <td>AZ</td>\n",
       "      <td>102.125070</td>\n",
       "      <td>93.252826</td>\n",
       "      <td>95.204594</td>\n",
       "      <td>93.282044</td>\n",
       "      <td>91.256850</td>\n",
       "      <td>95.060822</td>\n",
       "      <td>93.120620</td>\n",
       "      <td>90.856296</td>\n",
       "      <td>86.971877</td>\n",
       "      <td>86.137839</td>\n",
       "    </tr>\n",
       "    <tr>\n",
       "      <th>3</th>\n",
       "      <td>AR</td>\n",
       "      <td>64.059757</td>\n",
       "      <td>61.367031</td>\n",
       "      <td>65.723403</td>\n",
       "      <td>67.168798</td>\n",
       "      <td>65.940126</td>\n",
       "      <td>68.354108</td>\n",
       "      <td>68.985869</td>\n",
       "      <td>59.176044</td>\n",
       "      <td>62.319791</td>\n",
       "      <td>64.277677</td>\n",
       "    </tr>\n",
       "    <tr>\n",
       "      <th>4</th>\n",
       "      <td>CA</td>\n",
       "      <td>379.480916</td>\n",
       "      <td>366.184902</td>\n",
       "      <td>360.953079</td>\n",
       "      <td>346.864178</td>\n",
       "      <td>351.496006</td>\n",
       "      <td>354.219000</td>\n",
       "      <td>351.477053</td>\n",
       "      <td>359.290429</td>\n",
       "      <td>359.261859</td>\n",
       "      <td>360.913489</td>\n",
       "    </tr>\n",
       "  </tbody>\n",
       "</table>\n",
       "</div>"
      ],
      "text/plain": [
       "  State        2008        2009        2010        2011        2012  \\\n",
       "0    AL  139.666603  120.020443  132.722932  129.812612  123.039324   \n",
       "1    AK   39.435905   37.788246   38.729384   38.585774   38.039447   \n",
       "2    AZ  102.125070   93.252826   95.204594   93.282044   91.256850   \n",
       "3    AR   64.059757   61.367031   65.723403   67.168798   65.940126   \n",
       "4    CA  379.480916  366.184902  360.953079  346.864178  351.496006   \n",
       "\n",
       "         2013        2014        2015        2016        2017  \n",
       "0  120.732885  123.080771  120.012608  114.872696  109.018634  \n",
       "1   35.975289   35.171091   36.067852   34.739390   34.295441  \n",
       "2   95.060822   93.120620   90.856296   86.971877   86.137839  \n",
       "3   68.354108   68.985869   59.176044   62.319791   64.277677  \n",
       "4  354.219000  351.477053  359.290429  359.261859  360.913489  "
      ]
     },
     "execution_count": 5,
     "metadata": {},
     "output_type": "execute_result"
    }
   ],
   "source": [
    "##View the first 5 rows of emissions data\n",
    "emissions.head()"
   ]
  },
  {
   "cell_type": "code",
   "execution_count": 6,
   "metadata": {},
   "outputs": [
    {
     "data": {
      "text/html": [
       "<div>\n",
       "<style scoped>\n",
       "    .dataframe tbody tr th:only-of-type {\n",
       "        vertical-align: middle;\n",
       "    }\n",
       "\n",
       "    .dataframe tbody tr th {\n",
       "        vertical-align: top;\n",
       "    }\n",
       "\n",
       "    .dataframe thead th {\n",
       "        text-align: right;\n",
       "    }\n",
       "</style>\n",
       "<table border=\"1\" class=\"dataframe\">\n",
       "  <thead>\n",
       "    <tr style=\"text-align: right;\">\n",
       "      <th></th>\n",
       "      <th>State</th>\n",
       "      <th>2008</th>\n",
       "      <th>2009</th>\n",
       "      <th>2010</th>\n",
       "      <th>2011</th>\n",
       "      <th>2012</th>\n",
       "      <th>2013</th>\n",
       "      <th>2014</th>\n",
       "      <th>2015</th>\n",
       "      <th>2016</th>\n",
       "      <th>2017</th>\n",
       "    </tr>\n",
       "  </thead>\n",
       "  <tbody>\n",
       "    <tr>\n",
       "      <th>0</th>\n",
       "      <td>AL</td>\n",
       "      <td>64</td>\n",
       "      <td>62</td>\n",
       "      <td>68</td>\n",
       "      <td>71</td>\n",
       "      <td>78</td>\n",
       "      <td>97</td>\n",
       "      <td>100</td>\n",
       "      <td>101</td>\n",
       "      <td>431</td>\n",
       "      <td>1812</td>\n",
       "    </tr>\n",
       "    <tr>\n",
       "      <th>1</th>\n",
       "      <td>AK</td>\n",
       "      <td>2</td>\n",
       "      <td>3</td>\n",
       "      <td>3</td>\n",
       "      <td>3</td>\n",
       "      <td>3</td>\n",
       "      <td>3</td>\n",
       "      <td>3</td>\n",
       "      <td>3</td>\n",
       "      <td>14</td>\n",
       "      <td>20</td>\n",
       "    </tr>\n",
       "    <tr>\n",
       "      <th>2</th>\n",
       "      <td>AZ</td>\n",
       "      <td>3112</td>\n",
       "      <td>3445</td>\n",
       "      <td>4518</td>\n",
       "      <td>7604</td>\n",
       "      <td>18096</td>\n",
       "      <td>31405</td>\n",
       "      <td>43572</td>\n",
       "      <td>48236</td>\n",
       "      <td>52862</td>\n",
       "      <td>66326</td>\n",
       "    </tr>\n",
       "    <tr>\n",
       "      <th>3</th>\n",
       "      <td>AR</td>\n",
       "      <td>53</td>\n",
       "      <td>59</td>\n",
       "      <td>80</td>\n",
       "      <td>85</td>\n",
       "      <td>100</td>\n",
       "      <td>108</td>\n",
       "      <td>111</td>\n",
       "      <td>124</td>\n",
       "      <td>372</td>\n",
       "      <td>442</td>\n",
       "    </tr>\n",
       "    <tr>\n",
       "      <th>4</th>\n",
       "      <td>CA</td>\n",
       "      <td>29985</td>\n",
       "      <td>31297</td>\n",
       "      <td>36006</td>\n",
       "      <td>41816</td>\n",
       "      <td>53911</td>\n",
       "      <td>84832</td>\n",
       "      <td>156494</td>\n",
       "      <td>211876</td>\n",
       "      <td>267580</td>\n",
       "      <td>340408</td>\n",
       "    </tr>\n",
       "  </tbody>\n",
       "</table>\n",
       "</div>"
      ],
      "text/plain": [
       "  State   2008   2009   2010   2011   2012   2013    2014    2015    2016  \\\n",
       "0    AL     64     62     68     71     78     97     100     101     431   \n",
       "1    AK      2      3      3      3      3      3       3       3      14   \n",
       "2    AZ   3112   3445   4518   7604  18096  31405   43572   48236   52862   \n",
       "3    AR     53     59     80     85    100    108     111     124     372   \n",
       "4    CA  29985  31297  36006  41816  53911  84832  156494  211876  267580   \n",
       "\n",
       "     2017  \n",
       "0    1812  \n",
       "1      20  \n",
       "2   66326  \n",
       "3     442  \n",
       "4  340408  "
      ]
     },
     "execution_count": 6,
     "metadata": {},
     "output_type": "execute_result"
    }
   ],
   "source": [
    "##Clean up consumption data to match fields in emissions data(rename column 1 to State, delete 2018 column)\n",
    "consumption= consumption.rename(columns={\"Unnamed: 0\": \"State\"})\n",
    "\n",
    "consumption.drop('2018', axis=1, inplace=True)\n",
    "consumption.head()\n",
    "\n"
   ]
  },
  {
   "cell_type": "code",
   "execution_count": 7,
   "metadata": {},
   "outputs": [],
   "source": [
    "##Set state as the index in both dataframes\n",
    "emissions.set_index(\"State\", inplace=True)\n",
    "consumption.set_index(\"State\", inplace=True)\n",
    "\n",
    "#put the states into a list to use on the scatterplot\n",
    "state_list = list(emissions.index)\n"
   ]
  },
  {
   "cell_type": "code",
   "execution_count": 9,
   "metadata": {},
   "outputs": [
    {
     "name": "stdout",
     "output_type": "stream",
     "text": [
      "Number of emissions rows: 51\n",
      "Number of consumption rows: 51\n"
     ]
    }
   ],
   "source": [
    "print(f\"Number of emissions rows: {len(emissions)}\")\n",
    "print(f\"Number of consumption rows: {len(consumption)}\")"
   ]
  },
  {
   "cell_type": "markdown",
   "metadata": {},
   "source": [
    "# Look for correlations"
   ]
  },
  {
   "cell_type": "code",
   "execution_count": 60,
   "metadata": {},
   "outputs": [],
   "source": [
    "##Create a function to calculate regression information and create the scatterplot\n",
    "def scatterplots():\n",
    "    \n",
    "    (slope, intercept, rvalue, pvalue, stderr) = linregress(consump, emiss)\n",
    "    \n",
    "    regress_values = consump * slope + intercept\n",
    "    \n",
    "    line_eq = f\"y = {round(slope,3)}x + {round(intercept,2)}\" \n",
    "    \n",
    "    plt.scatter(consump, emiss)\n",
    "    plt.xlabel(\"Solar Consumption\")\n",
    "    plt.ylabel(\"Emissions\")\n",
    "    plt.title(f\"Emissions vs. Solar Consumption for {year}\")\n",
    "    plt.plot(consump, regress_values, \"r-\")\n",
    "    plt.annotate(line_eq, (x_coord,y_coord),color = 'hotpink', fontsize=18)\n",
    "    clb = plt.colorbar()\n",
    "    clb.set_label(\"Total Emissions\")\n",
    " \n",
    "# This added state names to the points on the scatterplot\n",
    "#     for i, name in enumerate(state_list):\n",
    "#         plt.annotate(name, (consump[i],emiss[i]))\n",
    "        \n",
    "    print(f\"The r-squared is: {rvalue**2}\")\n",
    "    plt.savefig(f\"../output/consumption{year}.png\")\n",
    "    plt.show()\n",
    "    "
   ]
  },
  {
   "cell_type": "code",
   "execution_count": 11,
   "metadata": {},
   "outputs": [],
   "source": [
    "##Create a function to make scatterplots for each year\n",
    "# def scatterplots():\n",
    "#     plt.scatter(consump, emiss)\n",
    "#     plt.xlabel(\"Solar Consumption\")\n",
    "#     plt.ylabel(\"Emissions\")\n",
    "#     plt.title(f\"Emissions vs. Solar Consumption for {year}\")\n",
    "#     plt.annotate(annotation, (x_coord,y_coord))\n",
    "#     plt.show()\n"
   ]
  },
  {
   "cell_type": "code",
   "execution_count": 53,
   "metadata": {},
   "outputs": [
    {
     "name": "stdout",
     "output_type": "stream",
     "text": [
      "The r-squared is: 0.14062053708909236\n"
     ]
    },
    {
     "data": {
      "image/png": "[encoded data removed]",
      "text/plain": [
       "<Figure size 432x288 with 2 Axes>"
      ]
     },
     "metadata": {
      "needs_background": "light"
     },
     "output_type": "display_data"
    }
   ],
   "source": [
    "##2008 -- First year\n",
    "emiss = emissions[\"2008\"] \n",
    "consump = consumption[\"2008\"]\n",
    "year = \"2008\"\n",
    "x_coord = 10000\n",
    "y_coord = 500\n",
    "scatterplots()\n",
    "\n"
   ]
  },
  {
   "cell_type": "markdown",
   "metadata": {},
   "source": [
    "No observable correlation between Solar Consumption and Emissions in 2008"
   ]
  },
  {
   "cell_type": "code",
   "execution_count": 54,
   "metadata": {},
   "outputs": [
    {
     "name": "stdout",
     "output_type": "stream",
     "text": [
      "The r-squared is: 0.13383141607939555\n"
     ]
    },
    {
     "data": {
      "image/png": "[encoded data removed]",
      "text/plain": [
       "<Figure size 432x288 with 2 Axes>"
      ]
     },
     "metadata": {
      "needs_background": "light"
     },
     "output_type": "display_data"
    }
   ],
   "source": [
    "##2012 - A year in the middle\n",
    "emiss = emissions[\"2012\"]\n",
    "consump = consumption[\"2012\"]\n",
    "year = \"2012\"\n",
    "x_coord = 10000\n",
    "y_coord = 500\n",
    "scatterplots()"
   ]
  },
  {
   "cell_type": "markdown",
   "metadata": {},
   "source": [
    "No observable correlation between Solar Consumption and Emissions in 2012"
   ]
  },
  {
   "cell_type": "code",
   "execution_count": 55,
   "metadata": {},
   "outputs": [
    {
     "name": "stdout",
     "output_type": "stream",
     "text": [
      "The r-squared is: 0.1404103573668808\n"
     ]
    },
    {
     "data": {
      "image/png": "[encoded data removed]",
      "text/plain": [
       "<Figure size 432x288 with 2 Axes>"
      ]
     },
     "metadata": {
      "needs_background": "light"
     },
     "output_type": "display_data"
    }
   ],
   "source": [
    "##2017 -- The last year we have data for\n",
    "emiss = emissions[\"2017\"]\n",
    "consump = consumption[\"2017\"]\n",
    "year = \"2017\"\n",
    "x_coord = 50000\n",
    "y_coord = 500\n",
    "scatterplots()"
   ]
  },
  {
   "cell_type": "markdown",
   "metadata": {},
   "source": [
    "No observable correlation between Solar Consumption and Emissions in 2017"
   ]
  },
  {
   "cell_type": "code",
   "execution_count": 56,
   "metadata": {},
   "outputs": [
    {
     "name": "stdout",
     "output_type": "stream",
     "text": [
      "The r-squared is: 0.13590769852157916\n"
     ]
    },
    {
     "data": {
      "image/png": "[encoded data removed]",
      "text/plain": [
       "<Figure size 432x288 with 2 Axes>"
      ]
     },
     "metadata": {
      "needs_background": "light"
     },
     "output_type": "display_data"
    }
   ],
   "source": [
    "##Compare the average emissions to the average consumption over the 10 years\n",
    "emiss = emissions.mean(axis=1)\n",
    "consump = consumption.mean(axis=1)\n",
    "year = \"Average Emissions over 10 Years\"\n",
    "x_coord = 20000\n",
    "y_coord = 500\n",
    "scatterplots()"
   ]
  },
  {
   "cell_type": "markdown",
   "metadata": {},
   "source": [
    "No observable correlation between the average Solar Consumption and the average Emissions "
   ]
  },
  {
   "cell_type": "code",
   "execution_count": 57,
   "metadata": {},
   "outputs": [
    {
     "name": "stdout",
     "output_type": "stream",
     "text": [
      "The r-squared is: 0.13590769852157938\n"
     ]
    },
    {
     "data": {
      "image/png": "[encoded data removed]",
      "text/plain": [
       "<Figure size 432x288 with 2 Axes>"
      ]
     },
     "metadata": {
      "needs_background": "light"
     },
     "output_type": "display_data"
    }
   ],
   "source": [
    "##Compare the total emissions to the total consumption over the 10 years\n",
    "emiss = emissions.sum(axis=1)\n",
    "consump = consumption.sum(axis=1)\n",
    "year = \"Total Emissions over 10 years\"\n",
    "x_coord = 50000\n",
    "y_coord = 5000\n",
    "scatterplots()\n"
   ]
  },
  {
   "cell_type": "markdown",
   "metadata": {},
   "source": [
    "No observable correlation between the Total Solar Consumption and the Total Emissions "
   ]
  },
  {
   "cell_type": "code",
   "execution_count": 58,
   "metadata": {},
   "outputs": [
    {
     "data": {
      "text/plain": [
       "State\n",
       "IL   -38.388519\n",
       "GA   -39.051897\n",
       "IN   -50.122083\n",
       "PA   -50.807020\n",
       "OH   -54.293206\n",
       "dtype: float64"
      ]
     },
     "execution_count": 58,
     "metadata": {},
     "output_type": "execute_result"
    }
   ],
   "source": [
    "##Calculate change in emissions from 2008 to 2017 and capture the 5 states with largest changes and 5 smallest changes\n",
    "emis_change = emissions['2017']-emissions['2008']\n",
    "emis_change = emis_change.sort_values(0, ascending=False)\n",
    "top_five_emis = emis_change.head()\n",
    "bottom_five_emis = emis_change.tail()\n",
    "bottom_five_emis"
   ]
  },
  {
   "cell_type": "markdown",
   "metadata": {},
   "source": [
    "# Analysis of States of Interest"
   ]
  },
  {
   "cell_type": "code",
   "execution_count": 59,
   "metadata": {},
   "outputs": [
    {
     "data": {
      "text/html": [
       "<div>\n",
       "<style scoped>\n",
       "    .dataframe tbody tr th:only-of-type {\n",
       "        vertical-align: middle;\n",
       "    }\n",
       "\n",
       "    .dataframe tbody tr th {\n",
       "        vertical-align: top;\n",
       "    }\n",
       "\n",
       "    .dataframe thead th {\n",
       "        text-align: right;\n",
       "    }\n",
       "</style>\n",
       "<table border=\"1\" class=\"dataframe\">\n",
       "  <thead>\n",
       "    <tr style=\"text-align: right;\">\n",
       "      <th></th>\n",
       "      <th>2008</th>\n",
       "      <th>2009</th>\n",
       "      <th>2010</th>\n",
       "      <th>2011</th>\n",
       "      <th>2012</th>\n",
       "      <th>2013</th>\n",
       "      <th>2014</th>\n",
       "      <th>2015</th>\n",
       "      <th>2016</th>\n",
       "      <th>2017</th>\n",
       "    </tr>\n",
       "    <tr>\n",
       "      <th>State</th>\n",
       "      <th></th>\n",
       "      <th></th>\n",
       "      <th></th>\n",
       "      <th></th>\n",
       "      <th></th>\n",
       "      <th></th>\n",
       "      <th></th>\n",
       "      <th></th>\n",
       "      <th></th>\n",
       "      <th></th>\n",
       "    </tr>\n",
       "  </thead>\n",
       "  <tbody>\n",
       "    <tr>\n",
       "      <th>OH</th>\n",
       "      <td>202</td>\n",
       "      <td>249</td>\n",
       "      <td>438</td>\n",
       "      <td>564</td>\n",
       "      <td>1176</td>\n",
       "      <td>1345</td>\n",
       "      <td>1567</td>\n",
       "      <td>1679</td>\n",
       "      <td>1875</td>\n",
       "      <td>2436</td>\n",
       "    </tr>\n",
       "    <tr>\n",
       "      <th>PA</th>\n",
       "      <td>605</td>\n",
       "      <td>738</td>\n",
       "      <td>1435</td>\n",
       "      <td>2552</td>\n",
       "      <td>3122</td>\n",
       "      <td>3511</td>\n",
       "      <td>3708</td>\n",
       "      <td>3759</td>\n",
       "      <td>4072</td>\n",
       "      <td>4686</td>\n",
       "    </tr>\n",
       "    <tr>\n",
       "      <th>TX</th>\n",
       "      <td>550</td>\n",
       "      <td>622</td>\n",
       "      <td>854</td>\n",
       "      <td>1280</td>\n",
       "      <td>2419</td>\n",
       "      <td>3222</td>\n",
       "      <td>4817</td>\n",
       "      <td>6398</td>\n",
       "      <td>10948</td>\n",
       "      <td>25156</td>\n",
       "    </tr>\n",
       "    <tr>\n",
       "      <th>VT</th>\n",
       "      <td>84</td>\n",
       "      <td>97</td>\n",
       "      <td>107</td>\n",
       "      <td>173</td>\n",
       "      <td>280</td>\n",
       "      <td>461</td>\n",
       "      <td>627</td>\n",
       "      <td>1044</td>\n",
       "      <td>1335</td>\n",
       "      <td>2029</td>\n",
       "    </tr>\n",
       "    <tr>\n",
       "      <th>WA</th>\n",
       "      <td>108</td>\n",
       "      <td>123</td>\n",
       "      <td>155</td>\n",
       "      <td>201</td>\n",
       "      <td>270</td>\n",
       "      <td>337</td>\n",
       "      <td>471</td>\n",
       "      <td>649</td>\n",
       "      <td>958</td>\n",
       "      <td>1201</td>\n",
       "    </tr>\n",
       "  </tbody>\n",
       "</table>\n",
       "</div>"
      ],
      "text/plain": [
       "       2008  2009  2010  2011  2012  2013  2014  2015   2016   2017\n",
       "State                                                              \n",
       "OH      202   249   438   564  1176  1345  1567  1679   1875   2436\n",
       "PA      605   738  1435  2552  3122  3511  3708  3759   4072   4686\n",
       "TX      550   622   854  1280  2419  3222  4817  6398  10948  25156\n",
       "VT       84    97   107   173   280   461   627  1044   1335   2029\n",
       "WA      108   123   155   201   270   337   471   649    958   1201"
      ]
     },
     "execution_count": 59,
     "metadata": {},
     "output_type": "execute_result"
    }
   ],
   "source": [
    "five_states_emis = emissions.iloc[(emissions.index == \"OH\") | (emissions.index ==\"PA\") | \n",
    "                                  (emissions.index ==\"TX\") | (emissions.index ==\"WA\") | (emissions.index ==\"VT\")]\n",
    "\n",
    "five_states_consump = consumption.iloc[(consumption.index == \"OH\") | (consumption.index ==\"PA\") | \n",
    "                                  (consumption.index ==\"TX\") | (consumption.index ==\"WA\") | (consumption.index ==\"VT\")]\n",
    "\n",
    "state_list = list(five_states_emis.index)\n",
    "five_states_consump"
   ]
  },
  {
   "cell_type": "code",
   "execution_count": 61,
   "metadata": {},
   "outputs": [
    {
     "name": "stdout",
     "output_type": "stream",
     "text": [
      "The r-squared is: 0.9200577939576501\n"
     ]
    },
    {
     "data": {
      "image/png": "[encoded data removed]",
      "text/plain": [
       "<Figure size 432x288 with 2 Axes>"
      ]
     },
     "metadata": {
      "needs_background": "light"
     },
     "output_type": "display_data"
    }
   ],
   "source": [
    "##Compare the total emissions to the total consumption over the 10 years\n",
    "emiss = five_states_emis.sum(axis=1)\n",
    "consump = five_states_consump.sum(axis=1)\n",
    "year = \"5 States over 10 years\"\n",
    "x_coord = 10000\n",
    "y_coord = 5000\n",
    "scatterplots()"
   ]
  },
  {
   "cell_type": "code",
   "execution_count": 73,
   "metadata": {},
   "outputs": [
    {
     "data": {
      "image/png": "[encoded data removed]",
      "text/plain": [
       "<Figure size 432x288 with 1 Axes>"
      ]
     },
     "metadata": {
      "needs_background": "light"
     },
     "output_type": "display_data"
    }
   ],
   "source": [
    "##Create a double bar chart of total emissions and total consumption\n",
    "five_states_emis[\"Total\"] = five_states_emis.sum(axis=1)\n",
    "five_states_consump[\"Total\"] = five_states_consump.sum(axis=1)\n",
    "\n",
    "df = pd.DataFrame ({\n",
    "    \"Emissions\": five_states_emis[\"Total\"],\n",
    "    \"Consumption\": five_states_consump[\"Total\"]\n",
    "})\n",
    "\n",
    "ax = df.plot.bar(rot=0)\n",
    "\n",
    "plt.savefig(f\"../output/consumption_bar.png\")"
   ]
  },
  {
   "cell_type": "markdown",
   "metadata": {},
   "source": [
    "# Calculate emissions to consumption percentages and analyze the results"
   ]
  },
  {
   "cell_type": "code",
   "execution_count": 44,
   "metadata": {},
   "outputs": [
    {
     "data": {
      "text/html": [
       "<div>\n",
       "<style scoped>\n",
       "    .dataframe tbody tr th:only-of-type {\n",
       "        vertical-align: middle;\n",
       "    }\n",
       "\n",
       "    .dataframe tbody tr th {\n",
       "        vertical-align: top;\n",
       "    }\n",
       "\n",
       "    .dataframe thead th {\n",
       "        text-align: right;\n",
       "    }\n",
       "</style>\n",
       "<table border=\"1\" class=\"dataframe\">\n",
       "  <thead>\n",
       "    <tr style=\"text-align: right;\">\n",
       "      <th></th>\n",
       "      <th>2008_emis</th>\n",
       "      <th>2009_emis</th>\n",
       "      <th>2010_emis</th>\n",
       "      <th>2011_emis</th>\n",
       "      <th>2012_emis</th>\n",
       "      <th>2013_emis</th>\n",
       "      <th>2014_emis</th>\n",
       "      <th>2015_emis</th>\n",
       "      <th>2016_emis</th>\n",
       "      <th>2017_emis</th>\n",
       "      <th>2008_con</th>\n",
       "      <th>2009_con</th>\n",
       "      <th>2010_con</th>\n",
       "      <th>2011_con</th>\n",
       "      <th>2012_con</th>\n",
       "      <th>2013_con</th>\n",
       "      <th>2014_con</th>\n",
       "      <th>2015_con</th>\n",
       "      <th>2016_con</th>\n",
       "      <th>2017_con</th>\n",
       "    </tr>\n",
       "    <tr>\n",
       "      <th>State</th>\n",
       "      <th></th>\n",
       "      <th></th>\n",
       "      <th></th>\n",
       "      <th></th>\n",
       "      <th></th>\n",
       "      <th></th>\n",
       "      <th></th>\n",
       "      <th></th>\n",
       "      <th></th>\n",
       "      <th></th>\n",
       "      <th></th>\n",
       "      <th></th>\n",
       "      <th></th>\n",
       "      <th></th>\n",
       "      <th></th>\n",
       "      <th></th>\n",
       "      <th></th>\n",
       "      <th></th>\n",
       "      <th></th>\n",
       "      <th></th>\n",
       "    </tr>\n",
       "  </thead>\n",
       "  <tbody>\n",
       "    <tr>\n",
       "      <th>OH</th>\n",
       "      <td>259.915008</td>\n",
       "      <td>234.975715</td>\n",
       "      <td>247.141718</td>\n",
       "      <td>235.368188</td>\n",
       "      <td>215.376323</td>\n",
       "      <td>229.601220</td>\n",
       "      <td>231.666146</td>\n",
       "      <td>212.891632</td>\n",
       "      <td>206.407588</td>\n",
       "      <td>205.621802</td>\n",
       "      <td>202</td>\n",
       "      <td>249</td>\n",
       "      <td>438</td>\n",
       "      <td>564</td>\n",
       "      <td>1176</td>\n",
       "      <td>1345</td>\n",
       "      <td>1567</td>\n",
       "      <td>1679</td>\n",
       "      <td>1875</td>\n",
       "      <td>2436</td>\n",
       "    </tr>\n",
       "    <tr>\n",
       "      <th>PA</th>\n",
       "      <td>267.457907</td>\n",
       "      <td>242.407980</td>\n",
       "      <td>254.419583</td>\n",
       "      <td>247.126263</td>\n",
       "      <td>236.353959</td>\n",
       "      <td>246.092075</td>\n",
       "      <td>245.894238</td>\n",
       "      <td>229.691958</td>\n",
       "      <td>216.636771</td>\n",
       "      <td>216.650887</td>\n",
       "      <td>605</td>\n",
       "      <td>738</td>\n",
       "      <td>1435</td>\n",
       "      <td>2552</td>\n",
       "      <td>3122</td>\n",
       "      <td>3511</td>\n",
       "      <td>3708</td>\n",
       "      <td>3759</td>\n",
       "      <td>4072</td>\n",
       "      <td>4686</td>\n",
       "    </tr>\n",
       "    <tr>\n",
       "      <th>TX</th>\n",
       "      <td>643.698700</td>\n",
       "      <td>611.110086</td>\n",
       "      <td>648.818958</td>\n",
       "      <td>666.708188</td>\n",
       "      <td>662.002423</td>\n",
       "      <td>696.845756</td>\n",
       "      <td>693.485215</td>\n",
       "      <td>693.100945</td>\n",
       "      <td>695.363753</td>\n",
       "      <td>710.994283</td>\n",
       "      <td>550</td>\n",
       "      <td>622</td>\n",
       "      <td>854</td>\n",
       "      <td>1280</td>\n",
       "      <td>2419</td>\n",
       "      <td>3222</td>\n",
       "      <td>4817</td>\n",
       "      <td>6398</td>\n",
       "      <td>10948</td>\n",
       "      <td>25156</td>\n",
       "    </tr>\n",
       "    <tr>\n",
       "      <th>VT</th>\n",
       "      <td>5.901652</td>\n",
       "      <td>6.132742</td>\n",
       "      <td>5.854555</td>\n",
       "      <td>5.782272</td>\n",
       "      <td>5.430809</td>\n",
       "      <td>5.720077</td>\n",
       "      <td>5.867586</td>\n",
       "      <td>6.125115</td>\n",
       "      <td>5.917026</td>\n",
       "      <td>5.833906</td>\n",
       "      <td>84</td>\n",
       "      <td>97</td>\n",
       "      <td>107</td>\n",
       "      <td>173</td>\n",
       "      <td>280</td>\n",
       "      <td>461</td>\n",
       "      <td>627</td>\n",
       "      <td>1044</td>\n",
       "      <td>1335</td>\n",
       "      <td>2029</td>\n",
       "    </tr>\n",
       "    <tr>\n",
       "      <th>WA</th>\n",
       "      <td>75.157759</td>\n",
       "      <td>72.977136</td>\n",
       "      <td>73.044555</td>\n",
       "      <td>68.149752</td>\n",
       "      <td>67.912628</td>\n",
       "      <td>72.679159</td>\n",
       "      <td>71.204237</td>\n",
       "      <td>73.062390</td>\n",
       "      <td>78.443075</td>\n",
       "      <td>78.732677</td>\n",
       "      <td>108</td>\n",
       "      <td>123</td>\n",
       "      <td>155</td>\n",
       "      <td>201</td>\n",
       "      <td>270</td>\n",
       "      <td>337</td>\n",
       "      <td>471</td>\n",
       "      <td>649</td>\n",
       "      <td>958</td>\n",
       "      <td>1201</td>\n",
       "    </tr>\n",
       "  </tbody>\n",
       "</table>\n",
       "</div>"
      ],
      "text/plain": [
       "        2008_emis   2009_emis   2010_emis   2011_emis   2012_emis   2013_emis  \\\n",
       "State                                                                           \n",
       "OH     259.915008  234.975715  247.141718  235.368188  215.376323  229.601220   \n",
       "PA     267.457907  242.407980  254.419583  247.126263  236.353959  246.092075   \n",
       "TX     643.698700  611.110086  648.818958  666.708188  662.002423  696.845756   \n",
       "VT       5.901652    6.132742    5.854555    5.782272    5.430809    5.720077   \n",
       "WA      75.157759   72.977136   73.044555   68.149752   67.912628   72.679159   \n",
       "\n",
       "        2014_emis   2015_emis   2016_emis   2017_emis  2008_con  2009_con  \\\n",
       "State                                                                       \n",
       "OH     231.666146  212.891632  206.407588  205.621802       202       249   \n",
       "PA     245.894238  229.691958  216.636771  216.650887       605       738   \n",
       "TX     693.485215  693.100945  695.363753  710.994283       550       622   \n",
       "VT       5.867586    6.125115    5.917026    5.833906        84        97   \n",
       "WA      71.204237   73.062390   78.443075   78.732677       108       123   \n",
       "\n",
       "       2010_con  2011_con  2012_con  2013_con  2014_con  2015_con  2016_con  \\\n",
       "State                                                                         \n",
       "OH          438       564      1176      1345      1567      1679      1875   \n",
       "PA         1435      2552      3122      3511      3708      3759      4072   \n",
       "TX          854      1280      2419      3222      4817      6398     10948   \n",
       "VT          107       173       280       461       627      1044      1335   \n",
       "WA          155       201       270       337       471       649       958   \n",
       "\n",
       "       2017_con  \n",
       "State            \n",
       "OH         2436  \n",
       "PA         4686  \n",
       "TX        25156  \n",
       "VT         2029  \n",
       "WA         1201  "
      ]
     },
     "execution_count": 44,
     "metadata": {},
     "output_type": "execute_result"
    }
   ],
   "source": [
    "##Merge the 2 dataframes\n",
    "#merged_df = pd.merge(emissions, consumption, how='inner', on='State', suffixes=('_emis', '_con'))\n",
    "\n",
    "merged_df = pd.merge(five_states_emis, five_states_consump, how=\"inner\", on=\"State\", suffixes=('_emis', '_con'))\n",
    "\n",
    "merged_df.head()\n",
    "#merged_df.dtypes"
   ]
  },
  {
   "cell_type": "code",
   "execution_count": 45,
   "metadata": {},
   "outputs": [],
   "source": [
    "##Calculate the percentage of emissions to consumption\n",
    "emis_to_con_2008 = round((merged_df[\"2008_emis\"]/merged_df[\"2008_con\"])*100 ,2)\n",
    "emis_to_con_2009 = round((merged_df[\"2009_emis\"]/merged_df[\"2009_con\"])*100 ,2)\n",
    "emis_to_con_2010 = round((merged_df[\"2010_emis\"]/merged_df[\"2010_con\"])*100 ,2)\n",
    "emis_to_con_2011 = round((merged_df[\"2011_emis\"]/merged_df[\"2011_con\"])*100 ,2)\n",
    "emis_to_con_2012 = round((merged_df[\"2012_emis\"]/merged_df[\"2012_con\"])*100 ,2)\n",
    "emis_to_con_2013 = round((merged_df[\"2013_emis\"]/merged_df[\"2013_con\"])*100 ,2)\n",
    "emis_to_con_2014 = round((merged_df[\"2014_emis\"]/merged_df[\"2014_con\"])*100 ,2)\n",
    "emis_to_con_2015 = round((merged_df[\"2015_emis\"]/merged_df[\"2015_con\"])*100 ,2)\n",
    "emis_to_con_2016 = round((merged_df[\"2016_emis\"]/merged_df[\"2016_con\"])*100 ,2)\n",
    "emis_to_con_2017 = round((merged_df[\"2017_emis\"]/merged_df[\"2017_con\"])*100 ,2)\n"
   ]
  },
  {
   "cell_type": "code",
   "execution_count": 46,
   "metadata": {},
   "outputs": [
    {
     "data": {
      "text/html": [
       "<div>\n",
       "<style scoped>\n",
       "    .dataframe tbody tr th:only-of-type {\n",
       "        vertical-align: middle;\n",
       "    }\n",
       "\n",
       "    .dataframe tbody tr th {\n",
       "        vertical-align: top;\n",
       "    }\n",
       "\n",
       "    .dataframe thead th {\n",
       "        text-align: right;\n",
       "    }\n",
       "</style>\n",
       "<table border=\"1\" class=\"dataframe\">\n",
       "  <thead>\n",
       "    <tr style=\"text-align: right;\">\n",
       "      <th></th>\n",
       "      <th>2008</th>\n",
       "      <th>2009</th>\n",
       "      <th>2010</th>\n",
       "      <th>2011</th>\n",
       "      <th>2012</th>\n",
       "      <th>2013</th>\n",
       "      <th>2014</th>\n",
       "      <th>2015</th>\n",
       "      <th>2016</th>\n",
       "      <th>2017</th>\n",
       "    </tr>\n",
       "    <tr>\n",
       "      <th>State</th>\n",
       "      <th></th>\n",
       "      <th></th>\n",
       "      <th></th>\n",
       "      <th></th>\n",
       "      <th></th>\n",
       "      <th></th>\n",
       "      <th></th>\n",
       "      <th></th>\n",
       "      <th></th>\n",
       "      <th></th>\n",
       "    </tr>\n",
       "  </thead>\n",
       "  <tbody>\n",
       "    <tr>\n",
       "      <th>OH</th>\n",
       "      <td>128.67</td>\n",
       "      <td>94.37</td>\n",
       "      <td>56.43</td>\n",
       "      <td>41.73</td>\n",
       "      <td>18.31</td>\n",
       "      <td>17.07</td>\n",
       "      <td>14.78</td>\n",
       "      <td>12.68</td>\n",
       "      <td>11.01</td>\n",
       "      <td>8.44</td>\n",
       "    </tr>\n",
       "    <tr>\n",
       "      <th>PA</th>\n",
       "      <td>44.21</td>\n",
       "      <td>32.85</td>\n",
       "      <td>17.73</td>\n",
       "      <td>9.68</td>\n",
       "      <td>7.57</td>\n",
       "      <td>7.01</td>\n",
       "      <td>6.63</td>\n",
       "      <td>6.11</td>\n",
       "      <td>5.32</td>\n",
       "      <td>4.62</td>\n",
       "    </tr>\n",
       "    <tr>\n",
       "      <th>TX</th>\n",
       "      <td>117.04</td>\n",
       "      <td>98.25</td>\n",
       "      <td>75.97</td>\n",
       "      <td>52.09</td>\n",
       "      <td>27.37</td>\n",
       "      <td>21.63</td>\n",
       "      <td>14.40</td>\n",
       "      <td>10.83</td>\n",
       "      <td>6.35</td>\n",
       "      <td>2.83</td>\n",
       "    </tr>\n",
       "    <tr>\n",
       "      <th>VT</th>\n",
       "      <td>7.03</td>\n",
       "      <td>6.32</td>\n",
       "      <td>5.47</td>\n",
       "      <td>3.34</td>\n",
       "      <td>1.94</td>\n",
       "      <td>1.24</td>\n",
       "      <td>0.94</td>\n",
       "      <td>0.59</td>\n",
       "      <td>0.44</td>\n",
       "      <td>0.29</td>\n",
       "    </tr>\n",
       "    <tr>\n",
       "      <th>WA</th>\n",
       "      <td>69.59</td>\n",
       "      <td>59.33</td>\n",
       "      <td>47.13</td>\n",
       "      <td>33.91</td>\n",
       "      <td>25.15</td>\n",
       "      <td>21.57</td>\n",
       "      <td>15.12</td>\n",
       "      <td>11.26</td>\n",
       "      <td>8.19</td>\n",
       "      <td>6.56</td>\n",
       "    </tr>\n",
       "  </tbody>\n",
       "</table>\n",
       "</div>"
      ],
      "text/plain": [
       "         2008   2009   2010   2011   2012   2013   2014   2015   2016  2017\n",
       "State                                                                      \n",
       "OH     128.67  94.37  56.43  41.73  18.31  17.07  14.78  12.68  11.01  8.44\n",
       "PA      44.21  32.85  17.73   9.68   7.57   7.01   6.63   6.11   5.32  4.62\n",
       "TX     117.04  98.25  75.97  52.09  27.37  21.63  14.40  10.83   6.35  2.83\n",
       "VT       7.03   6.32   5.47   3.34   1.94   1.24   0.94   0.59   0.44  0.29\n",
       "WA      69.59  59.33  47.13  33.91  25.15  21.57  15.12  11.26   8.19  6.56"
      ]
     },
     "execution_count": 46,
     "metadata": {},
     "output_type": "execute_result"
    }
   ],
   "source": [
    "##Create a new dataframe with the percentage results\n",
    "percent_df = pd.DataFrame({\n",
    "    \"2008\": emis_to_con_2008,\n",
    "    \"2009\": emis_to_con_2009,\n",
    "    \"2010\": emis_to_con_2010,\n",
    "    \"2011\": emis_to_con_2011,\n",
    "    \"2012\": emis_to_con_2012,\n",
    "    \"2013\": emis_to_con_2013,\n",
    "    \"2014\": emis_to_con_2014,\n",
    "    \"2015\": emis_to_con_2015,\n",
    "    \"2016\": emis_to_con_2016,\n",
    "    \"2017\": emis_to_con_2017\n",
    "})\n",
    "percent_df.head()"
   ]
  },
  {
   "cell_type": "code",
   "execution_count": 47,
   "metadata": {},
   "outputs": [
    {
     "data": {
      "text/html": [
       "<div>\n",
       "<style scoped>\n",
       "    .dataframe tbody tr th:only-of-type {\n",
       "        vertical-align: middle;\n",
       "    }\n",
       "\n",
       "    .dataframe tbody tr th {\n",
       "        vertical-align: top;\n",
       "    }\n",
       "\n",
       "    .dataframe thead th {\n",
       "        text-align: right;\n",
       "    }\n",
       "</style>\n",
       "<table border=\"1\" class=\"dataframe\">\n",
       "  <thead>\n",
       "    <tr style=\"text-align: right;\">\n",
       "      <th></th>\n",
       "      <th>2008</th>\n",
       "      <th>2009</th>\n",
       "      <th>2010</th>\n",
       "      <th>2011</th>\n",
       "      <th>2012</th>\n",
       "      <th>2013</th>\n",
       "      <th>2014</th>\n",
       "      <th>2015</th>\n",
       "      <th>2016</th>\n",
       "      <th>2017</th>\n",
       "      <th>Average</th>\n",
       "    </tr>\n",
       "    <tr>\n",
       "      <th>State</th>\n",
       "      <th></th>\n",
       "      <th></th>\n",
       "      <th></th>\n",
       "      <th></th>\n",
       "      <th></th>\n",
       "      <th></th>\n",
       "      <th></th>\n",
       "      <th></th>\n",
       "      <th></th>\n",
       "      <th></th>\n",
       "      <th></th>\n",
       "    </tr>\n",
       "  </thead>\n",
       "  <tbody>\n",
       "    <tr>\n",
       "      <th>OH</th>\n",
       "      <td>128.67</td>\n",
       "      <td>94.37</td>\n",
       "      <td>56.43</td>\n",
       "      <td>41.73</td>\n",
       "      <td>18.31</td>\n",
       "      <td>17.07</td>\n",
       "      <td>14.78</td>\n",
       "      <td>12.68</td>\n",
       "      <td>11.01</td>\n",
       "      <td>8.44</td>\n",
       "      <td>40.349</td>\n",
       "    </tr>\n",
       "    <tr>\n",
       "      <th>PA</th>\n",
       "      <td>44.21</td>\n",
       "      <td>32.85</td>\n",
       "      <td>17.73</td>\n",
       "      <td>9.68</td>\n",
       "      <td>7.57</td>\n",
       "      <td>7.01</td>\n",
       "      <td>6.63</td>\n",
       "      <td>6.11</td>\n",
       "      <td>5.32</td>\n",
       "      <td>4.62</td>\n",
       "      <td>14.173</td>\n",
       "    </tr>\n",
       "    <tr>\n",
       "      <th>TX</th>\n",
       "      <td>117.04</td>\n",
       "      <td>98.25</td>\n",
       "      <td>75.97</td>\n",
       "      <td>52.09</td>\n",
       "      <td>27.37</td>\n",
       "      <td>21.63</td>\n",
       "      <td>14.40</td>\n",
       "      <td>10.83</td>\n",
       "      <td>6.35</td>\n",
       "      <td>2.83</td>\n",
       "      <td>42.676</td>\n",
       "    </tr>\n",
       "    <tr>\n",
       "      <th>VT</th>\n",
       "      <td>7.03</td>\n",
       "      <td>6.32</td>\n",
       "      <td>5.47</td>\n",
       "      <td>3.34</td>\n",
       "      <td>1.94</td>\n",
       "      <td>1.24</td>\n",
       "      <td>0.94</td>\n",
       "      <td>0.59</td>\n",
       "      <td>0.44</td>\n",
       "      <td>0.29</td>\n",
       "      <td>2.760</td>\n",
       "    </tr>\n",
       "    <tr>\n",
       "      <th>WA</th>\n",
       "      <td>69.59</td>\n",
       "      <td>59.33</td>\n",
       "      <td>47.13</td>\n",
       "      <td>33.91</td>\n",
       "      <td>25.15</td>\n",
       "      <td>21.57</td>\n",
       "      <td>15.12</td>\n",
       "      <td>11.26</td>\n",
       "      <td>8.19</td>\n",
       "      <td>6.56</td>\n",
       "      <td>29.781</td>\n",
       "    </tr>\n",
       "  </tbody>\n",
       "</table>\n",
       "</div>"
      ],
      "text/plain": [
       "         2008   2009   2010   2011   2012   2013   2014   2015   2016  2017  \\\n",
       "State                                                                         \n",
       "OH     128.67  94.37  56.43  41.73  18.31  17.07  14.78  12.68  11.01  8.44   \n",
       "PA      44.21  32.85  17.73   9.68   7.57   7.01   6.63   6.11   5.32  4.62   \n",
       "TX     117.04  98.25  75.97  52.09  27.37  21.63  14.40  10.83   6.35  2.83   \n",
       "VT       7.03   6.32   5.47   3.34   1.94   1.24   0.94   0.59   0.44  0.29   \n",
       "WA      69.59  59.33  47.13  33.91  25.15  21.57  15.12  11.26   8.19  6.56   \n",
       "\n",
       "       Average  \n",
       "State           \n",
       "OH      40.349  \n",
       "PA      14.173  \n",
       "TX      42.676  \n",
       "VT       2.760  \n",
       "WA      29.781  "
      ]
     },
     "execution_count": 47,
     "metadata": {},
     "output_type": "execute_result"
    }
   ],
   "source": [
    "##Calculate the average emission vs consumption across all of the years for each state\n",
    "percent_df[\"Average\"] = percent_df.mean(axis=1)\n",
    "percent_df.head()"
   ]
  },
  {
   "cell_type": "code",
   "execution_count": 44,
   "metadata": {},
   "outputs": [],
   "source": [
    "##Sort by the average  --- Don't need this, switched to analyzing 5 states \n",
    "# percent_df = percent_df.sort_values('Average')\n",
    "# percent_df.head()\n",
    "# lowest_emis_to_con = percent_df.head()\n",
    "# highest_emis_to_con = percent_df.tail()"
   ]
  },
  {
   "cell_type": "code",
   "execution_count": 48,
   "metadata": {},
   "outputs": [],
   "source": [
    "##Create Groups by emission to consumption percentages for comparision\n",
    "#percent_df[\"Average\"]"
   ]
  },
  {
   "cell_type": "code",
   "execution_count": 49,
   "metadata": {},
   "outputs": [],
   "source": [
    "##Separate the states into groups by emission/consumption percentages and create a new column. \n",
    "# bins = [0, 10, 50, 500, 1200]\n",
    "\n",
    "# group_labels = [\"Low Emis %\", \"Medium Emis %\", \"High Emis %\", \"Very High %\"]\n",
    "\n",
    "# percent_df[\"Category\"] = pd.cut(percent_df[\"Average\"], bins, labels=group_labels)\n",
    "# percent_df.head()"
   ]
  },
  {
   "cell_type": "code",
   "execution_count": 50,
   "metadata": {},
   "outputs": [],
   "source": [
    "# ##Group by the emissions to consumption percent categories\n",
    "# emission_group = percent_df.groupby(\"Category\")\n",
    "\n",
    "# ##Find out how many in each group\n",
    "# print(emission_group[\"Average\"].count())"
   ]
  },
  {
   "cell_type": "code",
   "execution_count": 62,
   "metadata": {},
   "outputs": [
    {
     "data": {
      "image/png": "[encoded data removed]",
      "text/plain": [
       "<Figure size 432x288 with 1 Axes>"
      ]
     },
     "metadata": {
      "needs_background": "light"
     },
     "output_type": "display_data"
    }
   ],
   "source": [
    "#Create a boxplot to compare means of Averages\n",
    "percent_df.boxplot(\"Average\")\n",
    "plt.show()"
   ]
  },
  {
   "cell_type": "code",
   "execution_count": 51,
   "metadata": {},
   "outputs": [],
   "source": [
    "##Extract individual groups\n",
    "# group1 = percent_df[percent_df[\"Category\"] == \"Low Emis %\"][\"Average\"]\n",
    "# group2 = percent_df[percent_df[\"Category\"] == \"Medium Emis %\"][\"Average\"]\n",
    "# group3 = percent_df[percent_df[\"Category\"] == \"High Emis %\"][\"Average\"]\n",
    "# group4 = percent_df[percent_df[\"Category\"] == \"Very High %\"][\"Average\"]"
   ]
  },
  {
   "cell_type": "code",
   "execution_count": 64,
   "metadata": {},
   "outputs": [],
   "source": [
    "##Perform the ANOVA\n",
    "#stats.f_oneway(group1, group2, group3, group4)\n",
    "#stats.f_oneway(percent_df[0], percent_df[1], percent_df[2],percent_df[3], percent_df[4])"
   ]
  },
  {
   "cell_type": "code",
   "execution_count": null,
   "metadata": {},
   "outputs": [],
   "source": []
  }
 ],
 "metadata": {
  "kernelspec": {
   "display_name": "Python 3",
   "language": "python",
   "name": "python3"
  },
  "language_info": {
   "codemirror_mode": {
    "name": "ipython",
    "version": 3
   },
   "file_extension": ".py",
   "mimetype": "text/x-python",
   "name": "python",
   "nbconvert_exporter": "python",
   "pygments_lexer": "ipython3",
   "version": "3.6.10"
  }
 },
 "nbformat": 4,
 "nbformat_minor": 4
}
