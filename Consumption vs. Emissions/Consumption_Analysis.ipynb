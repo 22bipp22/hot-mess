{
 "cells": [
  {
   "cell_type": "code",
   "execution_count": 1,
   "metadata": {},
   "outputs": [],
   "source": [
    "import warnings\n",
    "warnings.filterwarnings('ignore')"
   ]
  },
  {
   "cell_type": "code",
   "execution_count": 2,
   "metadata": {},
   "outputs": [],
   "source": [
    "##Import dependencies\n",
    "%matplotlib inline\n",
    "import pandas as pd\n",
    "import scipy.stats as stats\n",
    "from matplotlib import pyplot as plt\n",
    "from scipy.stats import linregress"
   ]
  },
  {
   "cell_type": "code",
   "execution_count": 3,
   "metadata": {},
   "outputs": [],
   "source": [
    "##Bring in csv file for consumption data\n",
    "consumption = pd.read_csv(\"../input_data/consumption.csv\")\n",
    "\n",
    "#Bring in csv file for emissions data\n",
    "emissions = pd.read_csv(\"../input_data/emissions.csv\")\n"
   ]
  },
  {
   "cell_type": "markdown",
   "metadata": {},
   "source": [
    "# View and Prepare the Data"
   ]
  },
  {
   "cell_type": "code",
   "execution_count": 4,
   "metadata": {},
   "outputs": [
    {
     "data": {
      "text/html": [
       "<div>\n",
       "<style scoped>\n",
       "    .dataframe tbody tr th:only-of-type {\n",
       "        vertical-align: middle;\n",
       "    }\n",
       "\n",
       "    .dataframe tbody tr th {\n",
       "        vertical-align: top;\n",
       "    }\n",
       "\n",
       "    .dataframe thead th {\n",
       "        text-align: right;\n",
       "    }\n",
       "</style>\n",
       "<table border=\"1\" class=\"dataframe\">\n",
       "  <thead>\n",
       "    <tr style=\"text-align: right;\">\n",
       "      <th></th>\n",
       "      <th>Unnamed: 0</th>\n",
       "      <th>2008</th>\n",
       "      <th>2009</th>\n",
       "      <th>2010</th>\n",
       "      <th>2011</th>\n",
       "      <th>2012</th>\n",
       "      <th>2013</th>\n",
       "      <th>2014</th>\n",
       "      <th>2015</th>\n",
       "      <th>2016</th>\n",
       "      <th>2017</th>\n",
       "      <th>2018</th>\n",
       "    </tr>\n",
       "  </thead>\n",
       "  <tbody>\n",
       "    <tr>\n",
       "      <th>0</th>\n",
       "      <td>AL</td>\n",
       "      <td>64</td>\n",
       "      <td>62</td>\n",
       "      <td>68</td>\n",
       "      <td>71</td>\n",
       "      <td>78</td>\n",
       "      <td>97</td>\n",
       "      <td>100</td>\n",
       "      <td>101</td>\n",
       "      <td>431</td>\n",
       "      <td>1812</td>\n",
       "      <td>3425</td>\n",
       "    </tr>\n",
       "    <tr>\n",
       "      <th>1</th>\n",
       "      <td>AK</td>\n",
       "      <td>2</td>\n",
       "      <td>3</td>\n",
       "      <td>3</td>\n",
       "      <td>3</td>\n",
       "      <td>3</td>\n",
       "      <td>3</td>\n",
       "      <td>3</td>\n",
       "      <td>3</td>\n",
       "      <td>14</td>\n",
       "      <td>20</td>\n",
       "      <td>28</td>\n",
       "    </tr>\n",
       "    <tr>\n",
       "      <th>2</th>\n",
       "      <td>AZ</td>\n",
       "      <td>3112</td>\n",
       "      <td>3445</td>\n",
       "      <td>4518</td>\n",
       "      <td>7604</td>\n",
       "      <td>18096</td>\n",
       "      <td>31405</td>\n",
       "      <td>43572</td>\n",
       "      <td>48236</td>\n",
       "      <td>52862</td>\n",
       "      <td>66326</td>\n",
       "      <td>70800</td>\n",
       "    </tr>\n",
       "    <tr>\n",
       "      <th>3</th>\n",
       "      <td>AR</td>\n",
       "      <td>53</td>\n",
       "      <td>59</td>\n",
       "      <td>80</td>\n",
       "      <td>85</td>\n",
       "      <td>100</td>\n",
       "      <td>108</td>\n",
       "      <td>111</td>\n",
       "      <td>124</td>\n",
       "      <td>372</td>\n",
       "      <td>442</td>\n",
       "      <td>2118</td>\n",
       "    </tr>\n",
       "    <tr>\n",
       "      <th>4</th>\n",
       "      <td>CA</td>\n",
       "      <td>29985</td>\n",
       "      <td>31297</td>\n",
       "      <td>36006</td>\n",
       "      <td>41816</td>\n",
       "      <td>53911</td>\n",
       "      <td>84832</td>\n",
       "      <td>156494</td>\n",
       "      <td>211876</td>\n",
       "      <td>267580</td>\n",
       "      <td>340408</td>\n",
       "      <td>381733</td>\n",
       "    </tr>\n",
       "  </tbody>\n",
       "</table>\n",
       "</div>"
      ],
      "text/plain": [
       "  Unnamed: 0   2008   2009   2010   2011   2012   2013    2014    2015  \\\n",
       "0         AL     64     62     68     71     78     97     100     101   \n",
       "1         AK      2      3      3      3      3      3       3       3   \n",
       "2         AZ   3112   3445   4518   7604  18096  31405   43572   48236   \n",
       "3         AR     53     59     80     85    100    108     111     124   \n",
       "4         CA  29985  31297  36006  41816  53911  84832  156494  211876   \n",
       "\n",
       "     2016    2017    2018  \n",
       "0     431    1812    3425  \n",
       "1      14      20      28  \n",
       "2   52862   66326   70800  \n",
       "3     372     442    2118  \n",
       "4  267580  340408  381733  "
      ]
     },
     "execution_count": 4,
     "metadata": {},
     "output_type": "execute_result"
    }
   ],
   "source": [
    "##View the first 5 rows of consumption data\n",
    "consumption.head()"
   ]
  },
  {
   "cell_type": "code",
   "execution_count": 5,
   "metadata": {},
   "outputs": [
    {
     "data": {
      "text/html": [
       "<div>\n",
       "<style scoped>\n",
       "    .dataframe tbody tr th:only-of-type {\n",
       "        vertical-align: middle;\n",
       "    }\n",
       "\n",
       "    .dataframe tbody tr th {\n",
       "        vertical-align: top;\n",
       "    }\n",
       "\n",
       "    .dataframe thead th {\n",
       "        text-align: right;\n",
       "    }\n",
       "</style>\n",
       "<table border=\"1\" class=\"dataframe\">\n",
       "  <thead>\n",
       "    <tr style=\"text-align: right;\">\n",
       "      <th></th>\n",
       "      <th>State</th>\n",
       "      <th>2008</th>\n",
       "      <th>2009</th>\n",
       "      <th>2010</th>\n",
       "      <th>2011</th>\n",
       "      <th>2012</th>\n",
       "      <th>2013</th>\n",
       "      <th>2014</th>\n",
       "      <th>2015</th>\n",
       "      <th>2016</th>\n",
       "      <th>2017</th>\n",
       "    </tr>\n",
       "  </thead>\n",
       "  <tbody>\n",
       "    <tr>\n",
       "      <th>0</th>\n",
       "      <td>AL</td>\n",
       "      <td>139.666603</td>\n",
       "      <td>120.020443</td>\n",
       "      <td>132.722932</td>\n",
       "      <td>129.812612</td>\n",
       "      <td>123.039324</td>\n",
       "      <td>120.732885</td>\n",
       "      <td>123.080771</td>\n",
       "      <td>120.012608</td>\n",
       "      <td>114.872696</td>\n",
       "      <td>109.018634</td>\n",
       "    </tr>\n",
       "    <tr>\n",
       "      <th>1</th>\n",
       "      <td>AK</td>\n",
       "      <td>39.435905</td>\n",
       "      <td>37.788246</td>\n",
       "      <td>38.729384</td>\n",
       "      <td>38.585774</td>\n",
       "      <td>38.039447</td>\n",
       "      <td>35.975289</td>\n",
       "      <td>35.171091</td>\n",
       "      <td>36.067852</td>\n",
       "      <td>34.739390</td>\n",
       "      <td>34.295441</td>\n",
       "    </tr>\n",
       "    <tr>\n",
       "      <th>2</th>\n",
       "      <td>AZ</td>\n",
       "      <td>102.125070</td>\n",
       "      <td>93.252826</td>\n",
       "      <td>95.204594</td>\n",
       "      <td>93.282044</td>\n",
       "      <td>91.256850</td>\n",
       "      <td>95.060822</td>\n",
       "      <td>93.120620</td>\n",
       "      <td>90.856296</td>\n",
       "      <td>86.971877</td>\n",
       "      <td>86.137839</td>\n",
       "    </tr>\n",
       "    <tr>\n",
       "      <th>3</th>\n",
       "      <td>AR</td>\n",
       "      <td>64.059757</td>\n",
       "      <td>61.367031</td>\n",
       "      <td>65.723403</td>\n",
       "      <td>67.168798</td>\n",
       "      <td>65.940126</td>\n",
       "      <td>68.354108</td>\n",
       "      <td>68.985869</td>\n",
       "      <td>59.176044</td>\n",
       "      <td>62.319791</td>\n",
       "      <td>64.277677</td>\n",
       "    </tr>\n",
       "    <tr>\n",
       "      <th>4</th>\n",
       "      <td>CA</td>\n",
       "      <td>379.480916</td>\n",
       "      <td>366.184902</td>\n",
       "      <td>360.953079</td>\n",
       "      <td>346.864178</td>\n",
       "      <td>351.496006</td>\n",
       "      <td>354.219000</td>\n",
       "      <td>351.477053</td>\n",
       "      <td>359.290429</td>\n",
       "      <td>359.261859</td>\n",
       "      <td>360.913489</td>\n",
       "    </tr>\n",
       "  </tbody>\n",
       "</table>\n",
       "</div>"
      ],
      "text/plain": [
       "  State        2008        2009        2010        2011        2012  \\\n",
       "0    AL  139.666603  120.020443  132.722932  129.812612  123.039324   \n",
       "1    AK   39.435905   37.788246   38.729384   38.585774   38.039447   \n",
       "2    AZ  102.125070   93.252826   95.204594   93.282044   91.256850   \n",
       "3    AR   64.059757   61.367031   65.723403   67.168798   65.940126   \n",
       "4    CA  379.480916  366.184902  360.953079  346.864178  351.496006   \n",
       "\n",
       "         2013        2014        2015        2016        2017  \n",
       "0  120.732885  123.080771  120.012608  114.872696  109.018634  \n",
       "1   35.975289   35.171091   36.067852   34.739390   34.295441  \n",
       "2   95.060822   93.120620   90.856296   86.971877   86.137839  \n",
       "3   68.354108   68.985869   59.176044   62.319791   64.277677  \n",
       "4  354.219000  351.477053  359.290429  359.261859  360.913489  "
      ]
     },
     "execution_count": 5,
     "metadata": {},
     "output_type": "execute_result"
    }
   ],
   "source": [
    "##View the first 5 rows of emissions data\n",
    "emissions.head()"
   ]
  },
  {
   "cell_type": "code",
   "execution_count": 6,
   "metadata": {},
   "outputs": [
    {
     "data": {
      "text/html": [
       "<div>\n",
       "<style scoped>\n",
       "    .dataframe tbody tr th:only-of-type {\n",
       "        vertical-align: middle;\n",
       "    }\n",
       "\n",
       "    .dataframe tbody tr th {\n",
       "        vertical-align: top;\n",
       "    }\n",
       "\n",
       "    .dataframe thead th {\n",
       "        text-align: right;\n",
       "    }\n",
       "</style>\n",
       "<table border=\"1\" class=\"dataframe\">\n",
       "  <thead>\n",
       "    <tr style=\"text-align: right;\">\n",
       "      <th></th>\n",
       "      <th>State</th>\n",
       "      <th>2008</th>\n",
       "      <th>2009</th>\n",
       "      <th>2010</th>\n",
       "      <th>2011</th>\n",
       "      <th>2012</th>\n",
       "      <th>2013</th>\n",
       "      <th>2014</th>\n",
       "      <th>2015</th>\n",
       "      <th>2016</th>\n",
       "      <th>2017</th>\n",
       "    </tr>\n",
       "  </thead>\n",
       "  <tbody>\n",
       "    <tr>\n",
       "      <th>0</th>\n",
       "      <td>AL</td>\n",
       "      <td>64</td>\n",
       "      <td>62</td>\n",
       "      <td>68</td>\n",
       "      <td>71</td>\n",
       "      <td>78</td>\n",
       "      <td>97</td>\n",
       "      <td>100</td>\n",
       "      <td>101</td>\n",
       "      <td>431</td>\n",
       "      <td>1812</td>\n",
       "    </tr>\n",
       "    <tr>\n",
       "      <th>1</th>\n",
       "      <td>AK</td>\n",
       "      <td>2</td>\n",
       "      <td>3</td>\n",
       "      <td>3</td>\n",
       "      <td>3</td>\n",
       "      <td>3</td>\n",
       "      <td>3</td>\n",
       "      <td>3</td>\n",
       "      <td>3</td>\n",
       "      <td>14</td>\n",
       "      <td>20</td>\n",
       "    </tr>\n",
       "    <tr>\n",
       "      <th>2</th>\n",
       "      <td>AZ</td>\n",
       "      <td>3112</td>\n",
       "      <td>3445</td>\n",
       "      <td>4518</td>\n",
       "      <td>7604</td>\n",
       "      <td>18096</td>\n",
       "      <td>31405</td>\n",
       "      <td>43572</td>\n",
       "      <td>48236</td>\n",
       "      <td>52862</td>\n",
       "      <td>66326</td>\n",
       "    </tr>\n",
       "    <tr>\n",
       "      <th>3</th>\n",
       "      <td>AR</td>\n",
       "      <td>53</td>\n",
       "      <td>59</td>\n",
       "      <td>80</td>\n",
       "      <td>85</td>\n",
       "      <td>100</td>\n",
       "      <td>108</td>\n",
       "      <td>111</td>\n",
       "      <td>124</td>\n",
       "      <td>372</td>\n",
       "      <td>442</td>\n",
       "    </tr>\n",
       "    <tr>\n",
       "      <th>4</th>\n",
       "      <td>CA</td>\n",
       "      <td>29985</td>\n",
       "      <td>31297</td>\n",
       "      <td>36006</td>\n",
       "      <td>41816</td>\n",
       "      <td>53911</td>\n",
       "      <td>84832</td>\n",
       "      <td>156494</td>\n",
       "      <td>211876</td>\n",
       "      <td>267580</td>\n",
       "      <td>340408</td>\n",
       "    </tr>\n",
       "  </tbody>\n",
       "</table>\n",
       "</div>"
      ],
      "text/plain": [
       "  State   2008   2009   2010   2011   2012   2013    2014    2015    2016  \\\n",
       "0    AL     64     62     68     71     78     97     100     101     431   \n",
       "1    AK      2      3      3      3      3      3       3       3      14   \n",
       "2    AZ   3112   3445   4518   7604  18096  31405   43572   48236   52862   \n",
       "3    AR     53     59     80     85    100    108     111     124     372   \n",
       "4    CA  29985  31297  36006  41816  53911  84832  156494  211876  267580   \n",
       "\n",
       "     2017  \n",
       "0    1812  \n",
       "1      20  \n",
       "2   66326  \n",
       "3     442  \n",
       "4  340408  "
      ]
     },
     "execution_count": 6,
     "metadata": {},
     "output_type": "execute_result"
    }
   ],
   "source": [
    "##Clean up consumption data to match fields in emissions data(rename column 1 to State, delete 2018 column)\n",
    "consumption= consumption.rename(columns={\"Unnamed: 0\": \"State\"})\n",
    "\n",
    "consumption.drop('2018', axis=1, inplace=True)\n",
    "consumption.head()\n",
    "\n"
   ]
  },
  {
   "cell_type": "code",
   "execution_count": 7,
   "metadata": {},
   "outputs": [],
   "source": [
    "##Set state as the index in both dataframes\n",
    "emissions.set_index(\"State\", inplace=True)\n",
    "consumption.set_index(\"State\", inplace=True)"
   ]
  },
  {
   "cell_type": "code",
   "execution_count": 8,
   "metadata": {},
   "outputs": [
    {
     "name": "stdout",
     "output_type": "stream",
     "text": [
      "Number of emissions rows: 51\n",
      "Number of consumption rows: 51\n"
     ]
    }
   ],
   "source": [
    "print(f\"Number of emissions rows: {len(emissions)}\")\n",
    "print(f\"Number of consumption rows: {len(consumption)}\")"
   ]
  },
  {
   "cell_type": "markdown",
   "metadata": {},
   "source": [
    "# Look for correlations"
   ]
  },
  {
   "cell_type": "code",
   "execution_count": 74,
   "metadata": {},
   "outputs": [],
   "source": [
    "##Create a function to calculate regression information and create the scatterplot\n",
    "def scatterplots():\n",
    "    \n",
    "    (slope, intercept, rvalue, pvalue, stderr) = linregress(consump, emiss)\n",
    "    \n",
    "    regress_values = consump * slope + intercept\n",
    "    \n",
    "    line_eq = f\"y = {round(slope,3)}x + {round(intercept,2)}\" \n",
    "    \n",
    "    plt.scatter(consump, emiss)\n",
    "    plt.xlabel(\"Solar Consumption\")\n",
    "    plt.ylabel(\"Emissions\")\n",
    "    plt.title(f\"Emissions vs. Solar Consumption for {year}\")\n",
    "    plt.plot(consump, regress_values, \"r-\")\n",
    "    plt.annotate(line_eq, (x_coord,y_coord),color = 'hotpink', fontsize=18)\n",
    "    print(f\"The r-squared is: {rvalue**2}\")\n",
    "    plt.savefig(f\"../output/consumption{year}.png\")\n",
    "    plt.show()\n",
    "    "
   ]
  },
  {
   "cell_type": "code",
   "execution_count": 75,
   "metadata": {},
   "outputs": [],
   "source": [
    "##Create a function to make scatterplots for each year\n",
    "# def scatterplots():\n",
    "#     plt.scatter(consump, emiss)\n",
    "#     plt.xlabel(\"Solar Consumption\")\n",
    "#     plt.ylabel(\"Emissions\")\n",
    "#     plt.title(f\"Emissions vs. Solar Consumption for {year}\")\n",
    "#     plt.annotate(annotation, (x_coord,y_coord))\n",
    "#     plt.show()\n"
   ]
  },
  {
   "cell_type": "code",
   "execution_count": 76,
   "metadata": {},
   "outputs": [
    {
     "name": "stdout",
     "output_type": "stream",
     "text": [
      "The r-squared is: 0.14062053708909236\n"
     ]
    },
    {
     "data": {
      "image/png": "[encoded data removed]",
      "text/plain": [
       "<Figure size 432x288 with 1 Axes>"
      ]
     },
     "metadata": {
      "needs_background": "light"
     },
     "output_type": "display_data"
    }
   ],
   "source": [
    "##2008 -- First year\n",
    "emiss = emissions[\"2008\"] \n",
    "consump = consumption[\"2008\"]\n",
    "year = \"2008\"\n",
    "x_coord = 10000\n",
    "y_coord = 500\n",
    "scatterplots()\n",
    "\n"
   ]
  },
  {
   "cell_type": "markdown",
   "metadata": {},
   "source": [
    "No observable correlation between Solar Consumption and Emissions in 2008"
   ]
  },
  {
   "cell_type": "code",
   "execution_count": 77,
   "metadata": {},
   "outputs": [
    {
     "name": "stdout",
     "output_type": "stream",
     "text": [
      "The r-squared is: 0.13383141607939555\n"
     ]
    },
    {
     "data": {
      "image/png": "[encoded data removed]",
      "text/plain": [
       "<Figure size 432x288 with 1 Axes>"
      ]
     },
     "metadata": {
      "needs_background": "light"
     },
     "output_type": "display_data"
    }
   ],
   "source": [
    "##2012 - A year in the middle\n",
    "emiss = emissions[\"2012\"]\n",
    "consump = consumption[\"2012\"]\n",
    "year = \"2012\"\n",
    "x_coord = 10000\n",
    "y_coord = 500\n",
    "scatterplots()"
   ]
  },
  {
   "cell_type": "markdown",
   "metadata": {},
   "source": [
    "No observable correlation between Solar Consumption and Emissions in 2012"
   ]
  },
  {
   "cell_type": "code",
   "execution_count": 78,
   "metadata": {},
   "outputs": [
    {
     "name": "stdout",
     "output_type": "stream",
     "text": [
      "The r-squared is: 0.1404103573668808\n"
     ]
    },
    {
     "data": {
      "image/png": "[encoded data removed]",
      "text/plain": [
       "<Figure size 432x288 with 1 Axes>"
      ]
     },
     "metadata": {
      "needs_background": "light"
     },
     "output_type": "display_data"
    }
   ],
   "source": [
    "##2017 -- The last year we have data for\n",
    "emiss = emissions[\"2017\"]\n",
    "consump = consumption[\"2017\"]\n",
    "year = \"2017\"\n",
    "x_coord = 50000\n",
    "y_coord = 500\n",
    "scatterplots()"
   ]
  },
  {
   "cell_type": "markdown",
   "metadata": {},
   "source": [
    "No observable correlation between Solar Consumption and Emissions in 2017"
   ]
  },
  {
   "cell_type": "code",
   "execution_count": 79,
   "metadata": {},
   "outputs": [
    {
     "name": "stdout",
     "output_type": "stream",
     "text": [
      "The r-squared is: 0.13590769852157916\n"
     ]
    },
    {
     "data": {
      "image/png": "[encoded data removed]",
      "text/plain": [
       "<Figure size 432x288 with 1 Axes>"
      ]
     },
     "metadata": {
      "needs_background": "light"
     },
     "output_type": "display_data"
    }
   ],
   "source": [
    "##Compare the average emissions to the average consumption over the 10 years\n",
    "emiss = emissions.mean(axis=1)\n",
    "consump = consumption.mean(axis=1)\n",
    "year = \"Average Emissions over 10 Years\"\n",
    "x_coord = 20000\n",
    "y_coord = 500\n",
    "scatterplots()"
   ]
  },
  {
   "cell_type": "markdown",
   "metadata": {},
   "source": [
    "No observable correlation between the average Solar Consumption and the average Emissions "
   ]
  },
  {
   "cell_type": "code",
   "execution_count": 80,
   "metadata": {},
   "outputs": [
    {
     "name": "stdout",
     "output_type": "stream",
     "text": [
      "The r-squared is: 0.13590769852157938\n"
     ]
    },
    {
     "data": {
      "image/png": "[encoded data removed]",
      "text/plain": [
       "<Figure size 432x288 with 1 Axes>"
      ]
     },
     "metadata": {
      "needs_background": "light"
     },
     "output_type": "display_data"
    }
   ],
   "source": [
    "##Compare the total emissions to the total consumption over the 10 years\n",
    "emiss = emissions.sum(axis=1)\n",
    "consump = consumption.sum(axis=1)\n",
    "year = \"Total Emissions over 10 years\"\n",
    "x_coord = 50000\n",
    "y_coord = 5000\n",
    "scatterplots()\n"
   ]
  },
  {
   "cell_type": "markdown",
   "metadata": {},
   "source": [
    "No observable correlation between the Total Solar Consumption and the Total Emissions "
   ]
  },
  {
   "cell_type": "code",
   "execution_count": 67,
   "metadata": {},
   "outputs": [
    {
     "data": {
      "text/plain": [
       "State\n",
       "IL   -38.388519\n",
       "GA   -39.051897\n",
       "IN   -50.122083\n",
       "PA   -50.807020\n",
       "OH   -54.293206\n",
       "dtype: float64"
      ]
     },
     "execution_count": 67,
     "metadata": {},
     "output_type": "execute_result"
    }
   ],
   "source": [
    "##Calculate change in emissions from 2008 to 2017 and capture the 5 states with largest changes and 5 smallest changes\n",
    "emis_change = emissions['2017']-emissions['2008']\n",
    "emis_change = emis_change.sort_values(0, ascending=False)\n",
    "top_five_emis = emis_change.head()\n",
    "bottom_five_emis = emis_change.tail()\n",
    "bottom_five_emis"
   ]
  },
  {
   "cell_type": "markdown",
   "metadata": {},
   "source": [
    "# Calculate emissions to consumption percentages and analyze the results"
   ]
  },
  {
   "cell_type": "code",
   "execution_count": 40,
   "metadata": {},
   "outputs": [
    {
     "data": {
      "text/plain": [
       "2008_emis    float64\n",
       "2009_emis    float64\n",
       "2010_emis    float64\n",
       "2011_emis    float64\n",
       "2012_emis    float64\n",
       "2013_emis    float64\n",
       "2014_emis    float64\n",
       "2015_emis    float64\n",
       "2016_emis    float64\n",
       "2017_emis    float64\n",
       "2008_con       int64\n",
       "2009_con       int64\n",
       "2010_con       int64\n",
       "2011_con       int64\n",
       "2012_con       int64\n",
       "2013_con       int64\n",
       "2014_con       int64\n",
       "2015_con       int64\n",
       "2016_con       int64\n",
       "2017_con       int64\n",
       "dtype: object"
      ]
     },
     "execution_count": 40,
     "metadata": {},
     "output_type": "execute_result"
    }
   ],
   "source": [
    "##Merge the 2 dataframes\n",
    "merged_df = pd.merge(emissions, consumption, how='inner', on='State', suffixes=('_emis', '_con'))\n",
    "\n",
    "merged_df.head()\n",
    "merged_df.dtypes"
   ]
  },
  {
   "cell_type": "code",
   "execution_count": 41,
   "metadata": {},
   "outputs": [],
   "source": [
    "##Calculate the percentage of emissions to consumption\n",
    "emis_to_con_2008 = round((merged_df[\"2008_emis\"]/merged_df[\"2008_con\"])*100 ,2)\n",
    "emis_to_con_2009 = round((merged_df[\"2009_emis\"]/merged_df[\"2009_con\"])*100 ,2)\n",
    "emis_to_con_2010 = round((merged_df[\"2010_emis\"]/merged_df[\"2010_con\"])*100 ,2)\n",
    "emis_to_con_2011 = round((merged_df[\"2011_emis\"]/merged_df[\"2011_con\"])*100 ,2)\n",
    "emis_to_con_2012 = round((merged_df[\"2012_emis\"]/merged_df[\"2012_con\"])*100 ,2)\n",
    "emis_to_con_2013 = round((merged_df[\"2013_emis\"]/merged_df[\"2013_con\"])*100 ,2)\n",
    "emis_to_con_2014 = round((merged_df[\"2014_emis\"]/merged_df[\"2014_con\"])*100 ,2)\n",
    "emis_to_con_2015 = round((merged_df[\"2015_emis\"]/merged_df[\"2015_con\"])*100 ,2)\n",
    "emis_to_con_2016 = round((merged_df[\"2016_emis\"]/merged_df[\"2016_con\"])*100 ,2)\n",
    "emis_to_con_2017 = round((merged_df[\"2017_emis\"]/merged_df[\"2017_con\"])*100 ,2)\n"
   ]
  },
  {
   "cell_type": "code",
   "execution_count": 42,
   "metadata": {},
   "outputs": [
    {
     "data": {
      "text/html": [
       "<div>\n",
       "<style scoped>\n",
       "    .dataframe tbody tr th:only-of-type {\n",
       "        vertical-align: middle;\n",
       "    }\n",
       "\n",
       "    .dataframe tbody tr th {\n",
       "        vertical-align: top;\n",
       "    }\n",
       "\n",
       "    .dataframe thead th {\n",
       "        text-align: right;\n",
       "    }\n",
       "</style>\n",
       "<table border=\"1\" class=\"dataframe\">\n",
       "  <thead>\n",
       "    <tr style=\"text-align: right;\">\n",
       "      <th></th>\n",
       "      <th>2008</th>\n",
       "      <th>2009</th>\n",
       "      <th>2010</th>\n",
       "      <th>2011</th>\n",
       "      <th>2012</th>\n",
       "      <th>2013</th>\n",
       "      <th>2014</th>\n",
       "      <th>2015</th>\n",
       "      <th>2016</th>\n",
       "      <th>2017</th>\n",
       "    </tr>\n",
       "    <tr>\n",
       "      <th>State</th>\n",
       "      <th></th>\n",
       "      <th></th>\n",
       "      <th></th>\n",
       "      <th></th>\n",
       "      <th></th>\n",
       "      <th></th>\n",
       "      <th></th>\n",
       "      <th></th>\n",
       "      <th></th>\n",
       "      <th></th>\n",
       "    </tr>\n",
       "  </thead>\n",
       "  <tbody>\n",
       "    <tr>\n",
       "      <th>AL</th>\n",
       "      <td>218.23</td>\n",
       "      <td>193.58</td>\n",
       "      <td>195.18</td>\n",
       "      <td>182.83</td>\n",
       "      <td>157.74</td>\n",
       "      <td>124.47</td>\n",
       "      <td>123.08</td>\n",
       "      <td>118.82</td>\n",
       "      <td>26.65</td>\n",
       "      <td>6.02</td>\n",
       "    </tr>\n",
       "    <tr>\n",
       "      <th>AK</th>\n",
       "      <td>1971.80</td>\n",
       "      <td>1259.61</td>\n",
       "      <td>1290.98</td>\n",
       "      <td>1286.19</td>\n",
       "      <td>1267.98</td>\n",
       "      <td>1199.18</td>\n",
       "      <td>1172.37</td>\n",
       "      <td>1202.26</td>\n",
       "      <td>248.14</td>\n",
       "      <td>171.48</td>\n",
       "    </tr>\n",
       "    <tr>\n",
       "      <th>AZ</th>\n",
       "      <td>3.28</td>\n",
       "      <td>2.71</td>\n",
       "      <td>2.11</td>\n",
       "      <td>1.23</td>\n",
       "      <td>0.50</td>\n",
       "      <td>0.30</td>\n",
       "      <td>0.21</td>\n",
       "      <td>0.19</td>\n",
       "      <td>0.16</td>\n",
       "      <td>0.13</td>\n",
       "    </tr>\n",
       "    <tr>\n",
       "      <th>AR</th>\n",
       "      <td>120.87</td>\n",
       "      <td>104.01</td>\n",
       "      <td>82.15</td>\n",
       "      <td>79.02</td>\n",
       "      <td>65.94</td>\n",
       "      <td>63.29</td>\n",
       "      <td>62.15</td>\n",
       "      <td>47.72</td>\n",
       "      <td>16.75</td>\n",
       "      <td>14.54</td>\n",
       "    </tr>\n",
       "    <tr>\n",
       "      <th>CA</th>\n",
       "      <td>1.27</td>\n",
       "      <td>1.17</td>\n",
       "      <td>1.00</td>\n",
       "      <td>0.83</td>\n",
       "      <td>0.65</td>\n",
       "      <td>0.42</td>\n",
       "      <td>0.22</td>\n",
       "      <td>0.17</td>\n",
       "      <td>0.13</td>\n",
       "      <td>0.11</td>\n",
       "    </tr>\n",
       "  </tbody>\n",
       "</table>\n",
       "</div>"
      ],
      "text/plain": [
       "          2008     2009     2010     2011     2012     2013     2014     2015  \\\n",
       "State                                                                           \n",
       "AL      218.23   193.58   195.18   182.83   157.74   124.47   123.08   118.82   \n",
       "AK     1971.80  1259.61  1290.98  1286.19  1267.98  1199.18  1172.37  1202.26   \n",
       "AZ        3.28     2.71     2.11     1.23     0.50     0.30     0.21     0.19   \n",
       "AR      120.87   104.01    82.15    79.02    65.94    63.29    62.15    47.72   \n",
       "CA        1.27     1.17     1.00     0.83     0.65     0.42     0.22     0.17   \n",
       "\n",
       "         2016    2017  \n",
       "State                  \n",
       "AL      26.65    6.02  \n",
       "AK     248.14  171.48  \n",
       "AZ       0.16    0.13  \n",
       "AR      16.75   14.54  \n",
       "CA       0.13    0.11  "
      ]
     },
     "execution_count": 42,
     "metadata": {},
     "output_type": "execute_result"
    }
   ],
   "source": [
    "##Create a new dataframe with the percentage results\n",
    "percent_df = pd.DataFrame({\n",
    "    \"2008\": emis_to_con_2008,\n",
    "    \"2009\": emis_to_con_2009,\n",
    "    \"2010\": emis_to_con_2010,\n",
    "    \"2011\": emis_to_con_2011,\n",
    "    \"2012\": emis_to_con_2012,\n",
    "    \"2013\": emis_to_con_2013,\n",
    "    \"2014\": emis_to_con_2014,\n",
    "    \"2015\": emis_to_con_2015,\n",
    "    \"2016\": emis_to_con_2016,\n",
    "    \"2017\": emis_to_con_2017\n",
    "})\n",
    "percent_df.head()"
   ]
  },
  {
   "cell_type": "code",
   "execution_count": 43,
   "metadata": {},
   "outputs": [
    {
     "data": {
      "text/html": [
       "<div>\n",
       "<style scoped>\n",
       "    .dataframe tbody tr th:only-of-type {\n",
       "        vertical-align: middle;\n",
       "    }\n",
       "\n",
       "    .dataframe tbody tr th {\n",
       "        vertical-align: top;\n",
       "    }\n",
       "\n",
       "    .dataframe thead th {\n",
       "        text-align: right;\n",
       "    }\n",
       "</style>\n",
       "<table border=\"1\" class=\"dataframe\">\n",
       "  <thead>\n",
       "    <tr style=\"text-align: right;\">\n",
       "      <th></th>\n",
       "      <th>2008</th>\n",
       "      <th>2009</th>\n",
       "      <th>2010</th>\n",
       "      <th>2011</th>\n",
       "      <th>2012</th>\n",
       "      <th>2013</th>\n",
       "      <th>2014</th>\n",
       "      <th>2015</th>\n",
       "      <th>2016</th>\n",
       "      <th>2017</th>\n",
       "      <th>Average</th>\n",
       "    </tr>\n",
       "    <tr>\n",
       "      <th>State</th>\n",
       "      <th></th>\n",
       "      <th></th>\n",
       "      <th></th>\n",
       "      <th></th>\n",
       "      <th></th>\n",
       "      <th></th>\n",
       "      <th></th>\n",
       "      <th></th>\n",
       "      <th></th>\n",
       "      <th></th>\n",
       "      <th></th>\n",
       "    </tr>\n",
       "  </thead>\n",
       "  <tbody>\n",
       "    <tr>\n",
       "      <th>AL</th>\n",
       "      <td>218.23</td>\n",
       "      <td>193.58</td>\n",
       "      <td>195.18</td>\n",
       "      <td>182.83</td>\n",
       "      <td>157.74</td>\n",
       "      <td>124.47</td>\n",
       "      <td>123.08</td>\n",
       "      <td>118.82</td>\n",
       "      <td>26.65</td>\n",
       "      <td>6.02</td>\n",
       "      <td>134.660</td>\n",
       "    </tr>\n",
       "    <tr>\n",
       "      <th>AK</th>\n",
       "      <td>1971.80</td>\n",
       "      <td>1259.61</td>\n",
       "      <td>1290.98</td>\n",
       "      <td>1286.19</td>\n",
       "      <td>1267.98</td>\n",
       "      <td>1199.18</td>\n",
       "      <td>1172.37</td>\n",
       "      <td>1202.26</td>\n",
       "      <td>248.14</td>\n",
       "      <td>171.48</td>\n",
       "      <td>1106.999</td>\n",
       "    </tr>\n",
       "    <tr>\n",
       "      <th>AZ</th>\n",
       "      <td>3.28</td>\n",
       "      <td>2.71</td>\n",
       "      <td>2.11</td>\n",
       "      <td>1.23</td>\n",
       "      <td>0.50</td>\n",
       "      <td>0.30</td>\n",
       "      <td>0.21</td>\n",
       "      <td>0.19</td>\n",
       "      <td>0.16</td>\n",
       "      <td>0.13</td>\n",
       "      <td>1.082</td>\n",
       "    </tr>\n",
       "    <tr>\n",
       "      <th>AR</th>\n",
       "      <td>120.87</td>\n",
       "      <td>104.01</td>\n",
       "      <td>82.15</td>\n",
       "      <td>79.02</td>\n",
       "      <td>65.94</td>\n",
       "      <td>63.29</td>\n",
       "      <td>62.15</td>\n",
       "      <td>47.72</td>\n",
       "      <td>16.75</td>\n",
       "      <td>14.54</td>\n",
       "      <td>65.644</td>\n",
       "    </tr>\n",
       "    <tr>\n",
       "      <th>CA</th>\n",
       "      <td>1.27</td>\n",
       "      <td>1.17</td>\n",
       "      <td>1.00</td>\n",
       "      <td>0.83</td>\n",
       "      <td>0.65</td>\n",
       "      <td>0.42</td>\n",
       "      <td>0.22</td>\n",
       "      <td>0.17</td>\n",
       "      <td>0.13</td>\n",
       "      <td>0.11</td>\n",
       "      <td>0.597</td>\n",
       "    </tr>\n",
       "  </tbody>\n",
       "</table>\n",
       "</div>"
      ],
      "text/plain": [
       "          2008     2009     2010     2011     2012     2013     2014     2015  \\\n",
       "State                                                                           \n",
       "AL      218.23   193.58   195.18   182.83   157.74   124.47   123.08   118.82   \n",
       "AK     1971.80  1259.61  1290.98  1286.19  1267.98  1199.18  1172.37  1202.26   \n",
       "AZ        3.28     2.71     2.11     1.23     0.50     0.30     0.21     0.19   \n",
       "AR      120.87   104.01    82.15    79.02    65.94    63.29    62.15    47.72   \n",
       "CA        1.27     1.17     1.00     0.83     0.65     0.42     0.22     0.17   \n",
       "\n",
       "         2016    2017   Average  \n",
       "State                            \n",
       "AL      26.65    6.02   134.660  \n",
       "AK     248.14  171.48  1106.999  \n",
       "AZ       0.16    0.13     1.082  \n",
       "AR      16.75   14.54    65.644  \n",
       "CA       0.13    0.11     0.597  "
      ]
     },
     "execution_count": 43,
     "metadata": {},
     "output_type": "execute_result"
    }
   ],
   "source": [
    "##Calculate the average emission vs consumption across all of the years for each state\n",
    "percent_df[\"Average\"] = percent_df.mean(axis=1)\n",
    "percent_df.head()"
   ]
  },
  {
   "cell_type": "code",
   "execution_count": 44,
   "metadata": {},
   "outputs": [],
   "source": [
    "##Sort by the average\n",
    "percent_df = percent_df.sort_values('Average')\n",
    "percent_df.head()\n",
    "lowest_emis_to_con = percent_df.head()\n",
    "highest_emis_to_con = percent_df.tail()"
   ]
  },
  {
   "cell_type": "code",
   "execution_count": 45,
   "metadata": {},
   "outputs": [
    {
     "data": {
      "text/html": [
       "<div>\n",
       "<style scoped>\n",
       "    .dataframe tbody tr th:only-of-type {\n",
       "        vertical-align: middle;\n",
       "    }\n",
       "\n",
       "    .dataframe tbody tr th {\n",
       "        vertical-align: top;\n",
       "    }\n",
       "\n",
       "    .dataframe thead th {\n",
       "        text-align: right;\n",
       "    }\n",
       "</style>\n",
       "<table border=\"1\" class=\"dataframe\">\n",
       "  <thead>\n",
       "    <tr style=\"text-align: right;\">\n",
       "      <th></th>\n",
       "      <th>2008</th>\n",
       "      <th>2009</th>\n",
       "      <th>2010</th>\n",
       "      <th>2011</th>\n",
       "      <th>2012</th>\n",
       "      <th>2013</th>\n",
       "      <th>2014</th>\n",
       "      <th>2015</th>\n",
       "      <th>2016</th>\n",
       "      <th>2017</th>\n",
       "      <th>Average</th>\n",
       "    </tr>\n",
       "    <tr>\n",
       "      <th>State</th>\n",
       "      <th></th>\n",
       "      <th></th>\n",
       "      <th></th>\n",
       "      <th></th>\n",
       "      <th></th>\n",
       "      <th></th>\n",
       "      <th></th>\n",
       "      <th></th>\n",
       "      <th></th>\n",
       "      <th></th>\n",
       "      <th></th>\n",
       "    </tr>\n",
       "  </thead>\n",
       "  <tbody>\n",
       "    <tr>\n",
       "      <th>HI</th>\n",
       "      <td>1.07</td>\n",
       "      <td>0.93</td>\n",
       "      <td>0.82</td>\n",
       "      <td>0.68</td>\n",
       "      <td>0.44</td>\n",
       "      <td>0.30</td>\n",
       "      <td>0.24</td>\n",
       "      <td>0.22</td>\n",
       "      <td>0.19</td>\n",
       "      <td>0.14</td>\n",
       "      <td>0.503</td>\n",
       "    </tr>\n",
       "    <tr>\n",
       "      <th>CA</th>\n",
       "      <td>1.27</td>\n",
       "      <td>1.17</td>\n",
       "      <td>1.00</td>\n",
       "      <td>0.83</td>\n",
       "      <td>0.65</td>\n",
       "      <td>0.42</td>\n",
       "      <td>0.22</td>\n",
       "      <td>0.17</td>\n",
       "      <td>0.13</td>\n",
       "      <td>0.11</td>\n",
       "      <td>0.597</td>\n",
       "    </tr>\n",
       "    <tr>\n",
       "      <th>NV</th>\n",
       "      <td>1.54</td>\n",
       "      <td>1.38</td>\n",
       "      <td>1.11</td>\n",
       "      <td>0.79</td>\n",
       "      <td>0.57</td>\n",
       "      <td>0.41</td>\n",
       "      <td>0.32</td>\n",
       "      <td>0.19</td>\n",
       "      <td>0.11</td>\n",
       "      <td>0.08</td>\n",
       "      <td>0.650</td>\n",
       "    </tr>\n",
       "    <tr>\n",
       "      <th>FL</th>\n",
       "      <td>1.01</td>\n",
       "      <td>0.96</td>\n",
       "      <td>0.98</td>\n",
       "      <td>0.88</td>\n",
       "      <td>0.81</td>\n",
       "      <td>0.78</td>\n",
       "      <td>0.76</td>\n",
       "      <td>0.77</td>\n",
       "      <td>0.74</td>\n",
       "      <td>0.60</td>\n",
       "      <td>0.829</td>\n",
       "    </tr>\n",
       "    <tr>\n",
       "      <th>AZ</th>\n",
       "      <td>3.28</td>\n",
       "      <td>2.71</td>\n",
       "      <td>2.11</td>\n",
       "      <td>1.23</td>\n",
       "      <td>0.50</td>\n",
       "      <td>0.30</td>\n",
       "      <td>0.21</td>\n",
       "      <td>0.19</td>\n",
       "      <td>0.16</td>\n",
       "      <td>0.13</td>\n",
       "      <td>1.082</td>\n",
       "    </tr>\n",
       "  </tbody>\n",
       "</table>\n",
       "</div>"
      ],
      "text/plain": [
       "       2008  2009  2010  2011  2012  2013  2014  2015  2016  2017  Average\n",
       "State                                                                     \n",
       "HI     1.07  0.93  0.82  0.68  0.44  0.30  0.24  0.22  0.19  0.14    0.503\n",
       "CA     1.27  1.17  1.00  0.83  0.65  0.42  0.22  0.17  0.13  0.11    0.597\n",
       "NV     1.54  1.38  1.11  0.79  0.57  0.41  0.32  0.19  0.11  0.08    0.650\n",
       "FL     1.01  0.96  0.98  0.88  0.81  0.78  0.76  0.77  0.74  0.60    0.829\n",
       "AZ     3.28  2.71  2.11  1.23  0.50  0.30  0.21  0.19  0.16  0.13    1.082"
      ]
     },
     "execution_count": 45,
     "metadata": {},
     "output_type": "execute_result"
    }
   ],
   "source": [
    "lowest_emis_to_con\n"
   ]
  },
  {
   "cell_type": "code",
   "execution_count": 46,
   "metadata": {},
   "outputs": [
    {
     "data": {
      "text/html": [
       "<div>\n",
       "<style scoped>\n",
       "    .dataframe tbody tr th:only-of-type {\n",
       "        vertical-align: middle;\n",
       "    }\n",
       "\n",
       "    .dataframe tbody tr th {\n",
       "        vertical-align: top;\n",
       "    }\n",
       "\n",
       "    .dataframe thead th {\n",
       "        text-align: right;\n",
       "    }\n",
       "</style>\n",
       "<table border=\"1\" class=\"dataframe\">\n",
       "  <thead>\n",
       "    <tr style=\"text-align: right;\">\n",
       "      <th></th>\n",
       "      <th>2008</th>\n",
       "      <th>2009</th>\n",
       "      <th>2010</th>\n",
       "      <th>2011</th>\n",
       "      <th>2012</th>\n",
       "      <th>2013</th>\n",
       "      <th>2014</th>\n",
       "      <th>2015</th>\n",
       "      <th>2016</th>\n",
       "      <th>2017</th>\n",
       "      <th>Average</th>\n",
       "    </tr>\n",
       "    <tr>\n",
       "      <th>State</th>\n",
       "      <th></th>\n",
       "      <th></th>\n",
       "      <th></th>\n",
       "      <th></th>\n",
       "      <th></th>\n",
       "      <th></th>\n",
       "      <th></th>\n",
       "      <th></th>\n",
       "      <th></th>\n",
       "      <th></th>\n",
       "      <th></th>\n",
       "    </tr>\n",
       "  </thead>\n",
       "  <tbody>\n",
       "    <tr>\n",
       "      <th>OK</th>\n",
       "      <td>463.93</td>\n",
       "      <td>422.37</td>\n",
       "      <td>404.99</td>\n",
       "      <td>345.23</td>\n",
       "      <td>289.43</td>\n",
       "      <td>214.58</td>\n",
       "      <td>212.93</td>\n",
       "      <td>141.53</td>\n",
       "      <td>83.95</td>\n",
       "      <td>24.43</td>\n",
       "      <td>260.337</td>\n",
       "    </tr>\n",
       "    <tr>\n",
       "      <th>MS</th>\n",
       "      <td>536.30</td>\n",
       "      <td>502.13</td>\n",
       "      <td>500.62</td>\n",
       "      <td>354.27</td>\n",
       "      <td>344.72</td>\n",
       "      <td>177.44</td>\n",
       "      <td>181.89</td>\n",
       "      <td>223.79</td>\n",
       "      <td>93.81</td>\n",
       "      <td>7.51</td>\n",
       "      <td>292.248</td>\n",
       "    </tr>\n",
       "    <tr>\n",
       "      <th>WY</th>\n",
       "      <td>1336.30</td>\n",
       "      <td>1589.59</td>\n",
       "      <td>1085.81</td>\n",
       "      <td>1065.91</td>\n",
       "      <td>441.60</td>\n",
       "      <td>284.84</td>\n",
       "      <td>272.84</td>\n",
       "      <td>235.41</td>\n",
       "      <td>184.25</td>\n",
       "      <td>135.59</td>\n",
       "      <td>663.214</td>\n",
       "    </tr>\n",
       "    <tr>\n",
       "      <th>ND</th>\n",
       "      <td>1769.75</td>\n",
       "      <td>1290.76</td>\n",
       "      <td>1311.48</td>\n",
       "      <td>1348.01</td>\n",
       "      <td>938.47</td>\n",
       "      <td>813.41</td>\n",
       "      <td>842.27</td>\n",
       "      <td>823.01</td>\n",
       "      <td>780.49</td>\n",
       "      <td>807.53</td>\n",
       "      <td>1072.518</td>\n",
       "    </tr>\n",
       "    <tr>\n",
       "      <th>AK</th>\n",
       "      <td>1971.80</td>\n",
       "      <td>1259.61</td>\n",
       "      <td>1290.98</td>\n",
       "      <td>1286.19</td>\n",
       "      <td>1267.98</td>\n",
       "      <td>1199.18</td>\n",
       "      <td>1172.37</td>\n",
       "      <td>1202.26</td>\n",
       "      <td>248.14</td>\n",
       "      <td>171.48</td>\n",
       "      <td>1106.999</td>\n",
       "    </tr>\n",
       "  </tbody>\n",
       "</table>\n",
       "</div>"
      ],
      "text/plain": [
       "          2008     2009     2010     2011     2012     2013     2014     2015  \\\n",
       "State                                                                           \n",
       "OK      463.93   422.37   404.99   345.23   289.43   214.58   212.93   141.53   \n",
       "MS      536.30   502.13   500.62   354.27   344.72   177.44   181.89   223.79   \n",
       "WY     1336.30  1589.59  1085.81  1065.91   441.60   284.84   272.84   235.41   \n",
       "ND     1769.75  1290.76  1311.48  1348.01   938.47   813.41   842.27   823.01   \n",
       "AK     1971.80  1259.61  1290.98  1286.19  1267.98  1199.18  1172.37  1202.26   \n",
       "\n",
       "         2016    2017   Average  \n",
       "State                            \n",
       "OK      83.95   24.43   260.337  \n",
       "MS      93.81    7.51   292.248  \n",
       "WY     184.25  135.59   663.214  \n",
       "ND     780.49  807.53  1072.518  \n",
       "AK     248.14  171.48  1106.999  "
      ]
     },
     "execution_count": 46,
     "metadata": {},
     "output_type": "execute_result"
    }
   ],
   "source": [
    "highest_emis_to_con"
   ]
  },
  {
   "cell_type": "code",
   "execution_count": 47,
   "metadata": {},
   "outputs": [
    {
     "data": {
      "text/plain": [
       "State\n",
       "HI       0.503\n",
       "CA       0.597\n",
       "NV       0.650\n",
       "FL       0.829\n",
       "AZ       1.082\n",
       "NJ       1.516\n",
       "OR       1.999\n",
       "CT       2.254\n",
       "VT       2.760\n",
       "CO       3.703\n",
       "DC       4.106\n",
       "NY       6.018\n",
       "MA       6.085\n",
       "DE       6.508\n",
       "NM       7.995\n",
       "RI       8.599\n",
       "ME       8.686\n",
       "NH      12.919\n",
       "PA      14.173\n",
       "IL      14.757\n",
       "VA      15.804\n",
       "NC      16.175\n",
       "MD      18.014\n",
       "GA      23.523\n",
       "MI      24.698\n",
       "WI      25.850\n",
       "MN      28.720\n",
       "WA      29.781\n",
       "ID      36.567\n",
       "OH      40.349\n",
       "TX      42.676\n",
       "UT      47.604\n",
       "MT      58.092\n",
       "AR      65.644\n",
       "IN      85.596\n",
       "LA     108.561\n",
       "TN     113.949\n",
       "SC     128.007\n",
       "AL     134.660\n",
       "NE     135.602\n",
       "KY     135.978\n",
       "WV     145.144\n",
       "MO     160.026\n",
       "IA     161.583\n",
       "KS     169.592\n",
       "SD     222.446\n",
       "OK     260.337\n",
       "MS     292.248\n",
       "WY     663.214\n",
       "ND    1072.518\n",
       "AK    1106.999\n",
       "Name: Average, dtype: float64"
      ]
     },
     "execution_count": 47,
     "metadata": {},
     "output_type": "execute_result"
    }
   ],
   "source": [
    "##Create Groups by emission to consumption percentages for comparision\n",
    "percent_df[\"Average\"]"
   ]
  },
  {
   "cell_type": "code",
   "execution_count": 48,
   "metadata": {},
   "outputs": [
    {
     "data": {
      "text/html": [
       "<div>\n",
       "<style scoped>\n",
       "    .dataframe tbody tr th:only-of-type {\n",
       "        vertical-align: middle;\n",
       "    }\n",
       "\n",
       "    .dataframe tbody tr th {\n",
       "        vertical-align: top;\n",
       "    }\n",
       "\n",
       "    .dataframe thead th {\n",
       "        text-align: right;\n",
       "    }\n",
       "</style>\n",
       "<table border=\"1\" class=\"dataframe\">\n",
       "  <thead>\n",
       "    <tr style=\"text-align: right;\">\n",
       "      <th></th>\n",
       "      <th>2008</th>\n",
       "      <th>2009</th>\n",
       "      <th>2010</th>\n",
       "      <th>2011</th>\n",
       "      <th>2012</th>\n",
       "      <th>2013</th>\n",
       "      <th>2014</th>\n",
       "      <th>2015</th>\n",
       "      <th>2016</th>\n",
       "      <th>2017</th>\n",
       "      <th>Average</th>\n",
       "      <th>Category</th>\n",
       "    </tr>\n",
       "    <tr>\n",
       "      <th>State</th>\n",
       "      <th></th>\n",
       "      <th></th>\n",
       "      <th></th>\n",
       "      <th></th>\n",
       "      <th></th>\n",
       "      <th></th>\n",
       "      <th></th>\n",
       "      <th></th>\n",
       "      <th></th>\n",
       "      <th></th>\n",
       "      <th></th>\n",
       "      <th></th>\n",
       "    </tr>\n",
       "  </thead>\n",
       "  <tbody>\n",
       "    <tr>\n",
       "      <th>HI</th>\n",
       "      <td>1.07</td>\n",
       "      <td>0.93</td>\n",
       "      <td>0.82</td>\n",
       "      <td>0.68</td>\n",
       "      <td>0.44</td>\n",
       "      <td>0.30</td>\n",
       "      <td>0.24</td>\n",
       "      <td>0.22</td>\n",
       "      <td>0.19</td>\n",
       "      <td>0.14</td>\n",
       "      <td>0.503</td>\n",
       "      <td>Low Emis %</td>\n",
       "    </tr>\n",
       "    <tr>\n",
       "      <th>CA</th>\n",
       "      <td>1.27</td>\n",
       "      <td>1.17</td>\n",
       "      <td>1.00</td>\n",
       "      <td>0.83</td>\n",
       "      <td>0.65</td>\n",
       "      <td>0.42</td>\n",
       "      <td>0.22</td>\n",
       "      <td>0.17</td>\n",
       "      <td>0.13</td>\n",
       "      <td>0.11</td>\n",
       "      <td>0.597</td>\n",
       "      <td>Low Emis %</td>\n",
       "    </tr>\n",
       "    <tr>\n",
       "      <th>NV</th>\n",
       "      <td>1.54</td>\n",
       "      <td>1.38</td>\n",
       "      <td>1.11</td>\n",
       "      <td>0.79</td>\n",
       "      <td>0.57</td>\n",
       "      <td>0.41</td>\n",
       "      <td>0.32</td>\n",
       "      <td>0.19</td>\n",
       "      <td>0.11</td>\n",
       "      <td>0.08</td>\n",
       "      <td>0.650</td>\n",
       "      <td>Low Emis %</td>\n",
       "    </tr>\n",
       "    <tr>\n",
       "      <th>FL</th>\n",
       "      <td>1.01</td>\n",
       "      <td>0.96</td>\n",
       "      <td>0.98</td>\n",
       "      <td>0.88</td>\n",
       "      <td>0.81</td>\n",
       "      <td>0.78</td>\n",
       "      <td>0.76</td>\n",
       "      <td>0.77</td>\n",
       "      <td>0.74</td>\n",
       "      <td>0.60</td>\n",
       "      <td>0.829</td>\n",
       "      <td>Low Emis %</td>\n",
       "    </tr>\n",
       "    <tr>\n",
       "      <th>AZ</th>\n",
       "      <td>3.28</td>\n",
       "      <td>2.71</td>\n",
       "      <td>2.11</td>\n",
       "      <td>1.23</td>\n",
       "      <td>0.50</td>\n",
       "      <td>0.30</td>\n",
       "      <td>0.21</td>\n",
       "      <td>0.19</td>\n",
       "      <td>0.16</td>\n",
       "      <td>0.13</td>\n",
       "      <td>1.082</td>\n",
       "      <td>Low Emis %</td>\n",
       "    </tr>\n",
       "  </tbody>\n",
       "</table>\n",
       "</div>"
      ],
      "text/plain": [
       "       2008  2009  2010  2011  2012  2013  2014  2015  2016  2017  Average  \\\n",
       "State                                                                        \n",
       "HI     1.07  0.93  0.82  0.68  0.44  0.30  0.24  0.22  0.19  0.14    0.503   \n",
       "CA     1.27  1.17  1.00  0.83  0.65  0.42  0.22  0.17  0.13  0.11    0.597   \n",
       "NV     1.54  1.38  1.11  0.79  0.57  0.41  0.32  0.19  0.11  0.08    0.650   \n",
       "FL     1.01  0.96  0.98  0.88  0.81  0.78  0.76  0.77  0.74  0.60    0.829   \n",
       "AZ     3.28  2.71  2.11  1.23  0.50  0.30  0.21  0.19  0.16  0.13    1.082   \n",
       "\n",
       "         Category  \n",
       "State              \n",
       "HI     Low Emis %  \n",
       "CA     Low Emis %  \n",
       "NV     Low Emis %  \n",
       "FL     Low Emis %  \n",
       "AZ     Low Emis %  "
      ]
     },
     "execution_count": 48,
     "metadata": {},
     "output_type": "execute_result"
    }
   ],
   "source": [
    "##Separate the states into groups by emission/consumption percentages and create a new column. \n",
    "bins = [0, 10, 50, 500, 1200]\n",
    "\n",
    "group_labels = [\"Low Emis %\", \"Medium Emis %\", \"High Emis %\", \"Very High %\"]\n",
    "\n",
    "percent_df[\"Category\"] = pd.cut(percent_df[\"Average\"], bins, labels=group_labels)\n",
    "percent_df.head()"
   ]
  },
  {
   "cell_type": "code",
   "execution_count": 49,
   "metadata": {},
   "outputs": [
    {
     "name": "stdout",
     "output_type": "stream",
     "text": [
      "Category\n",
      "Low Emis %       17\n",
      "Medium Emis %    15\n",
      "High Emis %      16\n",
      "Very High %       3\n",
      "Name: Average, dtype: int64\n"
     ]
    }
   ],
   "source": [
    "##Group by the emissions to consumption percent categories\n",
    "emission_group = percent_df.groupby(\"Category\")\n",
    "\n",
    "##Find out how many in each group\n",
    "print(emission_group[\"Average\"].count())"
   ]
  },
  {
   "cell_type": "code",
   "execution_count": 50,
   "metadata": {},
   "outputs": [
    {
     "data": {
      "text/plain": [
       "<AxesSubplot:title={'center':'Average'}, xlabel='Category'>"
      ]
     },
     "execution_count": 50,
     "metadata": {},
     "output_type": "execute_result"
    },
    {
     "data": {
      "image/png": "[encoded data removed]",
      "text/plain": [
       "<Figure size 1440x720 with 1 Axes>"
      ]
     },
     "metadata": {
      "needs_background": "light"
     },
     "output_type": "display_data"
    }
   ],
   "source": [
    "#Create a boxplot to compare means of Averages\n",
    "percent_df.boxplot(\"Average\", by=\"Category\", figsize=(20,10))"
   ]
  },
  {
   "cell_type": "code",
   "execution_count": 51,
   "metadata": {},
   "outputs": [],
   "source": [
    "##Extract individual groups\n",
    "group1 = percent_df[percent_df[\"Category\"] == \"Low Emis %\"][\"Average\"]\n",
    "group2 = percent_df[percent_df[\"Category\"] == \"Medium Emis %\"][\"Average\"]\n",
    "group3 = percent_df[percent_df[\"Category\"] == \"High Emis %\"][\"Average\"]\n",
    "group4 = percent_df[percent_df[\"Category\"] == \"Very High %\"][\"Average\"]"
   ]
  },
  {
   "cell_type": "code",
   "execution_count": 52,
   "metadata": {},
   "outputs": [
    {
     "data": {
      "text/plain": [
       "F_onewayResult(statistic=204.38901374513216, pvalue=5.77959268953557e-27)"
      ]
     },
     "execution_count": 52,
     "metadata": {},
     "output_type": "execute_result"
    }
   ],
   "source": [
    "##Perform the ANOVA\n",
    "stats.f_oneway(group1, group2, group3, group4)"
   ]
  },
  {
   "cell_type": "code",
   "execution_count": null,
   "metadata": {},
   "outputs": [],
   "source": []
  }
 ],
 "metadata": {
  "kernelspec": {
   "display_name": "Python 3",
   "language": "python",
   "name": "python3"
  },
  "language_info": {
   "codemirror_mode": {
    "name": "ipython",
    "version": 3
   },
   "file_extension": ".py",
   "mimetype": "text/x-python",
   "name": "python",
   "nbconvert_exporter": "python",
   "pygments_lexer": "ipython3",
   "version": "3.6.10"
  }
 },
 "nbformat": 4,
 "nbformat_minor": 4
}
