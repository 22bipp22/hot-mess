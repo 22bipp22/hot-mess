{
 "cells": [
  {
   "cell_type": "code",
   "execution_count": 7,
   "metadata": {},
   "outputs": [],
   "source": [
    "#Import dependencies\n",
    "import json\n",
    "import requests\n",
    "import pandas as pd\n",
    "\n",
    "from config import api_key"
   ]
  },
  {
   "cell_type": "code",
   "execution_count": 8,
   "metadata": {},
   "outputs": [],
   "source": [
    "# url = \"http://api/solar/data_query/v1.json?\"\n",
    "\n",
    "# params = {\n",
    "#     \"api_key\": api_key,\n",
    "#     'lat': 29.4241,\n",
    "#     'lon': 98.4936\n",
    "    \n",
    "# }\n",
    "\n",
    "# nrel_data = requests.get(url, params=params)\n",
    "# nrel_data"
   ]
  },
  {
   "cell_type": "code",
   "execution_count": 15,
   "metadata": {},
   "outputs": [
    {
     "name": "stdout",
     "output_type": "stream",
     "text": [
      "annual:   SITE_ID    YEAR               DATEON              DATEOFF  SO2_CONC  \\\n",
      "0  HVT424  2003.0  12/31/2002 09:00:00  12/30/2003 08:00:00    40.755   \n",
      "1  PED108  2002.0  01/01/2002 09:00:00  12/31/2002 08:00:00       NaN   \n",
      "2  NCS415  2008.0  01/01/2008 09:00:00  12/30/2008 08:00:00       NaN   \n",
      "3  DCP114  2003.0  12/31/2002 09:00:00  12/30/2003 08:00:00     8.860   \n",
      "4  ROM206  2005.0  01/04/2005 09:00:00  01/03/2006 08:00:00     0.317   \n",
      "\n",
      "   SO4_CONC  NO3_CONC  HNO3_CONC  TNO3_CONC  NH4_CONC  CA_CONC  NA_CONC  \\\n",
      "0     2.447     0.101      0.118      0.217     0.135    0.040    0.495   \n",
      "1       NaN       NaN        NaN        NaN       NaN      NaN      NaN   \n",
      "2       NaN       NaN        NaN        NaN       NaN      NaN      NaN   \n",
      "3     4.724     1.421      2.741      4.118     1.815    0.269    0.100   \n",
      "4     0.559     0.184      0.543      0.718     0.229    0.078    0.020   \n",
      "\n",
      "   MG_CONC  K_CONC  CL_CONC  \n",
      "0    0.064   0.038      NaN  \n",
      "1      NaN     NaN      NaN  \n",
      "2      NaN     NaN      NaN  \n",
      "3    0.060   0.074      NaN  \n",
      "4    0.013   0.023    0.013  \n"
     ]
    }
   ],
   "source": [
    "filepath = \"input_data/Concentration - Annual.csv\"\n",
    "filepath2 = 'input_data/Concentration - Annual_columninfo.csv'\n",
    "filepath3 = 'input_data/Concentration - Annual_tableinfo.csv'\n",
    "\n",
    "epa_annual = pd.read_csv(filepath)\n",
    "epa_annual_cols = pd.read_csv(filepath2)\n",
    "epa_annual_table = pd.read_csv(filepath3)\n",
    "\n",
    "print(f\"annual: {epa_annual.head()}\")\n",
    "# print(f\"columns: {epa_annual_cols.head()}\")\n",
    "# print(f\"tables: {epa_annual_table.head()}\")\n"
   ]
  },
  {
   "cell_type": "code",
   "execution_count": null,
   "metadata": {},
   "outputs": [],
   "source": []
  }
 ],
 "metadata": {
  "kernelspec": {
   "display_name": "Python 3",
   "language": "python",
   "name": "python3"
  },
  "language_info": {
   "codemirror_mode": {
    "name": "ipython",
    "version": 3
   },
   "file_extension": ".py",
   "mimetype": "text/x-python",
   "name": "python",
   "nbconvert_exporter": "python",
   "pygments_lexer": "ipython3",
   "version": "3.6.10"
  }
 },
 "nbformat": 4,
 "nbformat_minor": 4
}
