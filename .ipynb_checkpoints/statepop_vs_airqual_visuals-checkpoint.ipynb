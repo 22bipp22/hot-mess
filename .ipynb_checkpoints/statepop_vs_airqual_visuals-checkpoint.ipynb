{
 "cells": [
  {
   "cell_type": "code",
   "execution_count": 35,
   "metadata": {},
   "outputs": [
    {
     "data": {
      "text/html": [
       "<div>\n",
       "<style scoped>\n",
       "    .dataframe tbody tr th:only-of-type {\n",
       "        vertical-align: middle;\n",
       "    }\n",
       "\n",
       "    .dataframe tbody tr th {\n",
       "        vertical-align: top;\n",
       "    }\n",
       "\n",
       "    .dataframe thead th {\n",
       "        text-align: right;\n",
       "    }\n",
       "</style>\n",
       "<table border=\"1\" class=\"dataframe\">\n",
       "  <thead>\n",
       "    <tr style=\"text-align: right;\">\n",
       "      <th></th>\n",
       "      <th>State</th>\n",
       "      <th>Population</th>\n",
       "    </tr>\n",
       "  </thead>\n",
       "  <tbody>\n",
       "    <tr>\n",
       "      <th>0</th>\n",
       "      <td>Alabama</td>\n",
       "      <td>4858979</td>\n",
       "    </tr>\n",
       "    <tr>\n",
       "      <th>1</th>\n",
       "      <td>Alaska</td>\n",
       "      <td>738432</td>\n",
       "    </tr>\n",
       "    <tr>\n",
       "      <th>2</th>\n",
       "      <td>Arizona</td>\n",
       "      <td>6828065</td>\n",
       "    </tr>\n",
       "    <tr>\n",
       "      <th>3</th>\n",
       "      <td>Arkansas</td>\n",
       "      <td>2978204</td>\n",
       "    </tr>\n",
       "    <tr>\n",
       "      <th>4</th>\n",
       "      <td>California</td>\n",
       "      <td>39144818</td>\n",
       "    </tr>\n",
       "  </tbody>\n",
       "</table>\n",
       "</div>"
      ],
      "text/plain": [
       "        State  Population\n",
       "0     Alabama     4858979\n",
       "1      Alaska      738432\n",
       "2     Arizona     6828065\n",
       "3    Arkansas     2978204\n",
       "4  California    39144818"
      ]
     },
     "execution_count": 35,
     "metadata": {},
     "output_type": "execute_result"
    }
   ],
   "source": [
    "import numpy as np\n",
    "import pandas as pd\n",
    "import matplotlib.pyplot as plt\n",
    "import requests\n",
    "import gmaps\n",
    "import os\n",
    "\n",
    "# Import API key\n",
    "from api_keys import g_key\n",
    "gmaps.configure(api_key=g_key)\n",
    "\n",
    "\n",
    "# Max population of a state is 39,144,818; We will set the max value for our plot to 40000000\n",
    "population_csv = pd.read_csv('Census Data/state_population_data.csv', usecols = ['State','Population'])\n",
    "clean_pop = population_csv.dropna(axis=\"rows\", how=\"any\", inplace=True)\n",
    "population_csv.head()"
   ]
  },
  {
   "cell_type": "code",
   "execution_count": 34,
   "metadata": {},
   "outputs": [
    {
     "data": {
      "text/html": [
       "<div>\n",
       "<style scoped>\n",
       "    .dataframe tbody tr th:only-of-type {\n",
       "        vertical-align: middle;\n",
       "    }\n",
       "\n",
       "    .dataframe tbody tr th {\n",
       "        vertical-align: top;\n",
       "    }\n",
       "\n",
       "    .dataframe thead th {\n",
       "        text-align: right;\n",
       "    }\n",
       "</style>\n",
       "<table border=\"1\" class=\"dataframe\">\n",
       "  <thead>\n",
       "    <tr style=\"text-align: right;\">\n",
       "      <th></th>\n",
       "      <th>State</th>\n",
       "      <th>2008</th>\n",
       "      <th>2009</th>\n",
       "      <th>2010</th>\n",
       "      <th>2011</th>\n",
       "      <th>2012</th>\n",
       "      <th>2013</th>\n",
       "      <th>2014</th>\n",
       "      <th>2015</th>\n",
       "      <th>2016</th>\n",
       "      <th>2017</th>\n",
       "    </tr>\n",
       "  </thead>\n",
       "  <tbody>\n",
       "    <tr>\n",
       "      <th>0</th>\n",
       "      <td>AL</td>\n",
       "      <td>139.666603</td>\n",
       "      <td>120.020443</td>\n",
       "      <td>132.722932</td>\n",
       "      <td>129.812612</td>\n",
       "      <td>123.039324</td>\n",
       "      <td>120.732885</td>\n",
       "      <td>123.080771</td>\n",
       "      <td>120.012608</td>\n",
       "      <td>114.872696</td>\n",
       "      <td>109.018634</td>\n",
       "    </tr>\n",
       "    <tr>\n",
       "      <th>1</th>\n",
       "      <td>AK</td>\n",
       "      <td>39.435905</td>\n",
       "      <td>37.788246</td>\n",
       "      <td>38.729384</td>\n",
       "      <td>38.585774</td>\n",
       "      <td>38.039447</td>\n",
       "      <td>35.975289</td>\n",
       "      <td>35.171091</td>\n",
       "      <td>36.067852</td>\n",
       "      <td>34.739390</td>\n",
       "      <td>34.295441</td>\n",
       "    </tr>\n",
       "    <tr>\n",
       "      <th>2</th>\n",
       "      <td>AZ</td>\n",
       "      <td>102.125070</td>\n",
       "      <td>93.252826</td>\n",
       "      <td>95.204594</td>\n",
       "      <td>93.282044</td>\n",
       "      <td>91.256850</td>\n",
       "      <td>95.060822</td>\n",
       "      <td>93.120620</td>\n",
       "      <td>90.856296</td>\n",
       "      <td>86.971877</td>\n",
       "      <td>86.137839</td>\n",
       "    </tr>\n",
       "    <tr>\n",
       "      <th>3</th>\n",
       "      <td>AR</td>\n",
       "      <td>64.059757</td>\n",
       "      <td>61.367031</td>\n",
       "      <td>65.723403</td>\n",
       "      <td>67.168798</td>\n",
       "      <td>65.940126</td>\n",
       "      <td>68.354108</td>\n",
       "      <td>68.985869</td>\n",
       "      <td>59.176044</td>\n",
       "      <td>62.319791</td>\n",
       "      <td>64.277677</td>\n",
       "    </tr>\n",
       "    <tr>\n",
       "      <th>4</th>\n",
       "      <td>CA</td>\n",
       "      <td>379.480916</td>\n",
       "      <td>366.184902</td>\n",
       "      <td>360.953079</td>\n",
       "      <td>346.864178</td>\n",
       "      <td>351.496006</td>\n",
       "      <td>354.219000</td>\n",
       "      <td>351.477053</td>\n",
       "      <td>359.290429</td>\n",
       "      <td>359.261859</td>\n",
       "      <td>360.913489</td>\n",
       "    </tr>\n",
       "  </tbody>\n",
       "</table>\n",
       "</div>"
      ],
      "text/plain": [
       "  State        2008        2009        2010        2011        2012  \\\n",
       "0    AL  139.666603  120.020443  132.722932  129.812612  123.039324   \n",
       "1    AK   39.435905   37.788246   38.729384   38.585774   38.039447   \n",
       "2    AZ  102.125070   93.252826   95.204594   93.282044   91.256850   \n",
       "3    AR   64.059757   61.367031   65.723403   67.168798   65.940126   \n",
       "4    CA  379.480916  366.184902  360.953079  346.864178  351.496006   \n",
       "\n",
       "         2013        2014        2015        2016        2017  \n",
       "0  120.732885  123.080771  120.012608  114.872696  109.018634  \n",
       "1   35.975289   35.171091   36.067852   34.739390   34.295441  \n",
       "2   95.060822   93.120620   90.856296   86.971877   86.137839  \n",
       "3   68.354108   68.985869   59.176044   62.319791   64.277677  \n",
       "4  354.219000  351.477053  359.290429  359.261859  360.913489  "
      ]
     },
     "execution_count": 34,
     "metadata": {},
     "output_type": "execute_result"
    }
   ],
   "source": [
    "emissions_csv = pd.read_csv('input_data/emissions.csv')\n",
    "clean_emissions = emissions_csv.dropna(axis=\"rows\", how=\"any\", inplace=True)\n",
    "emissions_csv.head()"
   ]
  },
  {
   "cell_type": "code",
   "execution_count": 46,
   "metadata": {},
   "outputs": [
    {
     "data": {
      "text/plain": [
       "<function matplotlib.pyplot.show(*args, **kw)>"
      ]
     },
     "execution_count": 46,
     "metadata": {},
     "output_type": "execute_result"
    },
    {
     "data": {
      "image/png": "[encoded data removed]",
      "text/plain": [
       "<Figure size 432x288 with 1 Axes>"
      ]
     },
     "metadata": {
      "needs_background": "light"
     },
     "output_type": "display_data"
    }
   ],
   "source": [
    "x_axis = population_csv['State']\n",
    "data = population_csv['Population']\n",
    "plt.bar(x_axis, data, color='g', alpha=0.75)\n",
    "plt.ylim(0, 40000000, 200000)\n",
    "tick_locations = [value for value in x_axis]\n",
    "plt.xticks(tick_locations, rotation = 90, ha=\"right\")\n",
    "plt.show"
   ]
  },
  {
   "cell_type": "code",
   "execution_count": null,
   "metadata": {},
   "outputs": [],
   "source": []
  }
 ],
 "metadata": {
  "kernelspec": {
   "display_name": "Python 3",
   "language": "python",
   "name": "python3"
  },
  "language_info": {
   "codemirror_mode": {
    "name": "ipython",
    "version": 3
   },
   "file_extension": ".py",
   "mimetype": "text/x-python",
   "name": "python",
   "nbconvert_exporter": "python",
   "pygments_lexer": "ipython3",
   "version": "3.7.6"
  }
 },
 "nbformat": 4,
 "nbformat_minor": 4
}
