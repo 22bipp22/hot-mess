{
 "cells": [
  {
   "cell_type": "markdown",
   "metadata": {},
   "source": [
    "# Solar Production vs CO2 Emissions"
   ]
  },
  {
   "cell_type": "markdown",
   "metadata": {},
   "source": [
    "Need to determine hypothesis"
   ]
  },
  {
   "cell_type": "code",
   "execution_count": 1,
   "metadata": {},
   "outputs": [],
   "source": [
    "## import dependencies\n",
    "import numpy as np\n",
    "import pandas as pd\n",
    "from matplotlib import pyplot as plt\n",
    "import scipy.stats as stats"
   ]
  },
  {
   "cell_type": "code",
   "execution_count": 2,
   "metadata": {},
   "outputs": [],
   "source": [
    "## Import csv files\n",
    "production_csv = pd.read_csv(\"input_data/SolarProduction.csv\")\n",
    "emissions_csv = pd.read_csv(\"input_data/emissions.csv\")"
   ]
  },
  {
   "cell_type": "markdown",
   "metadata": {},
   "source": [
    "# Data Munging"
   ]
  },
  {
   "cell_type": "code",
   "execution_count": 11,
   "metadata": {},
   "outputs": [
    {
     "data": {
      "text/html": [
       "<div>\n",
       "<style scoped>\n",
       "    .dataframe tbody tr th:only-of-type {\n",
       "        vertical-align: middle;\n",
       "    }\n",
       "\n",
       "    .dataframe tbody tr th {\n",
       "        vertical-align: top;\n",
       "    }\n",
       "\n",
       "    .dataframe thead th {\n",
       "        text-align: right;\n",
       "    }\n",
       "</style>\n",
       "<table border=\"1\" class=\"dataframe\">\n",
       "  <thead>\n",
       "    <tr style=\"text-align: right;\">\n",
       "      <th></th>\n",
       "      <th>State</th>\n",
       "      <th>2008</th>\n",
       "      <th>2009</th>\n",
       "      <th>2010</th>\n",
       "      <th>2011</th>\n",
       "      <th>2012</th>\n",
       "      <th>2013</th>\n",
       "      <th>2014</th>\n",
       "      <th>2015</th>\n",
       "      <th>2016</th>\n",
       "      <th>2017</th>\n",
       "    </tr>\n",
       "  </thead>\n",
       "  <tbody>\n",
       "    <tr>\n",
       "      <th>31</th>\n",
       "      <td>OH</td>\n",
       "      <td>0</td>\n",
       "      <td>0</td>\n",
       "      <td>25696</td>\n",
       "      <td>30990.00</td>\n",
       "      <td>73274</td>\n",
       "      <td>92619.08</td>\n",
       "      <td>107816.54</td>\n",
       "      <td>112144</td>\n",
       "      <td>131116</td>\n",
       "      <td>210356</td>\n",
       "    </tr>\n",
       "    <tr>\n",
       "      <th>34</th>\n",
       "      <td>PA</td>\n",
       "      <td>350</td>\n",
       "      <td>7124</td>\n",
       "      <td>15819</td>\n",
       "      <td>46288.06</td>\n",
       "      <td>64294</td>\n",
       "      <td>126211.62</td>\n",
       "      <td>124784.84</td>\n",
       "      <td>127788</td>\n",
       "      <td>149610</td>\n",
       "      <td>139233</td>\n",
       "    </tr>\n",
       "    <tr>\n",
       "      <th>39</th>\n",
       "      <td>TX</td>\n",
       "      <td>0</td>\n",
       "      <td>0</td>\n",
       "      <td>16416</td>\n",
       "      <td>57278.00</td>\n",
       "      <td>236530</td>\n",
       "      <td>326025.86</td>\n",
       "      <td>564702.60</td>\n",
       "      <td>801518</td>\n",
       "      <td>1461620</td>\n",
       "      <td>4378254</td>\n",
       "    </tr>\n",
       "    <tr>\n",
       "      <th>43</th>\n",
       "      <td>VT</td>\n",
       "      <td>0</td>\n",
       "      <td>0</td>\n",
       "      <td>0</td>\n",
       "      <td>3630.00</td>\n",
       "      <td>10128</td>\n",
       "      <td>34586.00</td>\n",
       "      <td>47071.94</td>\n",
       "      <td>96044</td>\n",
       "      <td>118062</td>\n",
       "      <td>197602</td>\n",
       "    </tr>\n",
       "    <tr>\n",
       "      <th>44</th>\n",
       "      <td>WA</td>\n",
       "      <td>0</td>\n",
       "      <td>0</td>\n",
       "      <td>0</td>\n",
       "      <td>1680.00</td>\n",
       "      <td>1588</td>\n",
       "      <td>1524.00</td>\n",
       "      <td>1458.00</td>\n",
       "      <td>1580</td>\n",
       "      <td>1454</td>\n",
       "      <td>962</td>\n",
       "    </tr>\n",
       "  </tbody>\n",
       "</table>\n",
       "</div>"
      ],
      "text/plain": [
       "   State  2008  2009   2010      2011    2012       2013       2014    2015  \\\n",
       "31    OH     0     0  25696  30990.00   73274   92619.08  107816.54  112144   \n",
       "34    PA   350  7124  15819  46288.06   64294  126211.62  124784.84  127788   \n",
       "39    TX     0     0  16416  57278.00  236530  326025.86  564702.60  801518   \n",
       "43    VT     0     0      0   3630.00   10128   34586.00   47071.94   96044   \n",
       "44    WA     0     0      0   1680.00    1588    1524.00    1458.00    1580   \n",
       "\n",
       "       2016     2017  \n",
       "31   131116   210356  \n",
       "34   149610   139233  \n",
       "39  1461620  4378254  \n",
       "43   118062   197602  \n",
       "44     1454      962  "
      ]
     },
     "execution_count": 11,
     "metadata": {},
     "output_type": "execute_result"
    }
   ],
   "source": [
    "production_df = pd.DataFrame (production_csv)\n",
    "\n",
    "## Need production table to have the same columns as emissions\n",
    "production_df.drop([\"2018\",\"Grand Total\"], axis=1, inplace=True) \n",
    "production_df= production_df.rename(columns={\"STATE\": \"State\"})\n",
    "\n",
    "## Production data is not available for the states AK, DC, ND, NJ, and WV\n",
    "## Need to narrow production data set to the five states we are analyzing\n",
    "clean_prod_df = production_df.loc[production_df[\"State\"].isin([\"OH\", \"PA\", \"VT\", \"WA\", \"TX\"])]\n",
    "\n",
    "clean_prod_df"
   ]
  },
  {
   "cell_type": "code",
   "execution_count": 12,
   "metadata": {},
   "outputs": [
    {
     "data": {
      "text/html": [
       "<div>\n",
       "<style scoped>\n",
       "    .dataframe tbody tr th:only-of-type {\n",
       "        vertical-align: middle;\n",
       "    }\n",
       "\n",
       "    .dataframe tbody tr th {\n",
       "        vertical-align: top;\n",
       "    }\n",
       "\n",
       "    .dataframe thead th {\n",
       "        text-align: right;\n",
       "    }\n",
       "</style>\n",
       "<table border=\"1\" class=\"dataframe\">\n",
       "  <thead>\n",
       "    <tr style=\"text-align: right;\">\n",
       "      <th></th>\n",
       "      <th>State</th>\n",
       "      <th>2008</th>\n",
       "      <th>2009</th>\n",
       "      <th>2010</th>\n",
       "      <th>2011</th>\n",
       "      <th>2012</th>\n",
       "      <th>2013</th>\n",
       "      <th>2014</th>\n",
       "      <th>2015</th>\n",
       "      <th>2016</th>\n",
       "      <th>2017</th>\n",
       "    </tr>\n",
       "  </thead>\n",
       "  <tbody>\n",
       "    <tr>\n",
       "      <th>35</th>\n",
       "      <td>OH</td>\n",
       "      <td>259.915008</td>\n",
       "      <td>234.975715</td>\n",
       "      <td>247.141718</td>\n",
       "      <td>235.368188</td>\n",
       "      <td>215.376323</td>\n",
       "      <td>229.601220</td>\n",
       "      <td>231.666146</td>\n",
       "      <td>212.891632</td>\n",
       "      <td>206.407588</td>\n",
       "      <td>205.621802</td>\n",
       "    </tr>\n",
       "    <tr>\n",
       "      <th>38</th>\n",
       "      <td>PA</td>\n",
       "      <td>267.457907</td>\n",
       "      <td>242.407980</td>\n",
       "      <td>254.419583</td>\n",
       "      <td>247.126263</td>\n",
       "      <td>236.353959</td>\n",
       "      <td>246.092075</td>\n",
       "      <td>245.894238</td>\n",
       "      <td>229.691958</td>\n",
       "      <td>216.636771</td>\n",
       "      <td>216.650887</td>\n",
       "    </tr>\n",
       "    <tr>\n",
       "      <th>43</th>\n",
       "      <td>TX</td>\n",
       "      <td>643.698700</td>\n",
       "      <td>611.110086</td>\n",
       "      <td>648.818958</td>\n",
       "      <td>666.708188</td>\n",
       "      <td>662.002423</td>\n",
       "      <td>696.845756</td>\n",
       "      <td>693.485215</td>\n",
       "      <td>693.100945</td>\n",
       "      <td>695.363753</td>\n",
       "      <td>710.994283</td>\n",
       "    </tr>\n",
       "    <tr>\n",
       "      <th>45</th>\n",
       "      <td>VT</td>\n",
       "      <td>5.901652</td>\n",
       "      <td>6.132742</td>\n",
       "      <td>5.854555</td>\n",
       "      <td>5.782272</td>\n",
       "      <td>5.430809</td>\n",
       "      <td>5.720077</td>\n",
       "      <td>5.867586</td>\n",
       "      <td>6.125115</td>\n",
       "      <td>5.917026</td>\n",
       "      <td>5.833906</td>\n",
       "    </tr>\n",
       "    <tr>\n",
       "      <th>47</th>\n",
       "      <td>WA</td>\n",
       "      <td>75.157759</td>\n",
       "      <td>72.977136</td>\n",
       "      <td>73.044555</td>\n",
       "      <td>68.149752</td>\n",
       "      <td>67.912628</td>\n",
       "      <td>72.679159</td>\n",
       "      <td>71.204237</td>\n",
       "      <td>73.062390</td>\n",
       "      <td>78.443075</td>\n",
       "      <td>78.732677</td>\n",
       "    </tr>\n",
       "  </tbody>\n",
       "</table>\n",
       "</div>"
      ],
      "text/plain": [
       "   State        2008        2009        2010        2011        2012  \\\n",
       "35    OH  259.915008  234.975715  247.141718  235.368188  215.376323   \n",
       "38    PA  267.457907  242.407980  254.419583  247.126263  236.353959   \n",
       "43    TX  643.698700  611.110086  648.818958  666.708188  662.002423   \n",
       "45    VT    5.901652    6.132742    5.854555    5.782272    5.430809   \n",
       "47    WA   75.157759   72.977136   73.044555   68.149752   67.912628   \n",
       "\n",
       "          2013        2014        2015        2016        2017  \n",
       "35  229.601220  231.666146  212.891632  206.407588  205.621802  \n",
       "38  246.092075  245.894238  229.691958  216.636771  216.650887  \n",
       "43  696.845756  693.485215  693.100945  695.363753  710.994283  \n",
       "45    5.720077    5.867586    6.125115    5.917026    5.833906  \n",
       "47   72.679159   71.204237   73.062390   78.443075   78.732677  "
      ]
     },
     "execution_count": 12,
     "metadata": {},
     "output_type": "execute_result"
    }
   ],
   "source": [
    "## Need to narrow emissions data set to the five states we are analyzing'\n",
    "emissions_df = pd.DataFrame (emissions_csv)\n",
    "clean_emis_df = emissions_df.loc[emissions_df[\"State\"].isin([\"OH\", \"PA\", \"VT\", \"WA\", \"TX\"])]\n",
    "\n",
    "clean_emis_df"
   ]
  },
  {
   "cell_type": "code",
   "execution_count": 10,
   "metadata": {},
   "outputs": [
    {
     "name": "stdout",
     "output_type": "stream",
     "text": [
      "5\n",
      "5\n"
     ]
    }
   ],
   "source": [
    "## Check that length of the dataframes are the same length\n",
    "print(len(clean_prod_df))\n",
    "print(len(clean_emis_df))"
   ]
  },
  {
   "cell_type": "markdown",
   "metadata": {},
   "source": [
    "# Begin Analysis"
   ]
  },
  {
   "cell_type": "code",
   "execution_count": 15,
   "metadata": {},
   "outputs": [],
   "source": [
    "# Linear regression function\n",
    "def linear_regression(x_values,y_values):\n",
    "    (slope, intercept, rvalue, pvalue, stderr) = stats.linregress(x_values, y_values)\n",
    "    regress_values = x_values * slope + intercept\n",
    "    line_eq = \"y = \" + str(round(slope,2)) + \"x + \" + str(round(intercept,2))\n",
    "    plt.scatter(x_values, y_values)\n",
    "    plt.plot(x_values,regress_values,\"r-\")\n",
    "    return [line_eq, rvalue]\n",
    "\n",
    "# Line annotation function\n",
    "def annotate(line_eq, a, b):\n",
    "    plt.annotate(line_eq,(a,b),fontsize=15,color=\"red\")"
   ]
  },
  {
   "cell_type": "code",
   "execution_count": 17,
   "metadata": {},
   "outputs": [
    {
     "name": "stdout",
     "output_type": "stream",
     "text": [
      "The r-squared is : 0.0014766512170305429\n"
     ]
    },
    {
     "data": {
      "image/png": "[encoded data removed]",
      "text/plain": [
       "<Figure size 432x288 with 1 Axes>"
      ]
     },
     "metadata": {
      "needs_background": "light"
     },
     "output_type": "display_data"
    }
   ],
   "source": [
    "equation = linear_regression(clean_prod_df[\"2008\"], clean_emis_df[\"2008\"])\n",
    "year = \"2008\"\n",
    "annotate(equation[0], 10, 50)\n",
    "\n",
    "plt.title(f\"Solar Production vs Air Quality Linear Regression ({year})\")\n",
    "plt.xlabel(\"Solar Production\")\n",
    "plt.ylabel(\"Air Quality\")\n",
    "\n",
    "print(f\"The r-squared is : {equation[1]**2}\")\n",
    "\n",
    "##plt.savefig(\"Northern Hemisphere - Max Temp vs. Latitude Linear Regression.png\")"
   ]
  },
  {
   "cell_type": "code",
   "execution_count": null,
   "metadata": {},
   "outputs": [],
   "source": []
  }
 ],
 "metadata": {
  "kernelspec": {
   "display_name": "Python 3",
   "language": "python",
   "name": "python3"
  },
  "language_info": {
   "codemirror_mode": {
    "name": "ipython",
    "version": 3
   },
   "file_extension": ".py",
   "mimetype": "text/x-python",
   "name": "python",
   "nbconvert_exporter": "python",
   "pygments_lexer": "ipython3",
   "version": "3.7.6"
  }
 },
 "nbformat": 4,
 "nbformat_minor": 4
}
