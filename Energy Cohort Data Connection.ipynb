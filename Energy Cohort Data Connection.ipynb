{
 "cells": [
  {
   "cell_type": "code",
   "execution_count": 17,
   "metadata": {},
   "outputs": [],
   "source": [
    "#import dependencies\n",
    "\n",
    "import json\n",
    "import requests\n",
    "import pandas as pd\n",
    "\n",
    "from config import api_key"
   ]
  },
  {
   "cell_type": "code",
   "execution_count": 31,
   "metadata": {},
   "outputs": [
    {
     "data": {
      "text/plain": [
       "{'errors': [],\n",
       " 'inputs': {'city': 'Midland', 'state_abbr': 'TX'},\n",
       " 'metadata': {'version': '1.0.0'},\n",
       " 'result': {'Midland': {'similar_places': {'table': {'commercial_electric_use': {'min': 34278,\n",
       "      'avg': 228670,\n",
       "      'max': 934773},\n",
       "     'commercial_electric_expenditure': {'min': 4438,\n",
       "      'avg': 27867,\n",
       "      'max': 120371},\n",
       "     'commercial_gas_use': {'min': 39696, 'avg': 377879, 'max': 1873826},\n",
       "     'commercial_gas_expenditure': {'min': 339, 'avg': 3008, 'max': 12882},\n",
       "     'industrial_electric_use': {'min': 1801, 'avg': 129504, 'max': 1018449},\n",
       "     'industrial_electric_expenditure': {'min': 215,\n",
       "      'avg': 11539,\n",
       "      'max': 80077},\n",
       "     'industrial_gas_use': {'min': 10823, 'avg': 1340046, 'max': 55280790},\n",
       "     'industrial_gas_expenditure': {'min': 61, 'avg': 7849, 'max': 375357},\n",
       "     'residential_electric_use': {'min': 51866, 'avg': 265238, 'max': 872925},\n",
       "     'residential_electric_expenditure': {'min': 8231,\n",
       "      'avg': 37794,\n",
       "      'max': 100212},\n",
       "     'residential_gas_use': {'min': 63465, 'avg': 957609, 'max': 2312847},\n",
       "     'residential_gas_expenditure': {'min': 749, 'avg': 11393, 'max': 31482},\n",
       "     'city_fuel_use_diesel': {'min': 15000, 'avg': 6140762, 'max': 24965900},\n",
       "     'city_fuel_use_gas': {'min': 126000,\n",
       "      'avg': 30594511,\n",
       "      'max': 120869200}}}}}}"
      ]
     },
     "execution_count": 31,
     "metadata": {},
     "output_type": "execute_result"
    }
   ],
   "source": [
    "base_url = \"https://developer.nrel.gov/api/cleap/v1/energy_cohort_data?\"\n",
    "\n",
    "params = {\n",
    "    \"api_key\": api_key,\n",
    "    \"city\": \"Midland\",\n",
    "    \"state_abbr\": \"TX\"\n",
    "}\n",
    "\n",
    "response = requests.get(base_url, params = params).json()\n",
    "response"
   ]
  },
  {
   "cell_type": "code",
   "execution_count": 36,
   "metadata": {},
   "outputs": [
    {
     "data": {
      "text/plain": [
       "{'errors': [],\n",
       " 'inputs': {'city': 'San Antonio', 'state_abbr': 'TX'},\n",
       " 'metadata': {'version': '1.0.0'},\n",
       " 'result': {'San Antonio': {'residential': {'housing_units': 490706,\n",
       "    'total_pop': 1439358,\n",
       "    'elec_1kdollars': 683050,\n",
       "    'elec_mwh': 6367743,\n",
       "    'gas_1kdollars': 78258,\n",
       "    'gas_mcf': 7642157,\n",
       "    'elec_1kdollars_bin_min': 135964,\n",
       "    'elec_1kdollars_bin_max': 850853,\n",
       "    'elec_mwh_bin_min': 1118971,\n",
       "    'elec_mwh_bin_max': 10141135,\n",
       "    'gas_1kdollars_bin_min': 17994419,\n",
       "    'gas_1kdollars_bin_max': 87020908,\n",
       "    'gas_mcf_bin_min': 2015964,\n",
       "    'gas_mcf_bin_max': 13429153,\n",
       "    'elec_lb_ghg': 8526415165,\n",
       "    'elec_min_lb_ghg': 1437116550,\n",
       "    'elec_max_lb_ghg': 13578992566,\n",
       "    'gas_lb_ghg': 917385060,\n",
       "    'gas_min_lb_ghg': 242001719,\n",
       "    'gas_max_lb_ghg': 1612071631},\n",
       "   'commercial': {'num_establishments': 16701,\n",
       "    'elec_1kdollars': 443860,\n",
       "    'elec_mwh': 5290272,\n",
       "    'gas_1kdollars': 47188,\n",
       "    'gas_mcf': 8468865,\n",
       "    'elec_1kdollars_bin_min': 135964,\n",
       "    'elec_1kdollars_bin_max': 850853,\n",
       "    'elec_mwh_bin_min': 1118971,\n",
       "    'elec_mwh_bin_max': 10141135,\n",
       "    'gas_1kdollars_bin_min': 17994,\n",
       "    'gas_1kdollars_bin_max': 87021,\n",
       "    'gas_mcf_bin_min': 2015964,\n",
       "    'gas_mcf_bin_max': 13429153,\n",
       "    'elec_lb_ghg': 7083680435,\n",
       "    'elec_min_lb_ghg': 1437116550,\n",
       "    'elec_max_lb_ghg': 13578992566,\n",
       "    'gas_lb_ghg': 1016625382,\n",
       "    'gas_min_lb_ghg': 242001719,\n",
       "    'gas_max_lb_ghg': 1612071631},\n",
       "   'industrial': {'num_establishments': 6816,\n",
       "    'elec_1kdollars': 187275,\n",
       "    'elec_mwh': 3514981,\n",
       "    'gas_1kdollars': 43716,\n",
       "    'gas_mcf': 16496675,\n",
       "    'elec_1kdollars_bin_min': 16948,\n",
       "    'elec_1kdollars_bin_max': 584857,\n",
       "    'elec_mwh_bin_min': 279231,\n",
       "    'elec_mwh_bin_max': 10977249,\n",
       "    'gas_1kdollars_bin_min': 2266,\n",
       "    'gas_1kdollars_bin_max': 262684,\n",
       "    'gas_mcf_bin_min': 391291,\n",
       "    'gas_mcf_bin_max': 99126135,\n",
       "    'elec_lb_ghg': 4706564320,\n",
       "    'elec_min_lb_ghg': 358621561,\n",
       "    'elec_max_lb_ghg': 14698549422,\n",
       "    'gas_lb_ghg': 1980305243,\n",
       "    'gas_min_lb_ghg': 46971571,\n",
       "    'gas_max_lb_ghg': 11899368041}}}}"
      ]
     },
     "execution_count": 36,
     "metadata": {},
     "output_type": "execute_result"
    }
   ],
   "source": [
    "gas_stats_url = \"https://developer.nrel.gov/api/cleap/v1/energy_expenditures_and_ghg_by_sector\"\n",
    "\n",
    "params = {\n",
    "    \"api_key\": api_key,\n",
    "    \"city\": \"San Antonio\",\n",
    "    \"state_abbr\": \"TX\"\n",
    "}\n",
    "\n",
    "gas_response = requests.get(gas_stats_url, params = params).json()\n",
    "gas_response"
   ]
  },
  {
   "cell_type": "code",
   "execution_count": null,
   "metadata": {},
   "outputs": [],
   "source": []
  }
 ],
 "metadata": {
  "kernelspec": {
   "display_name": "Python [conda env:PythonData] *",
   "language": "python",
   "name": "conda-env-PythonData-py"
  },
  "language_info": {
   "codemirror_mode": {
    "name": "ipython",
    "version": 3
   },
   "file_extension": ".py",
   "mimetype": "text/x-python",
   "name": "python",
   "nbconvert_exporter": "python",
   "pygments_lexer": "ipython3",
   "version": "3.6.10"
  }
 },
 "nbformat": 4,
 "nbformat_minor": 4
}
