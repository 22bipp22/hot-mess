{
 "cells": [
  {
   "cell_type": "code",
   "execution_count": 1,
   "metadata": {},
   "outputs": [],
   "source": [
    "#import dependencies\n",
    "\n",
    "import json\n",
    "import requests\n",
    "import pandas as pd\n",
    "\n",
    "from config import api_key"
   ]
  },
  {
   "cell_type": "code",
   "execution_count": 6,
   "metadata": {},
   "outputs": [
    {
     "data": {
      "text/plain": [
       "{'version': '1.3.2',\n",
       " 'warnings': ['No intl data found for lat=29.4241 lon=-98.4936'],\n",
       " 'errors': [],\n",
       " 'metadata': {},\n",
       " 'inputs': {'lat': '29.4241', 'lon': '-98.4936'},\n",
       " 'outputs': {'tmy2': {'id': '0-12921',\n",
       "   'city': 'SAN ANTONIO',\n",
       "   'state': 'TEXAS',\n",
       "   'timezone': -6,\n",
       "   'lat': 29.533,\n",
       "   'lon': -98.467,\n",
       "   'elevation': 247,\n",
       "   'distance': 12342},\n",
       "  'tmy3': {'id': '1-722535',\n",
       "   'city': 'SAN ANTONIO KELLY FIELD AFB',\n",
       "   'state': 'TEXAS',\n",
       "   'timezone': -6,\n",
       "   'lat': 29.383,\n",
       "   'lon': -98.583,\n",
       "   'elevation': 208,\n",
       "   'distance': 9801},\n",
       "  'intl': None,\n",
       "  'nsrdb': {'id': '3-W098N029-W985N2941',\n",
       "   'city': '',\n",
       "   'state': 'Texas',\n",
       "   'country': None,\n",
       "   'lat': 29.41,\n",
       "   'lon': -98.5,\n",
       "   'distance': 1681,\n",
       "   'timezone': -6,\n",
       "   'elevation': 201,\n",
       "   'resolution': 4}}}"
      ]
     },
     "execution_count": 6,
     "metadata": {},
     "output_type": "execute_result"
    }
   ],
   "source": [
    "url = \"https://developer.nrel.gov/api/solar/data_query/v1.json?\"\n",
    "\n",
    "params = {\n",
    "    \"api_key\": api_key,\n",
    "    \"lat\": 29.4241,\n",
    "    \"lon\": -98.4936\n",
    "}\n",
    "\n",
    "nrel_data = requests.get(url, params = params)\n",
    "nrel_data.json()"
   ]
  },
  {
   "cell_type": "code",
   "execution_count": null,
   "metadata": {},
   "outputs": [],
   "source": []
  }
 ],
 "metadata": {
  "kernelspec": {
   "display_name": "Python [conda env:PythonData] *",
   "language": "python",
   "name": "conda-env-PythonData-py"
  },
  "language_info": {
   "codemirror_mode": {
    "name": "ipython",
    "version": 3
   },
   "file_extension": ".py",
   "mimetype": "text/x-python",
   "name": "python",
   "nbconvert_exporter": "python",
   "pygments_lexer": "ipython3",
   "version": "3.6.10"
  }
 },
 "nbformat": 4,
 "nbformat_minor": 4
}
